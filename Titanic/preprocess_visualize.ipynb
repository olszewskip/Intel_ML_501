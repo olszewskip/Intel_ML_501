{
 "cells": [
  {
   "cell_type": "code",
   "execution_count": 1,
   "metadata": {},
   "outputs": [],
   "source": [
    "import os\n",
    "import numpy as np\n",
    "import pandas as pd\n",
    "import matplotlib.pyplot as plt\n",
    "import re\n",
    "\n",
    "from sklearn.model_selection import train_test_split\n",
    "from sklearn.preprocessing import FunctionTransformer\n",
    "from sklearn.base import BaseEstimator, TransformerMixin\n",
    "from sklearn.preprocessing import PowerTransformer\n",
    "from sklearn.pipeline import make_pipeline, Pipeline, FeatureUnion\n",
    "from sklearn.preprocessing import MinMaxScaler\n",
    "from sklearn.compose import ColumnTransformer\n",
    "from sklearn.preprocessing import OrdinalEncoder, OneHotEncoder\n",
    "from sklearn.impute import SimpleImputer\n",
    "from sklearn.manifold import TSNE\n",
    "from sklearn.decomposition import PCA"
   ]
  },
  {
   "cell_type": "markdown",
   "metadata": {},
   "source": [
    "---\n",
    "Define some simple utilities."
   ]
  },
  {
   "cell_type": "code",
   "execution_count": 2,
   "metadata": {},
   "outputs": [],
   "source": [
    "def row_to_column(row):\n",
    "    if type(row) == type(pd.Series()):\n",
    "        return pd.DataFrame(row)\n",
    "    elif type(row) == type(np.empty(0)):\n",
    "        return row.reshape(-1,1)\n",
    "    else:\n",
    "        raise ValueError(\"row_to_column expected pandas Series or 1D numpy array\")\n",
    "        \n",
    "class Row_Flipper(BaseEstimator, TransformerMixin):\n",
    "    def __init__(self):\n",
    "        return None\n",
    "    \n",
    "    def fit(self, X, y=None):\n",
    "        return self\n",
    "        \n",
    "    def transform(self, X):\n",
    "        if len(X.shape) != 1:\n",
    "            raise ValueError('RowFlipper expected 1D object, but got argument of shape {X.shape}')\n",
    "        return row_to_column(X)"
   ]
  },
  {
   "cell_type": "markdown",
   "metadata": {},
   "source": [
    "---\n",
    "## Load in the training data.\n",
    "The test-dataset is in the same directory and is not loaded in this notebook."
   ]
  },
  {
   "cell_type": "code",
   "execution_count": 18,
   "metadata": {},
   "outputs": [],
   "source": [
    "data_trainval = pd.read_csv(os.path.join('data', 'train.csv'))"
   ]
  },
  {
   "cell_type": "markdown",
   "metadata": {},
   "source": [
    "---\n",
    "Copy the column description from\n",
    "https://www.kaggle.com/c/titanic/data\n",
    "\n",
    "Note the meaning of *SibSp* and *Parch*.\n",
    "\n",
    "\n",
    "Variable | Definition | Key\n",
    "--- | --- | ---\n",
    "survival | Survival | 0 = No, 1 = Yes\n",
    "pclass | Ticket class | 1 = 1st, 2 = 2nd, 3 = 3rd\n",
    "sex | Sex |  \t\n",
    "Age | Age in years |\n",
    "sibsp |\t# of siblings / spouses aboard the Titanic \t\n",
    "parch | # of parents / children aboard the Titanic \t\n",
    "ticket | Ticket number \t\n",
    "fare | Passenger fare \t\n",
    "cabin | Cabin number \t\n",
    "embarked | Port of Embarkation | C = Cherbourg, Q = Queenstown, S = Southampton"
   ]
  },
  {
   "cell_type": "markdown",
   "metadata": {},
   "source": [
    "---\n",
    "Have a quick look at the number of records, types of variables and the fraction and placement of missing values."
   ]
  },
  {
   "cell_type": "code",
   "execution_count": 19,
   "metadata": {},
   "outputs": [
    {
     "name": "stdout",
     "output_type": "stream",
     "text": [
      "<class 'pandas.core.frame.DataFrame'>\n",
      "RangeIndex: 891 entries, 0 to 890\n",
      "Data columns (total 12 columns):\n",
      "PassengerId    891 non-null int64\n",
      "Survived       891 non-null int64\n",
      "Pclass         891 non-null int64\n",
      "Name           891 non-null object\n",
      "Sex            891 non-null object\n",
      "Age            714 non-null float64\n",
      "SibSp          891 non-null int64\n",
      "Parch          891 non-null int64\n",
      "Ticket         891 non-null object\n",
      "Fare           891 non-null float64\n",
      "Cabin          204 non-null object\n",
      "Embarked       889 non-null object\n",
      "dtypes: float64(2), int64(5), object(5)\n",
      "memory usage: 83.6+ KB\n"
     ]
    }
   ],
   "source": [
    "data_trainval.info()"
   ]
  },
  {
   "cell_type": "markdown",
   "metadata": {},
   "source": [
    "There are no missing values in the majority of columns."
   ]
  },
  {
   "cell_type": "markdown",
   "metadata": {},
   "source": [
    "---\n",
    "## Train - val split\n",
    "Split the traininig dataset into features that will be used for classification (X_train) and the labels (y_train). Split the training set further into proper *train* and *validation* in 4:1 proportion, using stratification based on frequencies of the binary y labels."
   ]
  },
  {
   "cell_type": "code",
   "execution_count": 20,
   "metadata": {},
   "outputs": [],
   "source": [
    "X_trainval = data_trainval[data_trainval.columns.drop('Survived')]\n",
    "y_trainval = data_trainval.Survived\n",
    "\n",
    "X_train, X_val, y_train, y_val = train_test_split(X_trainval, y_trainval, test_size=0.2, stratify = y_trainval, random_state=42)"
   ]
  },
  {
   "cell_type": "code",
   "execution_count": 21,
   "metadata": {},
   "outputs": [
    {
     "data": {
      "text/plain": [
       "((712, 11), (179, 11), (712,), (179,))"
      ]
     },
     "execution_count": 21,
     "metadata": {},
     "output_type": "execute_result"
    }
   ],
   "source": [
    "X_train.shape, X_val.shape, y_train.shape, y_val.shape"
   ]
  },
  {
   "cell_type": "code",
   "execution_count": 22,
   "metadata": {},
   "outputs": [
    {
     "name": "stdout",
     "output_type": "stream",
     "text": [
      "0    0.616573\n",
      "1    0.383427\n",
      "Name: Survived, dtype: float64\n"
     ]
    },
    {
     "data": {
      "text/plain": [
       "0    0.614525\n",
       "1    0.385475\n",
       "Name: Survived, dtype: float64"
      ]
     },
     "execution_count": 22,
     "metadata": {},
     "output_type": "execute_result"
    }
   ],
   "source": [
    "print(y_train.value_counts(normalize=True))\n",
    "y_val.value_counts(normalize=True)"
   ]
  },
  {
   "cell_type": "markdown",
   "metadata": {},
   "source": [
    "---\n",
    "## Count the missing values.\n",
    "There are many in two columns: *Age* and *Cabin*, few in the *Embarked*, and none in other columns. Let's leave them for now."
   ]
  },
  {
   "cell_type": "code",
   "execution_count": 23,
   "metadata": {},
   "outputs": [
    {
     "data": {
      "text/plain": [
       "PassengerId    0.000000\n",
       "Pclass         0.000000\n",
       "Name           0.000000\n",
       "Sex            0.000000\n",
       "Age            0.192416\n",
       "SibSp          0.000000\n",
       "Parch          0.000000\n",
       "Ticket         0.000000\n",
       "Fare           0.000000\n",
       "Cabin          0.775281\n",
       "Embarked       0.002809\n",
       "dtype: float64"
      ]
     },
     "execution_count": 23,
     "metadata": {},
     "output_type": "execute_result"
    }
   ],
   "source": [
    "X_train.isnull().sum() / len(X_train)"
   ]
  },
  {
   "cell_type": "code",
   "execution_count": 24,
   "metadata": {},
   "outputs": [
    {
     "data": {
      "text/plain": [
       "2"
      ]
     },
     "execution_count": 24,
     "metadata": {},
     "output_type": "execute_result"
    }
   ],
   "source": [
    "X_train.Embarked.isnull().sum()"
   ]
  },
  {
   "cell_type": "markdown",
   "metadata": {},
   "source": [
    "---\n",
    "## Examine *PassengerId*\n",
    "PassengerId values are unique and equal to the (index + 1). Hence, we will ignore PassengerId in the analysis. The *y_train* already shares common index with *X_train*."
   ]
  },
  {
   "cell_type": "code",
   "execution_count": 25,
   "metadata": {},
   "outputs": [
    {
     "data": {
      "text/plain": [
       "True"
      ]
     },
     "execution_count": 25,
     "metadata": {},
     "output_type": "execute_result"
    }
   ],
   "source": [
    "(np.array(X_train.PassengerId) == np.array(X_train.index) + 1).all()"
   ]
  },
  {
   "cell_type": "code",
   "execution_count": 26,
   "metadata": {},
   "outputs": [],
   "source": [
    "X_train = X_train.drop('PassengerId', axis=1)"
   ]
  },
  {
   "cell_type": "markdown",
   "metadata": {},
   "source": [
    "---\n",
    "## Provisionally split the features into numerical and categorical\n",
    "Start by splitting solely based on the datatype."
   ]
  },
  {
   "cell_type": "code",
   "execution_count": 27,
   "metadata": {},
   "outputs": [
    {
     "data": {
      "text/plain": [
       "object     5\n",
       "int64      3\n",
       "float64    2\n",
       "dtype: int64"
      ]
     },
     "execution_count": 27,
     "metadata": {},
     "output_type": "execute_result"
    }
   ],
   "source": [
    "X_train.dtypes.value_counts()"
   ]
  },
  {
   "cell_type": "code",
   "execution_count": 28,
   "metadata": {},
   "outputs": [],
   "source": [
    "numerical_columns = [column for column in X_train if X_train[column].dtype in ['float64', 'int64']]\n",
    "categorical_columns = [column for column in X_train if X_train[column].dtype in ['object']]"
   ]
  },
  {
   "cell_type": "code",
   "execution_count": 31,
   "metadata": {},
   "outputs": [
    {
     "data": {
      "text/plain": [
       "['Pclass', 'Age', 'SibSp', 'Parch', 'Fare']"
      ]
     },
     "execution_count": 31,
     "metadata": {},
     "output_type": "execute_result"
    }
   ],
   "source": [
    "numerical_columns"
   ]
  },
  {
   "cell_type": "code",
   "execution_count": 32,
   "metadata": {},
   "outputs": [
    {
     "data": {
      "text/plain": [
       "['Name', 'Sex', 'Ticket', 'Cabin', 'Embarked']"
      ]
     },
     "execution_count": 32,
     "metadata": {},
     "output_type": "execute_result"
    }
   ],
   "source": [
    "categorical_columns"
   ]
  },
  {
   "cell_type": "markdown",
   "metadata": {},
   "source": [
    "We already know that *Pclass* is a dicrete variable that takes values from a three-element sequence: (3, 2, 1). It is not obvious, whether it's better to treat those values as independent categories or rather as points in a one-dimensional continous space. But the former approach seems more sensible given that there are only three values which probably corresponded to qualitatively different situations of the passangers."
   ]
  },
  {
   "cell_type": "code",
   "execution_count": 33,
   "metadata": {},
   "outputs": [],
   "source": [
    "numerical_columns.remove('Pclass')"
   ]
  },
  {
   "cell_type": "code",
   "execution_count": 34,
   "metadata": {},
   "outputs": [],
   "source": [
    "categorical_columns.append('Pclass')"
   ]
  },
  {
   "cell_type": "markdown",
   "metadata": {},
   "source": [
    "---\n",
    "---\n",
    "## Examine the numerical features"
   ]
  },
  {
   "cell_type": "code",
   "execution_count": 35,
   "metadata": {},
   "outputs": [
    {
     "data": {
      "text/html": [
       "<div>\n",
       "<style scoped>\n",
       "    .dataframe tbody tr th:only-of-type {\n",
       "        vertical-align: middle;\n",
       "    }\n",
       "\n",
       "    .dataframe tbody tr th {\n",
       "        vertical-align: top;\n",
       "    }\n",
       "\n",
       "    .dataframe thead th {\n",
       "        text-align: right;\n",
       "    }\n",
       "</style>\n",
       "<table border=\"1\" class=\"dataframe\">\n",
       "  <thead>\n",
       "    <tr style=\"text-align: right;\">\n",
       "      <th></th>\n",
       "      <th>Age</th>\n",
       "      <th>SibSp</th>\n",
       "      <th>Parch</th>\n",
       "      <th>Fare</th>\n",
       "    </tr>\n",
       "  </thead>\n",
       "  <tbody>\n",
       "    <tr>\n",
       "      <th>count</th>\n",
       "      <td>575.000000</td>\n",
       "      <td>712.000000</td>\n",
       "      <td>712.000000</td>\n",
       "      <td>712.000000</td>\n",
       "    </tr>\n",
       "    <tr>\n",
       "      <th>mean</th>\n",
       "      <td>29.807687</td>\n",
       "      <td>0.492978</td>\n",
       "      <td>0.390449</td>\n",
       "      <td>31.819826</td>\n",
       "    </tr>\n",
       "    <tr>\n",
       "      <th>std</th>\n",
       "      <td>14.485211</td>\n",
       "      <td>1.060720</td>\n",
       "      <td>0.838134</td>\n",
       "      <td>48.059104</td>\n",
       "    </tr>\n",
       "    <tr>\n",
       "      <th>min</th>\n",
       "      <td>0.420000</td>\n",
       "      <td>0.000000</td>\n",
       "      <td>0.000000</td>\n",
       "      <td>0.000000</td>\n",
       "    </tr>\n",
       "    <tr>\n",
       "      <th>25%</th>\n",
       "      <td>21.000000</td>\n",
       "      <td>0.000000</td>\n",
       "      <td>0.000000</td>\n",
       "      <td>7.895800</td>\n",
       "    </tr>\n",
       "    <tr>\n",
       "      <th>50%</th>\n",
       "      <td>28.500000</td>\n",
       "      <td>0.000000</td>\n",
       "      <td>0.000000</td>\n",
       "      <td>14.454200</td>\n",
       "    </tr>\n",
       "    <tr>\n",
       "      <th>75%</th>\n",
       "      <td>39.000000</td>\n",
       "      <td>1.000000</td>\n",
       "      <td>0.000000</td>\n",
       "      <td>31.000000</td>\n",
       "    </tr>\n",
       "    <tr>\n",
       "      <th>max</th>\n",
       "      <td>80.000000</td>\n",
       "      <td>8.000000</td>\n",
       "      <td>6.000000</td>\n",
       "      <td>512.329200</td>\n",
       "    </tr>\n",
       "  </tbody>\n",
       "</table>\n",
       "</div>"
      ],
      "text/plain": [
       "              Age       SibSp       Parch        Fare\n",
       "count  575.000000  712.000000  712.000000  712.000000\n",
       "mean    29.807687    0.492978    0.390449   31.819826\n",
       "std     14.485211    1.060720    0.838134   48.059104\n",
       "min      0.420000    0.000000    0.000000    0.000000\n",
       "25%     21.000000    0.000000    0.000000    7.895800\n",
       "50%     28.500000    0.000000    0.000000   14.454200\n",
       "75%     39.000000    1.000000    0.000000   31.000000\n",
       "max     80.000000    8.000000    6.000000  512.329200"
      ]
     },
     "execution_count": 35,
     "metadata": {},
     "output_type": "execute_result"
    }
   ],
   "source": [
    "X_train[numerical_columns].describe()"
   ]
  },
  {
   "cell_type": "code",
   "execution_count": 36,
   "metadata": {},
   "outputs": [
    {
     "data": {
      "image/png": "[encoded data removed]",
      "text/plain": [
       "<Figure size 1008x432 with 4 Axes>"
      ]
     },
     "metadata": {
      "needs_background": "light"
     },
     "output_type": "display_data"
    }
   ],
   "source": [
    "fig, axes = plt.subplots(2, 2, figsize=(14,6))\n",
    "axes = axes.flatten()\n",
    "# axes[-1].remove()\n",
    "\n",
    "for index, column in enumerate(numerical_columns):\n",
    "    X_train.hist(column=column, ax=axes[index])"
   ]
  },
  {
   "cell_type": "code",
   "execution_count": 37,
   "metadata": {},
   "outputs": [
    {
     "data": {
      "image/png": "[encoded data removed]",
      "text/plain": [
       "<Figure size 432x288 with 1 Axes>"
      ]
     },
     "metadata": {
      "needs_background": "light"
     },
     "output_type": "display_data"
    }
   ],
   "source": [
    "pd.DataFrame({'Fares below 100': X_train.Fare[X_train.Fare<100]}).hist(bins=50)\n",
    "plt.show()"
   ]
  },
  {
   "cell_type": "markdown",
   "metadata": {},
   "source": [
    "Recalling that there is a significant fraction of records with missing 'Age', and given the context of our analysis, is seems reasonable to split age into unordered categories. This way we can treat 'missing' as just another category next to 'children', 'adults' etc."
   ]
  },
  {
   "cell_type": "markdown",
   "metadata": {},
   "source": [
    "There already is a class in sklearn that serves to dicretize numerical variables (*KBinsDicretizer*) but it does not handle missing values and doesn't seem to allow for handpicked bins. Hence, it will be easier to define our own *Discretizer*. Notice that it is a stateless transformer (the *fit* methoed doen't do anything)."
   ]
  },
  {
   "cell_type": "code",
   "execution_count": 38,
   "metadata": {},
   "outputs": [],
   "source": [
    "class Discretizer(BaseEstimator, TransformerMixin):\n",
    "    \n",
    "    def __init__(self, name, tresholds, handle_missing=True):\n",
    "        \n",
    "        self.name = name\n",
    "        self.tresholds = tresholds\n",
    "        self.handle_missing = handle_missing\n",
    "        \n",
    "        self.columns = []\n",
    "        self.inf_tresholds = [-np.inf] + tresholds + [np.inf]\n",
    "        \n",
    "        for index in range(len(self.inf_tresholds) - 1):\n",
    "            self.columns.append(f\"{self.name}_({self.inf_tresholds[index]},{self.inf_tresholds[index+1]}]\")\n",
    "        if self.handle_missing:\n",
    "            self.columns.append(f\"{self.name}_missing\")\n",
    "        \n",
    "        return None\n",
    "    \n",
    "    def fit(self, X, y=None):\n",
    "        return self\n",
    "        \n",
    "    def transform(self, X):\n",
    "        \n",
    "        one_hots = np.zeros( (len(self.inf_tresholds) - 1 + int(self.handle_missing), len(X)) )\n",
    "        for index in range(len(self.inf_tresholds) - 1):\n",
    "            one_hots[index] = (X > self.inf_tresholds[index]) & (X <= self.inf_tresholds[index + 1])\n",
    "            \n",
    "        if self.handle_missing:\n",
    "            one_hots[len(self.inf_tresholds) - 1] = X.isnull()\n",
    "        elif X.isnull().any():\n",
    "            raise ValueError(\"There's NAN's in the input\")\n",
    "\n",
    "        result = pd.DataFrame(one_hots.T, columns=self.columns, index = X.index)\n",
    "            \n",
    "        return result"
   ]
  },
  {
   "cell_type": "markdown",
   "metadata": {},
   "source": [
    "Now we can do for example the following. (Note that we retain the freedom of tuning the tresholds later.)"
   ]
  },
  {
   "cell_type": "code",
   "execution_count": 39,
   "metadata": {},
   "outputs": [
    {
     "data": {
      "text/plain": [
       "527     NaN\n",
       "855    18.0\n",
       "801    31.0\n",
       "Name: Age, dtype: float64"
      ]
     },
     "execution_count": 39,
     "metadata": {},
     "output_type": "execute_result"
    }
   ],
   "source": [
    "age_discretizer = Discretizer('age', tresholds = [5, 10, 20, 30, 40, 50])\n",
    "X_train.Age[2:5]"
   ]
  },
  {
   "cell_type": "code",
   "execution_count": 40,
   "metadata": {},
   "outputs": [
    {
     "data": {
      "text/html": [
       "<div>\n",
       "<style scoped>\n",
       "    .dataframe tbody tr th:only-of-type {\n",
       "        vertical-align: middle;\n",
       "    }\n",
       "\n",
       "    .dataframe tbody tr th {\n",
       "        vertical-align: top;\n",
       "    }\n",
       "\n",
       "    .dataframe thead th {\n",
       "        text-align: right;\n",
       "    }\n",
       "</style>\n",
       "<table border=\"1\" class=\"dataframe\">\n",
       "  <thead>\n",
       "    <tr style=\"text-align: right;\">\n",
       "      <th></th>\n",
       "      <th>age_(-inf,5]</th>\n",
       "      <th>age_(5,10]</th>\n",
       "      <th>age_(10,20]</th>\n",
       "      <th>age_(20,30]</th>\n",
       "      <th>age_(30,40]</th>\n",
       "      <th>age_(40,50]</th>\n",
       "      <th>age_(50,inf]</th>\n",
       "      <th>age_missing</th>\n",
       "    </tr>\n",
       "  </thead>\n",
       "  <tbody>\n",
       "    <tr>\n",
       "      <th>527</th>\n",
       "      <td>0.0</td>\n",
       "      <td>0.0</td>\n",
       "      <td>0.0</td>\n",
       "      <td>0.0</td>\n",
       "      <td>0.0</td>\n",
       "      <td>0.0</td>\n",
       "      <td>0.0</td>\n",
       "      <td>1.0</td>\n",
       "    </tr>\n",
       "    <tr>\n",
       "      <th>855</th>\n",
       "      <td>0.0</td>\n",
       "      <td>0.0</td>\n",
       "      <td>1.0</td>\n",
       "      <td>0.0</td>\n",
       "      <td>0.0</td>\n",
       "      <td>0.0</td>\n",
       "      <td>0.0</td>\n",
       "      <td>0.0</td>\n",
       "    </tr>\n",
       "    <tr>\n",
       "      <th>801</th>\n",
       "      <td>0.0</td>\n",
       "      <td>0.0</td>\n",
       "      <td>0.0</td>\n",
       "      <td>0.0</td>\n",
       "      <td>1.0</td>\n",
       "      <td>0.0</td>\n",
       "      <td>0.0</td>\n",
       "      <td>0.0</td>\n",
       "    </tr>\n",
       "  </tbody>\n",
       "</table>\n",
       "</div>"
      ],
      "text/plain": [
       "     age_(-inf,5]  age_(5,10]  age_(10,20]  age_(20,30]  age_(30,40]  \\\n",
       "527           0.0         0.0          0.0          0.0          0.0   \n",
       "855           0.0         0.0          1.0          0.0          0.0   \n",
       "801           0.0         0.0          0.0          0.0          1.0   \n",
       "\n",
       "     age_(40,50]  age_(50,inf]  age_missing  \n",
       "527          0.0           0.0          1.0  \n",
       "855          0.0           0.0          0.0  \n",
       "801          0.0           0.0          0.0  "
      ]
     },
     "execution_count": 40,
     "metadata": {},
     "output_type": "execute_result"
    }
   ],
   "source": [
    "age_discretizer.transform(X_train.Age[2:5])"
   ]
  },
  {
   "cell_type": "markdown",
   "metadata": {},
   "source": [
    "We can use the same class to bin and one-hot-encode the *SibSp* and *Parch* variables. We will assume that there are no missing values in those features, and so we just want an error raised otherwise."
   ]
  },
  {
   "cell_type": "code",
   "execution_count": 41,
   "metadata": {},
   "outputs": [],
   "source": [
    "sibsp_discretizer = Discretizer('sibsp', tresholds = [0,1], handle_missing=False)\n",
    "parch_discretizer = Discretizer('parch', tresholds = [0], handle_missing=False)"
   ]
  },
  {
   "cell_type": "code",
   "execution_count": 42,
   "metadata": {},
   "outputs": [
    {
     "data": {
      "text/plain": [
       "sibsp_(-inf,0]    0.693820\n",
       "sibsp_(0,1]       0.230337\n",
       "sibsp_(1,inf]     0.075843\n",
       "dtype: float64"
      ]
     },
     "execution_count": 42,
     "metadata": {},
     "output_type": "execute_result"
    }
   ],
   "source": [
    "sibsp_discretizer.transform(X_train.SibSp).mean()"
   ]
  },
  {
   "cell_type": "code",
   "execution_count": 43,
   "metadata": {},
   "outputs": [
    {
     "data": {
      "text/plain": [
       "parch_(-inf,0]    0.761236\n",
       "parch_(0,inf]     0.238764\n",
       "dtype: float64"
      ]
     },
     "execution_count": 43,
     "metadata": {},
     "output_type": "execute_result"
    }
   ],
   "source": [
    "parch_discretizer.transform(X_train.Parch).mean()"
   ]
  },
  {
   "cell_type": "markdown",
   "metadata": {},
   "source": [
    "Finally, the last numerical feature left: the Fare. Conceptually it as a continous, nonegative quantity (interestingly there are some zero values). We can see that its distribution is rather far from a normal one. One could apply the Yeo-Johnson transformation to it (see *PowerTransformer*) to make it more gaussian. But, for the sake of keeping things simple, let's just use the function $x \\to \\log(1 + x)$, using the *numpy*'s build-in *log1p*, and then squeeze the result into an interval centered at 0.5 using the *MinMaxScaler*."
   ]
  },
  {
   "cell_type": "code",
   "execution_count": 44,
   "metadata": {},
   "outputs": [
    {
     "data": {
      "text/plain": [
       "4.64618995113625"
      ]
     },
     "execution_count": 44,
     "metadata": {},
     "output_type": "execute_result"
    }
   ],
   "source": [
    "X_train.Fare.skew()"
   ]
  },
  {
   "cell_type": "code",
   "execution_count": 86,
   "metadata": {},
   "outputs": [
    {
     "data": {
      "image/png": "[encoded data removed]",
      "text/plain": [
       "<Figure size 1008x216 with 2 Axes>"
      ]
     },
     "metadata": {
      "needs_background": "light"
     },
     "output_type": "display_data"
    }
   ],
   "source": [
    "fig, axes = plt.subplots(1, 2, figsize=(14,3))\n",
    "bins = 15\n",
    "\n",
    "yeojohnson = PowerTransformer(method='yeo-johnson')\n",
    "pd.DataFrame({'Fare_yeojohnson': yeojohnson.fit_transform(X_train.Fare.values.reshape(-1,1)).reshape(-1)}).hist(ax = axes[0], bins=bins)\n",
    "\n",
    "def fare_transformer(delta=0.5):\n",
    "    range_ = (0.5-delta, 0.5+delta)\n",
    "    return make_pipeline(FunctionTransformer(np.log1p, validate=False), Row_Flipper(), MinMaxScaler(feature_range = range_))\n",
    "\n",
    "pd.DataFrame(fare_transformer(0.6).fit_transform(X_train.Fare)).rename(columns = {0: 'Fare_log1p'}).hist(ax = axes[1], bins=bins)\n",
    "\n",
    "plt.show()"
   ]
  },
  {
   "cell_type": "markdown",
   "metadata": {},
   "source": [
    "Notice that we have not hardcoded any value for the *delta* parameter above."
   ]
  },
  {
   "cell_type": "markdown",
   "metadata": {},
   "source": [
    "### Summary of the numerical features preprocessing\n",
    "We choose to discretize and one-hot-encode three of the four numerical features using our *Discretizer*. The fourth, *Fare*, is the only feature that remains a continous variable, and we treat it with a logarithmic function.\n",
    "\n",
    "We combine those transformers into one using the scikit-learn's *ColumnTransformer* class."
   ]
  },
  {
   "cell_type": "code",
   "execution_count": 46,
   "metadata": {},
   "outputs": [],
   "source": [
    "def numerical_transformer(age_tresholds, fare_delta):\n",
    "    \n",
    "    numerical_tr = []\n",
    "    numerical_tr.append(('age_discretizer', Discretizer('age', tresholds = age_tresholds), 'Age'))\n",
    "    numerical_tr.append(('sibsp_discretizer', Discretizer('sibsp', tresholds = [0, 1], handle_missing=False), 'SibSp'))\n",
    "    numerical_tr.append(('parch_discretizer', Discretizer('parch', tresholds = [0], handle_missing=False), 'Parch'))\n",
    "    numerical_tr.append(('fare_transformer', fare_transformer(), 'Fare'))\n",
    "\n",
    "    return ColumnTransformer(numerical_tr)"
   ]
  },
  {
   "cell_type": "code",
   "execution_count": 47,
   "metadata": {},
   "outputs": [
    {
     "data": {
      "text/plain": [
       "array([[0.        , 0.        , 0.        , 0.        , 0.        ,\n",
       "        0.        , 1.        , 1.        , 0.        , 0.        ,\n",
       "        1.        , 0.        , 0.64921736],\n",
       "       [0.        , 0.        , 0.        , 0.        , 0.        ,\n",
       "        0.        , 1.        , 1.        , 0.        , 0.        ,\n",
       "        1.        , 0.        , 0.        ],\n",
       "       [0.        , 0.        , 0.        , 0.        , 0.        ,\n",
       "        0.        , 1.        , 1.        , 0.        , 0.        ,\n",
       "        1.        , 0.        , 0.86624783]])"
      ]
     },
     "execution_count": 47,
     "metadata": {},
     "output_type": "execute_result"
    }
   ],
   "source": [
    "numerical_transformer([5, 10, 20, 30, 50], 0.5).fit_transform(X_train)[:3]"
   ]
  },
  {
   "cell_type": "markdown",
   "metadata": {},
   "source": [
    "---\n",
    "---\n",
    "## Examine the categorical features"
   ]
  },
  {
   "cell_type": "code",
   "execution_count": 48,
   "metadata": {},
   "outputs": [
    {
     "data": {
      "text/plain": [
       "['Name', 'Sex', 'Ticket', 'Cabin', 'Embarked', 'Pclass']"
      ]
     },
     "execution_count": 48,
     "metadata": {},
     "output_type": "execute_result"
    }
   ],
   "source": [
    "categorical_columns"
   ]
  },
  {
   "cell_type": "markdown",
   "metadata": {},
   "source": [
    "---\n",
    "*Name*s are unique. We will just ignore them."
   ]
  },
  {
   "cell_type": "code",
   "execution_count": 49,
   "metadata": {},
   "outputs": [
    {
     "data": {
      "text/plain": [
       "True"
      ]
     },
     "execution_count": 49,
     "metadata": {},
     "output_type": "execute_result"
    }
   ],
   "source": [
    "(X_train.Name.value_counts().values == np.ones(len(X_train))).all()"
   ]
  },
  {
   "cell_type": "markdown",
   "metadata": {},
   "source": [
    "---\n",
    "*Sex*:\n",
    "* category is assumed to be binary\n",
    "* and to have no missing values.\n",
    "* We will simply map it to ones and zeros using the *OrdinalEncoder* class."
   ]
  },
  {
   "cell_type": "code",
   "execution_count": 50,
   "metadata": {},
   "outputs": [
    {
     "data": {
      "text/plain": [
       "array(['male', 'female'], dtype=object)"
      ]
     },
     "execution_count": 50,
     "metadata": {},
     "output_type": "execute_result"
    }
   ],
   "source": [
    "X_train.Sex.unique()"
   ]
  },
  {
   "cell_type": "code",
   "execution_count": 51,
   "metadata": {},
   "outputs": [
    {
     "data": {
      "text/plain": [
       "male      459\n",
       "female    253\n",
       "Name: Sex, dtype: int64"
      ]
     },
     "execution_count": 51,
     "metadata": {},
     "output_type": "execute_result"
    }
   ],
   "source": [
    "X_train.Sex.value_counts(dropna=False)"
   ]
  },
  {
   "cell_type": "code",
   "execution_count": 52,
   "metadata": {},
   "outputs": [
    {
     "name": "stdout",
     "output_type": "stream",
     "text": [
      "{'male': array([1.]), 'female': array([0.])}\n"
     ]
    },
    {
     "data": {
      "text/plain": [
       "array([[1.],\n",
       "       [1.],\n",
       "       [1.]])"
      ]
     },
     "execution_count": 52,
     "metadata": {},
     "output_type": "execute_result"
    }
   ],
   "source": [
    "sex_encoder = make_pipeline(Row_Flipper(), OrdinalEncoder())\n",
    "sex_encoder.fit(X_train.Sex)\n",
    "\n",
    "print({label: code for (label, code) in zip(X_train.Sex.unique(), sex_encoder.transform(X_train.Sex.unique()))})\n",
    "sex_encoder.transform(X_train.Sex[:3])"
   ]
  },
  {
   "cell_type": "markdown",
   "metadata": {},
   "source": [
    "---\n",
    "*Ticket*:\n",
    "\n",
    "No missing values.\n",
    "\n",
    "80% of *Ticket*s are unique.\n",
    "\n",
    "Indyvidual values can bear some resemblance to each other in terms of their format, eg. *Ticket* 'PC 17483' seems more similar to 'PC 17757' than to 'C.A. 31921'. One could come up with countless more or less arbitrary categories to split this column into. Here's my proposition.\n",
    "\n",
    "Attempt to extract a number from the *Ticket* string. Record:\n",
    "* the first (leftmost) digit (or zero if no number was extracted), one-hot-encode;\n",
    "* number of digits in the number (or zero if no number was extracted), one-hot-encode.\n"
   ]
  },
  {
   "cell_type": "code",
   "execution_count": 53,
   "metadata": {},
   "outputs": [
    {
     "data": {
      "text/plain": [
       "0"
      ]
     },
     "execution_count": 53,
     "metadata": {},
     "output_type": "execute_result"
    }
   ],
   "source": [
    "X_train.Ticket.isnull().sum()"
   ]
  },
  {
   "cell_type": "code",
   "execution_count": 54,
   "metadata": {},
   "outputs": [
    {
     "data": {
      "text/plain": [
       "0.8019662921348315"
      ]
     },
     "execution_count": 54,
     "metadata": {},
     "output_type": "execute_result"
    }
   ],
   "source": [
    "len(X_train.Ticket.unique()) / len(X_train.Ticket)"
   ]
  },
  {
   "cell_type": "code",
   "execution_count": 55,
   "metadata": {},
   "outputs": [
    {
     "data": {
      "text/plain": [
       "array(['1601', '239854', 'PC 17483', '392091', 'C.A. 31921', '8475',\n",
       "       'PC 17757', '367228', '345763', '13213', '4137', 'CA. 2343',\n",
       "       '113792', 'A/4. 39886', '19928', 'A/5. 13032', '362316', 'C 7075',\n",
       "       '4133', 'A/5. 3336'], dtype=object)"
      ]
     },
     "execution_count": 55,
     "metadata": {},
     "output_type": "execute_result"
    }
   ],
   "source": [
    "X_train.Ticket.unique()[:20]"
   ]
  },
  {
   "cell_type": "code",
   "execution_count": 56,
   "metadata": {},
   "outputs": [],
   "source": [
    "def take_num_len(ticket):\n",
    "    try:\n",
    "        num_str = re.match('(\\d+)$', ticket).group(1)\n",
    "        return len(num_str)\n",
    "    except:\n",
    "        return 0\n",
    "\n",
    "\n",
    "def take_first_digit(ticket):\n",
    "    try:\n",
    "        num_str = re.match('(\\d+)$', ticket).group(1)\n",
    "        return int(num_str[0])\n",
    "    except:\n",
    "        return 0"
   ]
  },
  {
   "cell_type": "code",
   "execution_count": 57,
   "metadata": {},
   "outputs": [
    {
     "data": {
      "text/plain": [
       "6    320\n",
       "0    190\n",
       "5    106\n",
       "4     79\n",
       "7     15\n",
       "3      2\n",
       "Name: Ticket, dtype: int64"
      ]
     },
     "execution_count": 57,
     "metadata": {},
     "output_type": "execute_result"
    }
   ],
   "source": [
    "X_train.Ticket.apply(take_num_len).value_counts()"
   ]
  },
  {
   "cell_type": "code",
   "execution_count": 58,
   "metadata": {},
   "outputs": [
    {
     "data": {
      "text/plain": [
       "3    232\n",
       "0    190\n",
       "2    151\n",
       "1    113\n",
       "4      9\n",
       "7      7\n",
       "6      5\n",
       "5      3\n",
       "8      2\n",
       "Name: Ticket, dtype: int64"
      ]
     },
     "execution_count": 58,
     "metadata": {},
     "output_type": "execute_result"
    }
   ],
   "source": [
    "X_train.Ticket.apply(take_first_digit).value_counts()"
   ]
  },
  {
   "cell_type": "markdown",
   "metadata": {},
   "source": [
    "Most of the *Ticket*s either don't end with a number at all, or the number in them is between 4 and 6 digits long and starts with '1', '2' or '3'.\n",
    "\n",
    "* Let's treat numbers (if found) which are longer than '6' or shorter than '5' as a single category.\n",
    "* Let's treat numbers that start with a digit other than '1', '2' or '3' as a single category."
   ]
  },
  {
   "cell_type": "code",
   "execution_count": 59,
   "metadata": {},
   "outputs": [],
   "source": [
    "def take_num_len56(ticket):\n",
    "    try:\n",
    "        num_str = re.match('(\\d+)$', ticket).group(1)\n",
    "        return len(num_str) if len(num_str) in [5, 6] else -1\n",
    "    except:\n",
    "        return 0\n",
    "\n",
    "def take_first_digit123(ticket):\n",
    "    try:\n",
    "        num_str = re.match('(\\d+)$', ticket).group(1)\n",
    "        return int(num_str[0]) if int(num_str[0]) in [1,2,3] else -1\n",
    "    except:\n",
    "        return 0"
   ]
  },
  {
   "cell_type": "code",
   "execution_count": 60,
   "metadata": {},
   "outputs": [
    {
     "data": {
      "text/plain": [
       " 6    320\n",
       " 0    190\n",
       " 5    106\n",
       "-1     96\n",
       "Name: Ticket, dtype: int64"
      ]
     },
     "execution_count": 60,
     "metadata": {},
     "output_type": "execute_result"
    }
   ],
   "source": [
    "X_train.Ticket.apply(take_num_len56).value_counts()"
   ]
  },
  {
   "cell_type": "code",
   "execution_count": 61,
   "metadata": {},
   "outputs": [
    {
     "data": {
      "text/plain": [
       " 3    232\n",
       " 0    190\n",
       " 2    151\n",
       " 1    113\n",
       "-1     26\n",
       "Name: Ticket, dtype: int64"
      ]
     },
     "execution_count": 61,
     "metadata": {},
     "output_type": "execute_result"
    }
   ],
   "source": [
    "X_train.Ticket.apply(take_first_digit123).value_counts()"
   ]
  },
  {
   "cell_type": "code",
   "execution_count": 62,
   "metadata": {},
   "outputs": [],
   "source": [
    "ticket_transformer_1 = make_pipeline(FunctionTransformer(np.vectorize(take_num_len56), validate=False), Row_Flipper(), OneHotEncoder(categories='auto'))\n",
    "ticket_transformer_2 = make_pipeline(FunctionTransformer(np.vectorize(take_first_digit123), validate=False), Row_Flipper(), OneHotEncoder(categories='auto'))"
   ]
  },
  {
   "cell_type": "code",
   "execution_count": 63,
   "metadata": {},
   "outputs": [
    {
     "data": {
      "text/plain": [
       "matrix([[1., 0., 0., 0.],\n",
       "        [0., 0., 0., 1.],\n",
       "        [0., 1., 0., 0.]])"
      ]
     },
     "execution_count": 63,
     "metadata": {},
     "output_type": "execute_result"
    }
   ],
   "source": [
    "ticket_transformer_1.fit_transform(X_train.Ticket).todense()[:3]"
   ]
  },
  {
   "cell_type": "code",
   "execution_count": 64,
   "metadata": {},
   "outputs": [
    {
     "data": {
      "text/plain": [
       "matrix([[0., 0., 1., 0., 0.],\n",
       "        [0., 0., 0., 1., 0.],\n",
       "        [0., 1., 0., 0., 0.]])"
      ]
     },
     "execution_count": 64,
     "metadata": {},
     "output_type": "execute_result"
    }
   ],
   "source": [
    "ticket_transformer_2.fit_transform(X_train.Ticket).todense()[:3]"
   ]
  },
  {
   "cell_type": "markdown",
   "metadata": {},
   "source": [
    "---\n",
    "*Cabin*:\n",
    "\n",
    "* 78% of *Cabin* labels are missing.\n",
    "* There are 128 unique *Cabin* values\n",
    "* Majority of the entries is of the format similar to 'G6', 'F33', 'E101' etc.\n",
    "* There are few cabins labeled without numbers, like 'T' and 'D.\n",
    "* Some entries are a series of space-separated values, e.g. 'B96 B98'"
   ]
  },
  {
   "cell_type": "code",
   "execution_count": 65,
   "metadata": {},
   "outputs": [
    {
     "data": {
      "text/plain": [
       "0.7752808988764045"
      ]
     },
     "execution_count": 65,
     "metadata": {},
     "output_type": "execute_result"
    }
   ],
   "source": [
    "X_train.Cabin.isnull().sum() / len(X_train.Cabin)"
   ]
  },
  {
   "cell_type": "code",
   "execution_count": 66,
   "metadata": {},
   "outputs": [
    {
     "data": {
      "text/plain": [
       "128"
      ]
     },
     "execution_count": 66,
     "metadata": {},
     "output_type": "execute_result"
    }
   ],
   "source": [
    "len(X_train.Cabin.unique())"
   ]
  },
  {
   "cell_type": "code",
   "execution_count": 67,
   "metadata": {},
   "outputs": [
    {
     "data": {
      "text/plain": [
       "G6         4\n",
       "F33        3\n",
       "F2         3\n",
       "E101       3\n",
       "B96 B98    2\n",
       "C125       2\n",
       "Name: Cabin, dtype: int64"
      ]
     },
     "execution_count": 67,
     "metadata": {},
     "output_type": "execute_result"
    }
   ],
   "source": [
    "X_train.Cabin.value_counts()[:6]"
   ]
  },
  {
   "cell_type": "markdown",
   "metadata": {},
   "source": [
    "Search for the 'uppercase-letter-possibly-followed-by-digits'-regex pattern. Most 'Cabins', if known, start with letters 'A' to 'E'.\n",
    "\n",
    "Let's make the following categories:\n",
    "* missing value\n",
    "* A*\n",
    "* ...\n",
    "* E*\n",
    "* other, including F*, G*, ..., and combinations of more letters"
   ]
  },
  {
   "cell_type": "code",
   "execution_count": 68,
   "metadata": {},
   "outputs": [
    {
     "name": "stdout",
     "output_type": "stream",
     "text": [
      "Letters explicitly looked for in the Ticket: {'A': 1, 'B': 2, 'C': 3, 'D': 4, 'E': 5}\n",
      "Assign '0' if no letter was extracted.\n",
      "Assign '-1' if some other letter(s) were extracted.\n",
      "Value counts found in the 'X_train':\n"
     ]
    },
    {
     "data": {
      "text/plain": [
       " 0    552\n",
       " 3     41\n",
       " 2     34\n",
       " 5     29\n",
       " 4     26\n",
       "-1     16\n",
       " 1     14\n",
       "dtype: int64"
      ]
     },
     "execution_count": 68,
     "metadata": {},
     "output_type": "execute_result"
    }
   ],
   "source": [
    "def quasilist_to_set(quasilist):\n",
    "    try:\n",
    "        return frozenset(quasilist)\n",
    "    except:\n",
    "        return quasilist\n",
    "\n",
    "def extract_letter(X):\n",
    "    PATTERN = '([A-Z])\\d*'\n",
    "    result = X.str.findall(PATTERN)\n",
    "    result[result.isnull()] = np.nan\n",
    "    return result.apply(quasilist_to_set)\n",
    "\n",
    "letter_extractor = FunctionTransformer(extract_letter, validate=False)\n",
    "\n",
    "letters = 'ABCDE'\n",
    "letter_to_num = {frozenset(letter): number for (letter, number) in zip(letters, range(1,len(letters)+1))}\n",
    "print('Letters explicitly looked for in the Ticket:', {set(set_).pop(): num for (set_, num) in letter_to_num.items()})\n",
    "letter_to_num[np.nan] = 0\n",
    "print(\"Assign '0' if no letter was extracted.\")\n",
    "\n",
    "def letter_categories(quasilist):\n",
    "    return letter_to_num[quasilist] if quasilist in letter_to_num else -1\n",
    "\n",
    "print(\"Assign '-1' if some other letter(s) were extracted.\")\n",
    "\n",
    "letter_encoder = FunctionTransformer(np.vectorize(letter_categories), validate=False)\n",
    "\n",
    "print(\"Value counts found in the 'X_train':\")\n",
    "\n",
    "pd.Series(make_pipeline(letter_extractor, letter_encoder).transform(X_train.Cabin)).value_counts()"
   ]
  },
  {
   "cell_type": "code",
   "execution_count": 69,
   "metadata": {},
   "outputs": [
    {
     "data": {
      "text/plain": [
       "matrix([[0., 1., 0., 0., 0., 0., 0.],\n",
       "        [0., 1., 0., 0., 0., 0., 0.],\n",
       "        [0., 0., 0., 0., 1., 0., 0.]])"
      ]
     },
     "execution_count": 69,
     "metadata": {},
     "output_type": "execute_result"
    }
   ],
   "source": [
    "cabin_transformer = make_pipeline(letter_extractor, letter_encoder, Row_Flipper(), OneHotEncoder(categories='auto'))\n",
    "cabin_transformer.fit_transform(X_train.Cabin).todense()[:3]"
   ]
  },
  {
   "cell_type": "markdown",
   "metadata": {},
   "source": [
    "---\n",
    "Embarked:\n",
    "* There are three categories with a well-defined meaning.\n",
    "* Some missing values may happen, but relatively few."
   ]
  },
  {
   "cell_type": "code",
   "execution_count": 70,
   "metadata": {},
   "outputs": [
    {
     "data": {
      "text/plain": [
       "S      516\n",
       "C      139\n",
       "Q       55\n",
       "NaN      2\n",
       "Name: Embarked, dtype: int64"
      ]
     },
     "execution_count": 70,
     "metadata": {},
     "output_type": "execute_result"
    }
   ],
   "source": [
    "X_train.Embarked.value_counts(dropna=False)"
   ]
  },
  {
   "cell_type": "markdown",
   "metadata": {},
   "source": [
    "Impute the most-frequent value in place of the missing values, and one-hot-encode."
   ]
  },
  {
   "cell_type": "code",
   "execution_count": 71,
   "metadata": {},
   "outputs": [
    {
     "data": {
      "text/plain": [
       "matrix([[0., 0., 1.],\n",
       "        [0., 0., 1.],\n",
       "        [0., 0., 1.]])"
      ]
     },
     "execution_count": 71,
     "metadata": {},
     "output_type": "execute_result"
    }
   ],
   "source": [
    "embarked_transformer = make_pipeline(Row_Flipper(), SimpleImputer(strategy='most_frequent'), OneHotEncoder(categories='auto'))\n",
    "embarked_transformer.fit_transform(X_train.Embarked)[:3].todense()"
   ]
  },
  {
   "cell_type": "markdown",
   "metadata": {},
   "source": [
    "---\n",
    "*Pclass*:\n",
    "\n",
    "* one-hot-encode the three numbers interpreted as unstructered categories"
   ]
  },
  {
   "cell_type": "code",
   "execution_count": 72,
   "metadata": {},
   "outputs": [
    {
     "data": {
      "text/plain": [
       "3    391\n",
       "1    171\n",
       "2    150\n",
       "Name: Pclass, dtype: int64"
      ]
     },
     "execution_count": 72,
     "metadata": {},
     "output_type": "execute_result"
    }
   ],
   "source": [
    "X_train.Pclass.value_counts(dropna=False)"
   ]
  },
  {
   "cell_type": "code",
   "execution_count": 73,
   "metadata": {},
   "outputs": [
    {
     "data": {
      "text/plain": [
       "matrix([[0., 0., 1.],\n",
       "        [0., 1., 0.],\n",
       "        [1., 0., 0.]])"
      ]
     },
     "execution_count": 73,
     "metadata": {},
     "output_type": "execute_result"
    }
   ],
   "source": [
    "pclass_transformer = make_pipeline(Row_Flipper(), OneHotEncoder(categories='auto'))\n",
    "pclass_transformer.fit_transform(X_train.Pclass)[:3].todense()"
   ]
  },
  {
   "cell_type": "markdown",
   "metadata": {},
   "source": [
    "### Summary of the categorical features preprocessing\n",
    "\n",
    "* Name: ignore\n",
    "* Sex: 1: male, 0: female\n",
    "* Ticket: two set of features based on the number extracted from a record: a) number of digits, b) first digit; missing values and lack-of-the-number treated as additional categories.\n",
    "* Cabin: seven categories (including missing value), based on the letter in a record, ohe\n",
    "* Embarked: ohe, impute nans with most-frequent label\n",
    "* Pclass: ohe, no nan handling"
   ]
  },
  {
   "cell_type": "code",
   "execution_count": 74,
   "metadata": {},
   "outputs": [],
   "source": [
    "categorical_tr = []\n",
    "categorical_tr.append(('sex_encoder', sex_encoder, 'Sex'))\n",
    "categorical_tr.append(('ticket_transformer_1', ticket_transformer_1, 'Ticket'))\n",
    "categorical_tr.append(('ticket_transformer_2', ticket_transformer_2, 'Ticket'))\n",
    "categorical_tr.append(('cabin_transformer', cabin_transformer, 'Cabin'))\n",
    "categorical_tr.append(('embarked_transformer', embarked_transformer, 'Embarked'))\n",
    "categorical_tr.append(('pclass_transformer', pclass_transformer, 'Pclass'))\n",
    "\n",
    "categorical_transformer = ColumnTransformer(categorical_tr)"
   ]
  },
  {
   "cell_type": "code",
   "execution_count": 75,
   "metadata": {},
   "outputs": [
    {
     "data": {
      "text/plain": [
       "<712x23 sparse matrix of type '<class 'numpy.float64'>'\n",
       "\twith 4019 stored elements in Compressed Sparse Row format>"
      ]
     },
     "execution_count": 75,
     "metadata": {},
     "output_type": "execute_result"
    }
   ],
   "source": [
    "categorical_transformer.fit_transform(X_train)"
   ]
  },
  {
   "cell_type": "markdown",
   "metadata": {},
   "source": [
    "---\n",
    "---\n",
    "## Transform and combine the numerical and categorical features"
   ]
  },
  {
   "cell_type": "code",
   "execution_count": 83,
   "metadata": {},
   "outputs": [],
   "source": [
    "def preprocessing_pipe(age_tresholds, fare_delta):\n",
    "    transformers = [\n",
    "        ('numerical_transformer', numerical_transformer(age_tresholds, fare_delta)),\n",
    "        ('categorical_transformer', categorical_transformer)\n",
    "    ]\n",
    "    return FeatureUnion(transformers)"
   ]
  },
  {
   "cell_type": "code",
   "execution_count": 84,
   "metadata": {},
   "outputs": [
    {
     "data": {
      "text/plain": [
       "<712x38 sparse matrix of type '<class 'numpy.float64'>'\n",
       "\twith 6867 stored elements in Compressed Sparse Row format>"
      ]
     },
     "execution_count": 84,
     "metadata": {},
     "output_type": "execute_result"
    }
   ],
   "source": [
    "X_train_2 = preprocessing_pipe([5,10,20,30,40,50,60], 0.6).fit_transform(X_train)\n",
    "X_train_2 "
   ]
  },
  {
   "cell_type": "markdown",
   "metadata": {},
   "source": [
    "---\n",
    "Write the process of building a preprocessing Pipeline to a standalone script."
   ]
  },
  {
   "cell_type": "code",
   "execution_count": null,
   "metadata": {},
   "outputs": [],
   "source": [
    "%%writefile build_preprocess_pipe.py\n",
    "\n",
    "import numpy as np\n",
    "import pandas as pd\n",
    "import re\n",
    "from sklearn.model_selection import train_test_split\n",
    "from sklearn.preprocessing import FunctionTransformer, MinMaxScaler, OrdinalEncoder, OneHotEncoder\n",
    "from sklearn.base import BaseEstimator, TransformerMixin\n",
    "from sklearn.pipeline import make_pipeline, Pipeline, FeatureUnion\n",
    "from sklearn.compose import ColumnTransformer\n",
    "from sklearn.impute import SimpleImputer\n",
    "\n",
    "        \n",
    "class Row_Flipper(BaseEstimator, TransformerMixin):\n",
    "    def __init__(self):\n",
    "        return None\n",
    "    \n",
    "    def fit(self, X, y=None):\n",
    "        return self\n",
    "    \n",
    "    def row_to_column(row):\n",
    "        if type(row) == type(pd.Series()):\n",
    "            return pd.DataFrame(row)\n",
    "        elif type(row) == type(np.empty(0)):\n",
    "            return row.reshape(-1,1)\n",
    "        else:\n",
    "            raise ValueError(\"row_to_column expected pandas Series or a numpy array\")\n",
    "        \n",
    "    def transform(self, X):\n",
    "        if len(X.shape) != 1:\n",
    "            raise ValueError('RowFlipper expected 1D object, but got argument of shape {X.shape}')\n",
    "        return row_to_column(X)\n",
    "\n",
    "\n",
    "class Discretizer(BaseEstimator, TransformerMixin):\n",
    "    \n",
    "    def __init__(self, name, tresholds, handle_missing=True):\n",
    "        self.name = name\n",
    "        self.tresholds = tresholds\n",
    "        self.handle_missing = handle_missing\n",
    "        self.columns = []\n",
    "        self.inf_tresholds = [-np.inf] + tresholds + [np.inf]\n",
    "        \n",
    "        for index in range(len(self.inf_tresholds) - 1):\n",
    "            self.columns.append(f\"{self.name}_({self.inf_tresholds[index]},{self.inf_tresholds[index+1]}]\")\n",
    "        if self.handle_missing:\n",
    "            self.columns.append(f\"{self.name}_missing\")\n",
    "        return None\n",
    "    \n",
    "    def fit(self, X, y=None):\n",
    "        return self\n",
    "        \n",
    "    def transform(self, X):\n",
    "        one_hots = np.zeros( (len(self.inf_tresholds) - 1 + int(self.handle_missing), len(X)) )\n",
    "        for index in range(len(self.inf_tresholds) - 1):\n",
    "            one_hots[index] = (X > self.inf_tresholds[index]) & (X <= self.inf_tresholds[index + 1])\n",
    "            \n",
    "        if self.handle_missing:\n",
    "            one_hots[len(self.inf_tresholds) - 1] = X.isnull()\n",
    "        elif X.isnull().any():\n",
    "            raise ValueError(\"There's NAN's in the input\")\n",
    "\n",
    "        result = pd.DataFrame(one_hots.T, columns=self.columns, index = X.index)   \n",
    "        return result\n",
    "\n",
    "    \n",
    "def fare_transformer(delta):\n",
    "    scaler_range = (0.5-delta, 0.5+delta)\n",
    "    return make_pipeline(FunctionTransformer(np.log1p, validate=False), Row_Flipper(), MinMaxScaler(scaler_range))\n",
    "\n",
    "\n",
    "def numerical_transformer(age_tresholds, fare_delta):\n",
    "    numerical_tr = []\n",
    "    numerical_tr.append(('age_discretizer', Discretizer('age', tresholds = age_tresholds), 'Age'))\n",
    "    numerical_tr.append(('sibsp_discretizer', Discretizer('sibsp', tresholds = [0, 1], handle_missing=False), 'SibSp'))\n",
    "    numerical_tr.append(('parch_discretizer', Discretizer('parch', tresholds = [0], handle_missing=False), 'Parch'))\n",
    "    numerical_tr.append(('fare_transformer', fare_transformer(fare_delta), 'Fare'))\n",
    "    return ColumnTransformer(numerical_tr)\n",
    "\n",
    "\n",
    "sex_encoder = make_pipeline(Row_Flipper(), OrdinalEncoder())\n",
    "\n",
    "\n",
    "def take_num_len56(ticket):\n",
    "    try:\n",
    "        num_str = re.match('(\\d+)$', ticket).group(1)\n",
    "        return len(num_str) if len(num_str) in [5, 6] else -1\n",
    "    except:\n",
    "        return 0\n",
    "\n",
    "def take_first_digit123(ticket):\n",
    "    try:\n",
    "        num_str = re.match('(\\d+)$', ticket).group(1)\n",
    "        return int(num_str[0]) if int(num_str[0]) in [1,2,3] else -1\n",
    "    except:\n",
    "        return 0\n",
    "    \n",
    "ticket_transformer_1 = make_pipeline(FunctionTransformer(np.vectorize(take_num_len56), validate=False), Row_Flipper(), OneHotEncoder(categories='auto'))\n",
    "ticket_transformer_2 = make_pipeline(FunctionTransformer(np.vectorize(take_first_digit123), validate=False), Row_Flipper(), OneHotEncoder(categories='auto'))\n",
    "\n",
    "\n",
    "def quasilist_to_set(quasilist):\n",
    "    try:\n",
    "        return frozenset(quasilist)\n",
    "    except:\n",
    "        return quasilist\n",
    "\n",
    "def extract_letter(X):\n",
    "    PATTERN = '([A-Z])\\d*'\n",
    "    result = X.str.findall(PATTERN)\n",
    "    result[result.isnull()] = np.nan\n",
    "    return result.apply(quasilist_to_set)\n",
    "\n",
    "letter_extractor = FunctionTransformer(extract_letter, validate=False)\n",
    "\n",
    "letters = 'ABCDE'\n",
    "letter_to_num = {frozenset(letter): number for (letter, number) in zip(letters, range(1,len(letters)+1))}\n",
    "letter_to_num[np.nan] = 0\n",
    "\n",
    "def letter_categories(quasilist):\n",
    "    return letter_to_num[quasilist] if quasilist in letter_to_num else -1\n",
    "\n",
    "letter_encoder = FunctionTransformer(np.vectorize(letter_categories), validate=False)\n",
    "\n",
    "cabin_transformer = make_pipeline(letter_extractor, letter_encoder, Row_Flipper(), OneHotEncoder(categories='auto'))\n",
    "\n",
    "\n",
    "embarked_transformer = make_pipeline(Row_Flipper(), SimpleImputer(strategy='most_frequent'), OneHotEncoder(categories='auto'))\n",
    "\n",
    "\n",
    "pclass_transformer = make_pipeline(Row_Flipper(), OneHotEncoder(categories='auto'))\n",
    "\n",
    "\n",
    "categorical_tr = []\n",
    "categorical_tr.append(('sex_encoder', sex_encoder, 'Sex'))\n",
    "categorical_tr.append(('ticket_transformer_1', ticket_transformer_1, 'Ticket'))\n",
    "categorical_tr.append(('ticket_transformer_2', ticket_transformer_2, 'Ticket'))\n",
    "categorical_tr.append(('cabin_transformer', cabin_transformer, 'Cabin'))\n",
    "categorical_tr.append(('embarked_transformer', embarked_transformer, 'Embarked'))\n",
    "categorical_tr.append(('pclass_transformer', pclass_transformer, 'Pclass'))\n",
    "categorical_transformer = ColumnTransformer(categorical_tr)\n",
    "\n",
    "def preprocessing_pipe(age_tresholds, fare_delta):\n",
    "    transformers = [\n",
    "        ('numerical_transformer', numerical_transformer(age_tresholds, fare_delta)),\n",
    "        ('categorical_transformer', categorical_transformer)\n",
    "    ]\n",
    "    return FeatureUnion(transformers)"
   ]
  },
  {
   "cell_type": "markdown",
   "metadata": {},
   "source": [
    "---\n",
    "In the next notebook we will use the preprocessing pipeline developed here, and fit the preprocessed data to various classifiers.\n",
    "\n",
    "Now, as a bonus:"
   ]
  },
  {
   "cell_type": "markdown",
   "metadata": {},
   "source": [
    "## Make scatter-plots of dimensionally-reduced version of the preprocessed data."
   ]
  },
  {
   "cell_type": "markdown",
   "metadata": {},
   "source": [
    "PCA"
   ]
  },
  {
   "cell_type": "code",
   "execution_count": 78,
   "metadata": {},
   "outputs": [
    {
     "data": {
      "text/plain": [
       "(712, 2)"
      ]
     },
     "execution_count": 78,
     "metadata": {},
     "output_type": "execute_result"
    }
   ],
   "source": [
    "X_train_pca = PCA(2).fit_transform(X_train_2.toarray())\n",
    "X_train_pca.shape"
   ]
  },
  {
   "cell_type": "code",
   "execution_count": 80,
   "metadata": {},
   "outputs": [
    {
     "data": {
      "image/png": "[encoded data removed]",
      "text/plain": [
       "<Figure size 576x576 with 1 Axes>"
      ]
     },
     "metadata": {
      "needs_background": "light"
     },
     "output_type": "display_data"
    }
   ],
   "source": [
    "xa, ya = X_train_pca.reshape(-1, 2).T.tolist()\n",
    "\n",
    "xa_0 = np.array(xa)[y_train.values==0]\n",
    "ya_0 = np.array(ya)[y_train.values==0]\n",
    "xa_1 = np.array(xa)[y_train.values==1]\n",
    "ya_1 = np.array(ya)[y_train.values==1]\n",
    "\n",
    "plt.figure(figsize=(8, 8))\n",
    "plt.scatter(xa_0, ya_0, c='orange', alpha=0.5, label='0')\n",
    "plt.scatter(xa_1, ya_1, c='cyan', alpha=0.5, label='1')\n",
    "plt.title('PCA embedding of the preprocessed data.', {'fontsize': 16})\n",
    "plt.legend(fontsize = 16)\n",
    "plt.show()"
   ]
  },
  {
   "cell_type": "markdown",
   "metadata": {},
   "source": [
    "*t-SNE*"
   ]
  },
  {
   "cell_type": "code",
   "execution_count": 81,
   "metadata": {},
   "outputs": [
    {
     "data": {
      "text/plain": [
       "(712, 2)"
      ]
     },
     "execution_count": 81,
     "metadata": {},
     "output_type": "execute_result"
    }
   ],
   "source": [
    "X_train_tsne = TSNE(random_state=123).fit_transform(X_train_2.toarray())\n",
    "X_train_tsne.shape"
   ]
  },
  {
   "cell_type": "code",
   "execution_count": 82,
   "metadata": {},
   "outputs": [
    {
     "data": {
      "image/png": "[encoded data removed]",
      "text/plain": [
       "<Figure size 576x576 with 1 Axes>"
      ]
     },
     "metadata": {
      "needs_background": "light"
     },
     "output_type": "display_data"
    }
   ],
   "source": [
    "xb, yb = X_train_tsne.reshape(-1, 2).T.tolist()\n",
    "\n",
    "xb_0 = np.array(xb)[y_train.values==0]\n",
    "yb_0 = np.array(yb)[y_train.values==0]\n",
    "xb_1 = np.array(xb)[y_train.values==1]\n",
    "yb_1 = np.array(yb)[y_train.values==1]\n",
    "\n",
    "plt.figure(figsize=(8, 8))\n",
    "plt.scatter(xb_0, yb_0, c='orange', alpha=0.5, label='0')\n",
    "plt.scatter(xb_1, yb_1, c='cyan', alpha=0.5, label='1')\n",
    "plt.title('t-SNE embedding of the preprocessed data.', {'fontsize': 16})\n",
    "plt.legend(fontsize = 16)\n",
    "plt.show()"
   ]
  },
  {
   "cell_type": "markdown",
   "metadata": {},
   "source": [
    "---\n",
    "### End"
   ]
  }
 ],
 "metadata": {
  "kernelspec": {
   "display_name": "Python 3",
   "language": "python",
   "name": "python3"
  },
  "language_info": {
   "codemirror_mode": {
    "name": "ipython",
    "version": 3
   },
   "file_extension": ".py",
   "mimetype": "text/x-python",
   "name": "python",
   "nbconvert_exporter": "python",
   "pygments_lexer": "ipython3",
   "version": "3.6.8"
  }
 },
 "nbformat": 4,
 "nbformat_minor": 2
}
