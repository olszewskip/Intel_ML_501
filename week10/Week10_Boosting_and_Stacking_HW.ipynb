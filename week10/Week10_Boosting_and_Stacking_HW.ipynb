{
 "cells": [
  {
   "cell_type": "markdown",
   "metadata": {
    "run_control": {
     "marked": true
    }
   },
   "source": [
    "# Boosting and Stacking Exercises"
   ]
  },
  {
   "cell_type": "markdown",
   "metadata": {
    "run_control": {
     "marked": true
    }
   },
   "source": [
    "## Introduction\n",
    "\n",
    "We will be using the [Human Activity Recognition with Smartphones](https://archive.ics.uci.edu/ml/datasets/Human+Activity+Recognition+Using+Smartphones) database, which was built from the recordings of study participants performing activities of daily living (ADL) while carrying a smartphone with an embedded inertial sensors. The objective is to classify activities into one of the six activities (walking, walking upstairs, walking downstairs, sitting, standing, and laying) performed.\n",
    "\n",
    "For each record in the dataset it is provided: \n",
    "\n",
    "- Triaxial acceleration from the accelerometer (total acceleration) and the estimated body acceleration. \n",
    "- Triaxial angular velocity from the gyroscope. \n",
    "- A 561-feature vector with time and frequency domain variables. \n",
    "- Its activity label. \n",
    "\n",
    "More information about the features is available on the website above."
   ]
  },
  {
   "cell_type": "code",
   "execution_count": 1,
   "metadata": {
    "ExecuteTime": {
     "end_time": "2017-05-10T01:11:37.499763Z",
     "start_time": "2017-05-10T01:11:37.494556Z"
    },
    "run_control": {
     "marked": true
    }
   },
   "outputs": [],
   "source": [
    "from __future__ import print_function\n",
    "import os\n",
    "data_path = ['data']"
   ]
  },
  {
   "cell_type": "markdown",
   "metadata": {
    "run_control": {
     "marked": true
    }
   },
   "source": [
    "## Question 1\n",
    "\n",
    "* Import the data from the file `Human_Activity_Recognition_Using_Smartphones_Data.csv` and examine the shape and data types. For the data types, there will be too many to list each column separately. Rather, aggregate the types by count.\n",
    "* Determine if the float columns need to be scaled."
   ]
  },
  {
   "cell_type": "code",
   "execution_count": 2,
   "metadata": {
    "ExecuteTime": {
     "end_time": "2017-05-10T01:11:40.978852Z",
     "start_time": "2017-05-10T01:11:38.803273Z"
    },
    "run_control": {
     "marked": true
    }
   },
   "outputs": [],
   "source": [
    "import pandas as pd\n",
    "import numpy as np\n",
    "\n",
    "filepath = os.sep.join(data_path + ['Human_Activity_Recognition_Using_Smartphones_Data.csv'])\n",
    "data = pd.read_csv(filepath, sep=',')"
   ]
  },
  {
   "cell_type": "markdown",
   "metadata": {
    "run_control": {
     "marked": true
    }
   },
   "source": [
    "The data has quite a few predictor columns."
   ]
  },
  {
   "cell_type": "code",
   "execution_count": 3,
   "metadata": {
    "ExecuteTime": {
     "end_time": "2017-05-10T01:11:40.990654Z",
     "start_time": "2017-05-10T01:11:40.980224Z"
    },
    "run_control": {
     "marked": true
    }
   },
   "outputs": [
    {
     "data": {
      "text/plain": [
       "(10299, 562)"
      ]
     },
     "execution_count": 3,
     "metadata": {},
     "output_type": "execute_result"
    }
   ],
   "source": [
    "data.shape"
   ]
  },
  {
   "cell_type": "markdown",
   "metadata": {
    "run_control": {
     "marked": true
    }
   },
   "source": [
    "And they're all float values. The only non-float is the categories column, which is what's being predicted."
   ]
  },
  {
   "cell_type": "code",
   "execution_count": 4,
   "metadata": {
    "ExecuteTime": {
     "end_time": "2017-05-10T01:11:43.154139Z",
     "start_time": "2017-05-10T01:11:43.146147Z"
    },
    "run_control": {
     "marked": true
    }
   },
   "outputs": [
    {
     "data": {
      "text/plain": [
       "float64    561\n",
       "object       1\n",
       "dtype: int64"
      ]
     },
     "execution_count": 4,
     "metadata": {},
     "output_type": "execute_result"
    }
   ],
   "source": [
    "data.dtypes.value_counts()"
   ]
  },
  {
   "cell_type": "markdown",
   "metadata": {
    "run_control": {
     "marked": true
    }
   },
   "source": [
    "The minimum and maximum value for the float columns is -1.0 and 1.0, respectively. However, scaling is never required for tree-based methods."
   ]
  },
  {
   "cell_type": "code",
   "execution_count": 5,
   "metadata": {
    "ExecuteTime": {
     "end_time": "2017-05-10T01:11:44.300555Z",
     "start_time": "2017-05-10T01:11:44.102410Z"
    },
    "run_control": {
     "marked": true
    }
   },
   "outputs": [
    {
     "name": "stdout",
     "output_type": "stream",
     "text": [
      "True\n",
      "True\n"
     ]
    }
   ],
   "source": [
    "# Mask to select float columns\n",
    "float_columns = (data.dtypes == np.float)\n",
    "\n",
    "# Verify that the maximum of all float columns is 1.0\n",
    "print( (data.loc[:,float_columns].max()==1.0).all() )\n",
    "\n",
    "# Verify that the minimum of all float columns is -1.0\n",
    "print( (data.loc[:,float_columns].min()==-1.0).all() )"
   ]
  },
  {
   "cell_type": "markdown",
   "metadata": {
    "run_control": {
     "marked": true
    }
   },
   "source": [
    "## Question 2\n",
    "\n",
    "* Integer encode the activities.\n",
    "* Split the data into train and test data sets. Decide if the data will be stratified or not during the train/test split."
   ]
  },
  {
   "cell_type": "code",
   "execution_count": 6,
   "metadata": {
    "ExecuteTime": {
     "end_time": "2017-05-10T01:11:45.754512Z",
     "start_time": "2017-05-10T01:11:45.334989Z"
    },
    "run_control": {
     "marked": true
    }
   },
   "outputs": [
    {
     "data": {
      "text/plain": [
       "array(['LAYING', 'SITTING', 'STANDING', 'WALKING', 'WALKING_DOWNSTAIRS',\n",
       "       'WALKING_UPSTAIRS'], dtype=object)"
      ]
     },
     "execution_count": 6,
     "metadata": {},
     "output_type": "execute_result"
    }
   ],
   "source": [
    "from sklearn.preprocessing import LabelEncoder\n",
    "\n",
    "le = LabelEncoder()\n",
    "\n",
    "data['Activity'] = le.fit_transform(data['Activity'])\n",
    "\n",
    "le.classes_"
   ]
  },
  {
   "cell_type": "code",
   "execution_count": 7,
   "metadata": {},
   "outputs": [
    {
     "data": {
      "text/plain": [
       "array([0, 1, 2, 3, 4, 5])"
      ]
     },
     "execution_count": 7,
     "metadata": {},
     "output_type": "execute_result"
    }
   ],
   "source": [
    "le.transform(le.classes_)"
   ]
  },
  {
   "cell_type": "code",
   "execution_count": 8,
   "metadata": {
    "ExecuteTime": {
     "end_time": "2017-05-10T01:11:46.020353Z",
     "start_time": "2017-05-10T01:11:46.015161Z"
    },
    "run_control": {
     "marked": true
    }
   },
   "outputs": [
    {
     "data": {
      "text/plain": [
       "array([2, 1, 0, 3, 4, 5])"
      ]
     },
     "execution_count": 8,
     "metadata": {},
     "output_type": "execute_result"
    }
   ],
   "source": [
    "data.Activity.unique()"
   ]
  },
  {
   "cell_type": "markdown",
   "metadata": {
    "run_control": {
     "marked": true
    }
   },
   "source": [
    "**NOTE**: We are about to create training and test sets from `data`. On those datasets, we are going to run grid searches over many choices of parameters. This can take some time. In order to shorten the grid search time, feel free to downsample `data` and create `X_train, X_test, y_train, y_test` from the downsampled dataset.\n",
    "\n",
    "Now split the data into train and test data sets. A stratified split was not used here. If there are issues with any of the error metrics on the test set, it can be a good idea to start model fitting over using a stratified split. Boosting is a pretty powerful model, though, so it may not be necessary in this case."
   ]
  },
  {
   "cell_type": "code",
   "execution_count": 9,
   "metadata": {},
   "outputs": [
    {
     "data": {
      "text/plain": [
       "(2575, 562)"
      ]
     },
     "execution_count": 9,
     "metadata": {},
     "output_type": "execute_result"
    }
   ],
   "source": [
    "from sklearn.utils import shuffle\n",
    "data_sample = shuffle(data)[::4]\n",
    "data_sample.shape"
   ]
  },
  {
   "cell_type": "code",
   "execution_count": 10,
   "metadata": {},
   "outputs": [
    {
     "data": {
      "text/plain": [
       "array([0.17980583, 0.17514563, 0.18718447, 0.16854369, 0.13786408,\n",
       "       0.15145631])"
      ]
     },
     "execution_count": 10,
     "metadata": {},
     "output_type": "execute_result"
    }
   ],
   "source": [
    "# fiarly close counts of all activity categories\n",
    "counts = np.unique(data_sample.Activity, return_counts=True)[1]\n",
    "counts / np.sum(counts)"
   ]
  },
  {
   "cell_type": "code",
   "execution_count": 11,
   "metadata": {
    "ExecuteTime": {
     "end_time": "2017-05-10T01:11:47.606561Z",
     "start_time": "2017-05-10T01:11:47.494263Z"
    },
    "run_control": {
     "marked": true
    }
   },
   "outputs": [],
   "source": [
    "from sklearn.model_selection import train_test_split\n",
    "\n",
    "# Alternatively, we could stratify the categories in the split, as was done previously\n",
    "feature_columns = [x for x in data_sample.columns if x != 'Activity']\n",
    "\n",
    "# Stratify anyway\n",
    "X_train, X_test, y_train, y_test = train_test_split(data_sample[feature_columns], data_sample['Activity'],\n",
    "                 test_size=0.3, random_state=42, stratify = data_sample['Activity'])\n"
   ]
  },
  {
   "cell_type": "code",
   "execution_count": 12,
   "metadata": {
    "ExecuteTime": {
     "end_time": "2017-05-10T01:11:49.286980Z",
     "start_time": "2017-05-10T01:11:49.274354Z"
    },
    "run_control": {
     "marked": true
    }
   },
   "outputs": [
    {
     "data": {
      "text/plain": [
       "((1802, 561), (1802,), (773, 561), (773,))"
      ]
     },
     "execution_count": 12,
     "metadata": {},
     "output_type": "execute_result"
    }
   ],
   "source": [
    "X_train.shape, y_train.shape, X_test.shape, y_test.shape"
   ]
  },
  {
   "cell_type": "markdown",
   "metadata": {
    "run_control": {
     "marked": true
    }
   },
   "source": [
    "## Question 3\n",
    "\n",
    "* Fit gradient boosted tree models with all parameters set to their defaults the following tree numbers (`n_estimators = [25, 50, 100, 200, 400]`) and evaluate the accuracy on the test data for each of these models. \n",
    "* Plot the accuracy as a function of estimator number.\n",
    "\n",
    "**Note:** This question may take some time to execute, depending on how many different values are fit for estimators. Setting `max_features=4` in the gradient boosting classifier will increase the convergence rate.\n",
    "\n",
    "Also, this is similar to question 3 from week 9, except that there is no such thing as out-of-bag error for boosted models. And the `warm_flag=True` setting has a bug in the gradient boosted model, so don't use it. Simply create the model inside the `for` loop and set the number of estimators at this time. This will make the fitting take a little longer. Additionally, boosting models tend to take longer to fit than bagged ones because the decision stumps must be fit successively."
   ]
  },
  {
   "cell_type": "code",
   "execution_count": 13,
   "metadata": {
    "ExecuteTime": {
     "end_time": "2017-05-10T01:12:11.212764Z",
     "start_time": "2017-05-10T01:11:51.188370Z"
    },
    "run_control": {
     "marked": true
    }
   },
   "outputs": [
    {
     "data": {
      "text/html": [
       "<div>\n",
       "<style scoped>\n",
       "    .dataframe tbody tr th:only-of-type {\n",
       "        vertical-align: middle;\n",
       "    }\n",
       "\n",
       "    .dataframe tbody tr th {\n",
       "        vertical-align: top;\n",
       "    }\n",
       "\n",
       "    .dataframe thead th {\n",
       "        text-align: right;\n",
       "    }\n",
       "</style>\n",
       "<table border=\"1\" class=\"dataframe\">\n",
       "  <thead>\n",
       "    <tr style=\"text-align: right;\">\n",
       "      <th></th>\n",
       "      <th>error</th>\n",
       "    </tr>\n",
       "    <tr>\n",
       "      <th>n_trees</th>\n",
       "      <th></th>\n",
       "    </tr>\n",
       "  </thead>\n",
       "  <tbody>\n",
       "    <tr>\n",
       "      <th>15.0</th>\n",
       "      <td>0.126779</td>\n",
       "    </tr>\n",
       "    <tr>\n",
       "      <th>50.0</th>\n",
       "      <td>0.068564</td>\n",
       "    </tr>\n",
       "    <tr>\n",
       "      <th>100.0</th>\n",
       "      <td>0.046572</td>\n",
       "    </tr>\n",
       "    <tr>\n",
       "      <th>200.0</th>\n",
       "      <td>0.031048</td>\n",
       "    </tr>\n",
       "    <tr>\n",
       "      <th>400.0</th>\n",
       "      <td>0.025873</td>\n",
       "    </tr>\n",
       "    <tr>\n",
       "      <th>800.0</th>\n",
       "      <td>0.024580</td>\n",
       "    </tr>\n",
       "  </tbody>\n",
       "</table>\n",
       "</div>"
      ],
      "text/plain": [
       "            error\n",
       "n_trees          \n",
       "15.0     0.126779\n",
       "50.0     0.068564\n",
       "100.0    0.046572\n",
       "200.0    0.031048\n",
       "400.0    0.025873\n",
       "800.0    0.024580"
      ]
     },
     "execution_count": 13,
     "metadata": {},
     "output_type": "execute_result"
    }
   ],
   "source": [
    "from sklearn.ensemble import GradientBoostingClassifier\n",
    "from sklearn.metrics import accuracy_score\n",
    "\n",
    "error_list = list()\n",
    "\n",
    "# Iterate through all of the possibilities for number of estimators\n",
    "tree_list = [15, 50, 100, 200, 400, 800]\n",
    "for n_trees in tree_list:\n",
    "    \n",
    "    # Initialize the gradient boost classifier\n",
    "    GBC = GradientBoostingClassifier(n_estimators=n_trees, \n",
    "                                     subsample=0.5,\n",
    "                                     max_features=4,\n",
    "                                     random_state=42)\n",
    "\n",
    "    # Fit the model\n",
    "    GBC.fit(X_train.values, y_train.values)\n",
    "    y_pred = GBC.predict(X_test)\n",
    "\n",
    "    # Get the error\n",
    "    error = 1. - accuracy_score(y_test, y_pred)\n",
    "    \n",
    "    # Store it\n",
    "    error_list.append(pd.Series({'n_trees': n_trees, 'error': error}))\n",
    "\n",
    "error_df = pd.concat(error_list, axis=1).T.set_index('n_trees')\n",
    "\n",
    "error_df"
   ]
  },
  {
   "cell_type": "markdown",
   "metadata": {},
   "source": [
    "Now plot the result."
   ]
  },
  {
   "cell_type": "code",
   "execution_count": 14,
   "metadata": {
    "ExecuteTime": {
     "end_time": "2017-05-10T01:12:41.798817Z",
     "start_time": "2017-05-10T01:12:41.526579Z"
    }
   },
   "outputs": [],
   "source": [
    "import matplotlib.pyplot as plt\n",
    "import seaborn as sns\n",
    "\n",
    "%matplotlib inline"
   ]
  },
  {
   "cell_type": "code",
   "execution_count": 15,
   "metadata": {},
   "outputs": [],
   "source": [
    "#!pip install seaborn"
   ]
  },
  {
   "cell_type": "code",
   "execution_count": 16,
   "metadata": {
    "ExecuteTime": {
     "end_time": "2017-05-10T01:12:59.958013Z",
     "start_time": "2017-05-10T01:12:59.668178Z"
    },
    "run_control": {
     "marked": true
    }
   },
   "outputs": [
    {
     "data": {
      "image/png": "[encoded data removed]",
      "text/plain": [
       "<Figure size 432x288 with 1 Axes>"
      ]
     },
     "metadata": {},
     "output_type": "display_data"
    }
   ],
   "source": [
    "sns.set_context('talk')\n",
    "sns.set_style('white')\n",
    "sns.set_palette('dark')\n",
    "\n",
    "# Create the plot\n",
    "ax = error_df.plot(marker='o')\n",
    "\n",
    "# Set parameters\n",
    "ax.set(xlabel='n_trees', ylabel='error')\n",
    "ax.set_xlim(0, max(error_df.index)*1.1);"
   ]
  },
  {
   "cell_type": "markdown",
   "metadata": {
    "run_control": {
     "marked": true
    }
   },
   "source": [
    "## Question 4\n",
    "\n",
    "* Using a grid search with cross-validation, fit a new gradient boosted classifier with the a list of estimators, similar to question 3. Also consider  varying the learning rates (0.1, 0.01, 0.001, etc.), the subsampling value (1.0 or 0.5), and the number of maximum features (1, 2, etc.).\n",
    "* Examine the parameters of the best fit model.\n",
    "* Calculate relevant error metrics on this model and examine the confusion matrix.\n",
    "\n",
    "**Note:** this question may take some time to execute, depending on how many features are associated with the grid search. It is recommended to start with only a few to ensure everything is working correctly and then add more features. Setting `max_features=4` in the gradient boosting classifier will increase the convergence rate."
   ]
  },
  {
   "cell_type": "code",
   "execution_count": 19,
   "metadata": {
    "ExecuteTime": {
     "end_time": "2017-05-10T01:13:50.069924Z",
     "start_time": "2017-05-10T01:13:04.015520Z"
    },
    "run_control": {
     "marked": true
    }
   },
   "outputs": [],
   "source": [
    "from sklearn.model_selection import GridSearchCV\n",
    "\n",
    "# The parameters to be fit--only n_estimators and learning rate\n",
    "# have been varied here for simplicity\n",
    "param_grid = {'n_estimators': [100, 300, 800],\n",
    "              'learning_rate': [1, 0.1, 0.01],\n",
    "              'subsample': [0.1, 1]\n",
    "             }\n",
    "\n",
    "# The grid search object\n",
    "GV_GBC = GridSearchCV(GradientBoostingClassifier(max_features=4,\n",
    "                                                 random_state=42), \n",
    "                      param_grid=param_grid, \n",
    "                      scoring='accuracy',\n",
    "                      n_jobs=-1,\n",
    "                      cv=5,\n",
    "                      iid=False,\n",
    "                     return_train_score=True)\n",
    "\n",
    "# Do the grid search\n",
    "GV_GBC = GV_GBC.fit(X_train, y_train)"
   ]
  },
  {
   "cell_type": "code",
   "execution_count": 20,
   "metadata": {},
   "outputs": [
    {
     "data": {
      "text/html": [
       "<div>\n",
       "<style scoped>\n",
       "    .dataframe tbody tr th:only-of-type {\n",
       "        vertical-align: middle;\n",
       "    }\n",
       "\n",
       "    .dataframe tbody tr th {\n",
       "        vertical-align: top;\n",
       "    }\n",
       "\n",
       "    .dataframe thead th {\n",
       "        text-align: right;\n",
       "    }\n",
       "</style>\n",
       "<table border=\"1\" class=\"dataframe\">\n",
       "  <thead>\n",
       "    <tr style=\"text-align: right;\">\n",
       "      <th></th>\n",
       "      <th>param_learning_rate</th>\n",
       "      <th>param_n_estimators</th>\n",
       "      <th>param_subsample</th>\n",
       "      <th>mean_train_score</th>\n",
       "    </tr>\n",
       "  </thead>\n",
       "  <tbody>\n",
       "    <tr>\n",
       "      <th>9</th>\n",
       "      <td>0.1</td>\n",
       "      <td>300</td>\n",
       "      <td>1</td>\n",
       "      <td>1.000000</td>\n",
       "    </tr>\n",
       "    <tr>\n",
       "      <th>7</th>\n",
       "      <td>0.1</td>\n",
       "      <td>100</td>\n",
       "      <td>1</td>\n",
       "      <td>1.000000</td>\n",
       "    </tr>\n",
       "    <tr>\n",
       "      <th>11</th>\n",
       "      <td>0.1</td>\n",
       "      <td>800</td>\n",
       "      <td>1</td>\n",
       "      <td>1.000000</td>\n",
       "    </tr>\n",
       "    <tr>\n",
       "      <th>10</th>\n",
       "      <td>0.1</td>\n",
       "      <td>800</td>\n",
       "      <td>0.1</td>\n",
       "      <td>1.000000</td>\n",
       "    </tr>\n",
       "    <tr>\n",
       "      <th>1</th>\n",
       "      <td>1</td>\n",
       "      <td>100</td>\n",
       "      <td>1</td>\n",
       "      <td>1.000000</td>\n",
       "    </tr>\n",
       "    <tr>\n",
       "      <th>8</th>\n",
       "      <td>0.1</td>\n",
       "      <td>300</td>\n",
       "      <td>0.1</td>\n",
       "      <td>1.000000</td>\n",
       "    </tr>\n",
       "    <tr>\n",
       "      <th>17</th>\n",
       "      <td>0.01</td>\n",
       "      <td>800</td>\n",
       "      <td>1</td>\n",
       "      <td>1.000000</td>\n",
       "    </tr>\n",
       "    <tr>\n",
       "      <th>5</th>\n",
       "      <td>1</td>\n",
       "      <td>800</td>\n",
       "      <td>1</td>\n",
       "      <td>1.000000</td>\n",
       "    </tr>\n",
       "    <tr>\n",
       "      <th>3</th>\n",
       "      <td>1</td>\n",
       "      <td>300</td>\n",
       "      <td>1</td>\n",
       "      <td>1.000000</td>\n",
       "    </tr>\n",
       "    <tr>\n",
       "      <th>16</th>\n",
       "      <td>0.01</td>\n",
       "      <td>800</td>\n",
       "      <td>0.1</td>\n",
       "      <td>0.993897</td>\n",
       "    </tr>\n",
       "    <tr>\n",
       "      <th>6</th>\n",
       "      <td>0.1</td>\n",
       "      <td>100</td>\n",
       "      <td>0.1</td>\n",
       "      <td>0.989873</td>\n",
       "    </tr>\n",
       "    <tr>\n",
       "      <th>15</th>\n",
       "      <td>0.01</td>\n",
       "      <td>300</td>\n",
       "      <td>1</td>\n",
       "      <td>0.984880</td>\n",
       "    </tr>\n",
       "    <tr>\n",
       "      <th>14</th>\n",
       "      <td>0.01</td>\n",
       "      <td>300</td>\n",
       "      <td>0.1</td>\n",
       "      <td>0.957409</td>\n",
       "    </tr>\n",
       "    <tr>\n",
       "      <th>13</th>\n",
       "      <td>0.01</td>\n",
       "      <td>100</td>\n",
       "      <td>1</td>\n",
       "      <td>0.946174</td>\n",
       "    </tr>\n",
       "    <tr>\n",
       "      <th>12</th>\n",
       "      <td>0.01</td>\n",
       "      <td>100</td>\n",
       "      <td>0.1</td>\n",
       "      <td>0.913709</td>\n",
       "    </tr>\n",
       "    <tr>\n",
       "      <th>4</th>\n",
       "      <td>1</td>\n",
       "      <td>800</td>\n",
       "      <td>0.1</td>\n",
       "      <td>0.166717</td>\n",
       "    </tr>\n",
       "    <tr>\n",
       "      <th>2</th>\n",
       "      <td>1</td>\n",
       "      <td>300</td>\n",
       "      <td>0.1</td>\n",
       "      <td>0.166717</td>\n",
       "    </tr>\n",
       "    <tr>\n",
       "      <th>0</th>\n",
       "      <td>1</td>\n",
       "      <td>100</td>\n",
       "      <td>0.1</td>\n",
       "      <td>0.166717</td>\n",
       "    </tr>\n",
       "  </tbody>\n",
       "</table>\n",
       "</div>"
      ],
      "text/plain": [
       "   param_learning_rate param_n_estimators param_subsample  mean_train_score\n",
       "9                  0.1                300               1          1.000000\n",
       "7                  0.1                100               1          1.000000\n",
       "11                 0.1                800               1          1.000000\n",
       "10                 0.1                800             0.1          1.000000\n",
       "1                    1                100               1          1.000000\n",
       "8                  0.1                300             0.1          1.000000\n",
       "17                0.01                800               1          1.000000\n",
       "5                    1                800               1          1.000000\n",
       "3                    1                300               1          1.000000\n",
       "16                0.01                800             0.1          0.993897\n",
       "6                  0.1                100             0.1          0.989873\n",
       "15                0.01                300               1          0.984880\n",
       "14                0.01                300             0.1          0.957409\n",
       "13                0.01                100               1          0.946174\n",
       "12                0.01                100             0.1          0.913709\n",
       "4                    1                800             0.1          0.166717\n",
       "2                    1                300             0.1          0.166717\n",
       "0                    1                100             0.1          0.166717"
      ]
     },
     "execution_count": 20,
     "metadata": {},
     "output_type": "execute_result"
    }
   ],
   "source": [
    "cols = [column for column in pd.DataFrame(GV_GBC.cv_results_).columns if column.startswith('param_')] + ['mean_train_score']\n",
    "pd.DataFrame(GV_GBC.cv_results_)[cols].sort_values(by='mean_train_score', ascending=False)"
   ]
  },
  {
   "cell_type": "code",
   "execution_count": 21,
   "metadata": {},
   "outputs": [
    {
     "data": {
      "text/plain": [
       "{'learning_rate': 0.1, 'n_estimators': 800, 'subsample': 1}"
      ]
     },
     "execution_count": 21,
     "metadata": {},
     "output_type": "execute_result"
    }
   ],
   "source": [
    "GV_GBC.best_params_"
   ]
  },
  {
   "cell_type": "code",
   "execution_count": 22,
   "metadata": {
    "ExecuteTime": {
     "end_time": "2017-05-10T01:13:58.145246Z",
     "start_time": "2017-05-10T01:13:58.137933Z"
    }
   },
   "outputs": [
    {
     "data": {
      "text/plain": [
       "GradientBoostingClassifier(criterion='friedman_mse', init=None,\n",
       "              learning_rate=0.1, loss='deviance', max_depth=3,\n",
       "              max_features=4, max_leaf_nodes=None,\n",
       "              min_impurity_decrease=0.0, min_impurity_split=None,\n",
       "              min_samples_leaf=1, min_samples_split=2,\n",
       "              min_weight_fraction_leaf=0.0, n_estimators=800,\n",
       "              n_iter_no_change=None, presort='auto', random_state=42,\n",
       "              subsample=1, tol=0.0001, validation_fraction=0.1, verbose=0,\n",
       "              warm_start=False)"
      ]
     },
     "execution_count": 22,
     "metadata": {},
     "output_type": "execute_result"
    }
   ],
   "source": [
    "# The best model\n",
    "GV_GBC.best_estimator_"
   ]
  },
  {
   "cell_type": "markdown",
   "metadata": {},
   "source": [
    "The error metrics. Classification report is particularly convenient for multi-class cases."
   ]
  },
  {
   "cell_type": "code",
   "execution_count": 23,
   "metadata": {
    "ExecuteTime": {
     "end_time": "2017-05-10T01:14:00.156367Z",
     "start_time": "2017-05-10T01:13:59.716319Z"
    }
   },
   "outputs": [
    {
     "name": "stdout",
     "output_type": "stream",
     "text": [
      "              precision    recall  f1-score   support\n",
      "\n",
      "           0       1.00      1.00      1.00       139\n",
      "           1       0.96      0.95      0.96       137\n",
      "           2       0.95      0.97      0.96       143\n",
      "           3       0.98      0.98      0.98       130\n",
      "           4       0.95      1.00      0.98       102\n",
      "           5       0.98      0.94      0.96       122\n",
      "\n",
      "   micro avg       0.97      0.97      0.97       773\n",
      "   macro avg       0.97      0.97      0.97       773\n",
      "weighted avg       0.97      0.97      0.97       773\n",
      "\n"
     ]
    }
   ],
   "source": [
    "from sklearn.metrics import classification_report\n",
    "\n",
    "y_pred = GV_GBC.predict(X_test)\n",
    "print(classification_report(y_pred, y_test))"
   ]
  },
  {
   "cell_type": "markdown",
   "metadata": {},
   "source": [
    "The confusion matrix. Note that the gradient boosted model has a little trouble distinguishing between activity class 1 and 2."
   ]
  },
  {
   "cell_type": "code",
   "execution_count": 24,
   "metadata": {
    "ExecuteTime": {
     "end_time": "2017-05-10T01:14:02.200468Z",
     "start_time": "2017-05-10T01:14:01.835016Z"
    }
   },
   "outputs": [
    {
     "data": {
      "image/png": "[encoded data removed]",
      "text/plain": [
       "<Figure size 432x288 with 2 Axes>"
      ]
     },
     "metadata": {},
     "output_type": "display_data"
    }
   ],
   "source": [
    "from sklearn.metrics import confusion_matrix\n",
    "\n",
    "sns.set_context('talk')\n",
    "cm = confusion_matrix(y_test, y_pred)\n",
    "ax = sns.heatmap(cm, annot=True, fmt='d')"
   ]
  },
  {
   "cell_type": "markdown",
   "metadata": {},
   "source": [
    "## Question 5\n",
    "\n",
    "* Create an AdaBoost model and fit it using grid search, much like question 4. Try a range of estimators between 100 and 200.\n",
    "* Compare the errors from AdaBoost to those from the GradientBoostedClassifier.\n",
    "\n",
    "**NOTE:** Setting `max_features=4` in the decision tree classifier used as the base classifier for AdaBoost will increase the convergence rate."
   ]
  },
  {
   "cell_type": "code",
   "execution_count": 29,
   "metadata": {
    "ExecuteTime": {
     "end_time": "2017-05-10T01:14:04.907337Z",
     "start_time": "2017-05-10T01:14:03.445697Z"
    }
   },
   "outputs": [],
   "source": [
    "from sklearn.ensemble import AdaBoostClassifier\n",
    "from sklearn.tree import DecisionTreeClassifier\n",
    "\n",
    "ABC = AdaBoostClassifier(DecisionTreeClassifier(max_features=4))\n",
    "\n",
    "param_grid = {'n_estimators': [100, 150, 200],\n",
    "              'learning_rate': [0.01, 0.001]}\n",
    "\n",
    "GV_ABC = GridSearchCV(ABC,\n",
    "                      param_grid=param_grid, \n",
    "                      scoring='accuracy',\n",
    "                      cv=5,\n",
    "                      return_train_score=True,\n",
    "                      iid=False,\n",
    "                      n_jobs=-1)\n",
    "\n",
    "GV_ABC = GV_ABC.fit(X_train, y_train)"
   ]
  },
  {
   "cell_type": "code",
   "execution_count": 30,
   "metadata": {},
   "outputs": [
    {
     "data": {
      "text/html": [
       "<div>\n",
       "<style scoped>\n",
       "    .dataframe tbody tr th:only-of-type {\n",
       "        vertical-align: middle;\n",
       "    }\n",
       "\n",
       "    .dataframe tbody tr th {\n",
       "        vertical-align: top;\n",
       "    }\n",
       "\n",
       "    .dataframe thead th {\n",
       "        text-align: right;\n",
       "    }\n",
       "</style>\n",
       "<table border=\"1\" class=\"dataframe\">\n",
       "  <thead>\n",
       "    <tr style=\"text-align: right;\">\n",
       "      <th></th>\n",
       "      <th>param_learning_rate</th>\n",
       "      <th>param_n_estimators</th>\n",
       "      <th>mean_train_score</th>\n",
       "    </tr>\n",
       "  </thead>\n",
       "  <tbody>\n",
       "    <tr>\n",
       "      <th>0</th>\n",
       "      <td>0.01</td>\n",
       "      <td>100</td>\n",
       "      <td>1.0</td>\n",
       "    </tr>\n",
       "    <tr>\n",
       "      <th>1</th>\n",
       "      <td>0.01</td>\n",
       "      <td>150</td>\n",
       "      <td>1.0</td>\n",
       "    </tr>\n",
       "    <tr>\n",
       "      <th>2</th>\n",
       "      <td>0.01</td>\n",
       "      <td>200</td>\n",
       "      <td>1.0</td>\n",
       "    </tr>\n",
       "    <tr>\n",
       "      <th>3</th>\n",
       "      <td>0.001</td>\n",
       "      <td>100</td>\n",
       "      <td>1.0</td>\n",
       "    </tr>\n",
       "    <tr>\n",
       "      <th>4</th>\n",
       "      <td>0.001</td>\n",
       "      <td>150</td>\n",
       "      <td>1.0</td>\n",
       "    </tr>\n",
       "    <tr>\n",
       "      <th>5</th>\n",
       "      <td>0.001</td>\n",
       "      <td>200</td>\n",
       "      <td>1.0</td>\n",
       "    </tr>\n",
       "  </tbody>\n",
       "</table>\n",
       "</div>"
      ],
      "text/plain": [
       "  param_learning_rate param_n_estimators  mean_train_score\n",
       "0                0.01                100               1.0\n",
       "1                0.01                150               1.0\n",
       "2                0.01                200               1.0\n",
       "3               0.001                100               1.0\n",
       "4               0.001                150               1.0\n",
       "5               0.001                200               1.0"
      ]
     },
     "execution_count": 30,
     "metadata": {},
     "output_type": "execute_result"
    }
   ],
   "source": [
    "cols = [column for column in pd.DataFrame(GV_ABC.cv_results_).columns if column.startswith('param_')] + ['mean_train_score']\n",
    "pd.DataFrame(GV_ABC.cv_results_)[cols].sort_values(by='mean_train_score', ascending=False)"
   ]
  },
  {
   "cell_type": "markdown",
   "metadata": {},
   "source": [
    "The best model."
   ]
  },
  {
   "cell_type": "code",
   "execution_count": 31,
   "metadata": {
    "ExecuteTime": {
     "end_time": "2017-05-10T01:14:27.449489Z",
     "start_time": "2017-05-10T01:14:27.441823Z"
    }
   },
   "outputs": [
    {
     "data": {
      "text/plain": [
       "AdaBoostClassifier(algorithm='SAMME.R',\n",
       "          base_estimator=DecisionTreeClassifier(class_weight=None, criterion='gini', max_depth=None,\n",
       "            max_features=4, max_leaf_nodes=None, min_impurity_decrease=0.0,\n",
       "            min_impurity_split=None, min_samples_leaf=1,\n",
       "            min_samples_split=2, min_weight_fraction_leaf=0.0,\n",
       "            presort=False, random_state=None, splitter='best'),\n",
       "          learning_rate=0.01, n_estimators=100, random_state=None)"
      ]
     },
     "execution_count": 31,
     "metadata": {},
     "output_type": "execute_result"
    }
   ],
   "source": [
    "# The best model\n",
    "GV_ABC.best_estimator_"
   ]
  },
  {
   "cell_type": "markdown",
   "metadata": {},
   "source": [
    "The error metrics. Note that the issues with class 1 and 2 appear to have become more problematic and now include class 0. Also note other issues for classes 3 - 5. AdaBoost is very sensitive to outliers, so that could be the problem here."
   ]
  },
  {
   "cell_type": "code",
   "execution_count": 32,
   "metadata": {
    "ExecuteTime": {
     "end_time": "2017-05-10T01:14:28.970078Z",
     "start_time": "2017-05-10T01:14:28.950952Z"
    }
   },
   "outputs": [
    {
     "name": "stdout",
     "output_type": "stream",
     "text": [
      "              precision    recall  f1-score   support\n",
      "\n",
      "           0       0.83      0.79      0.81       145\n",
      "           1       0.62      0.63      0.63       133\n",
      "           2       0.70      0.73      0.71       139\n",
      "           3       0.79      0.80      0.80       129\n",
      "           4       0.74      0.77      0.76       102\n",
      "           5       0.79      0.74      0.76       125\n",
      "\n",
      "   micro avg       0.74      0.74      0.74       773\n",
      "   macro avg       0.74      0.74      0.74       773\n",
      "weighted avg       0.74      0.74      0.74       773\n",
      "\n"
     ]
    }
   ],
   "source": [
    "y_pred = GV_ABC.predict(X_test)\n",
    "print(classification_report(y_pred, y_test))"
   ]
  },
  {
   "cell_type": "code",
   "execution_count": 33,
   "metadata": {
    "ExecuteTime": {
     "end_time": "2017-05-10T01:14:30.262072Z",
     "start_time": "2017-05-10T01:14:29.908366Z"
    }
   },
   "outputs": [
    {
     "data": {
      "image/png": "[encoded data removed]",
      "text/plain": [
       "<Figure size 432x288 with 2 Axes>"
      ]
     },
     "metadata": {},
     "output_type": "display_data"
    }
   ],
   "source": [
    "sns.set_context('talk')\n",
    "cm = confusion_matrix(y_test, y_pred)\n",
    "ax = sns.heatmap(cm, annot=True, fmt='d')"
   ]
  },
  {
   "cell_type": "markdown",
   "metadata": {},
   "source": [
    "## Question 6\n",
    "\n",
    "* Fit a logistic regression model with regularization. This can be a replica of a model that worked well in the exercises from week 4.\n",
    "* Using `VotingClassifier`, fit the logistic regression model along with either the GratientBoostedClassifier or the AdaBoost model (or both) from questions 4 and 5.\n",
    "* Determine the error as before and compare the results to the appropriate gradient boosted model(s).\n",
    "* Plot the confusion matrix for the best model created in this set of exercises."
   ]
  },
  {
   "cell_type": "code",
   "execution_count": 38,
   "metadata": {
    "ExecuteTime": {
     "end_time": "2017-05-10T01:15:02.371973Z",
     "start_time": "2017-05-10T01:14:37.658154Z"
    }
   },
   "outputs": [],
   "source": [
    "from sklearn.linear_model import LogisticRegressionCV\n",
    "\n",
    "# L2 regularized logistic regression\n",
    "LR_L2 = LogisticRegressionCV(Cs=4, cv=5, penalty='l2', multi_class='ovr', max_iter=1e4, class_weight='balanced').fit(X_train, y_train)"
   ]
  },
  {
   "cell_type": "markdown",
   "metadata": {},
   "source": [
    "Check the errors and confusion matrix for the logistic regression model."
   ]
  },
  {
   "cell_type": "code",
   "execution_count": 39,
   "metadata": {
    "ExecuteTime": {
     "end_time": "2017-05-10T01:16:54.633111Z",
     "start_time": "2017-05-10T01:16:54.616577Z"
    },
    "scrolled": true
   },
   "outputs": [
    {
     "name": "stdout",
     "output_type": "stream",
     "text": [
      "              precision    recall  f1-score   support\n",
      "\n",
      "           0       1.00      1.00      1.00       139\n",
      "           1       0.95      0.93      0.94       137\n",
      "           2       0.94      0.95      0.94       143\n",
      "           3       1.00      1.00      1.00       130\n",
      "           4       0.99      1.00      1.00       106\n",
      "           5       1.00      0.99      1.00       118\n",
      "\n",
      "   micro avg       0.98      0.98      0.98       773\n",
      "   macro avg       0.98      0.98      0.98       773\n",
      "weighted avg       0.98      0.98      0.98       773\n",
      "\n"
     ]
    }
   ],
   "source": [
    "y_pred = LR_L2.predict(X_test)\n",
    "print(classification_report(y_pred, y_test))"
   ]
  },
  {
   "cell_type": "code",
   "execution_count": 40,
   "metadata": {
    "ExecuteTime": {
     "end_time": "2017-05-10T01:16:55.955121Z",
     "start_time": "2017-05-10T01:16:55.620672Z"
    }
   },
   "outputs": [
    {
     "data": {
      "image/png": "[encoded data removed]",
      "text/plain": [
       "<Figure size 432x288 with 2 Axes>"
      ]
     },
     "metadata": {},
     "output_type": "display_data"
    }
   ],
   "source": [
    "sns.set_context('talk')\n",
    "cm = confusion_matrix(y_test, y_pred)\n",
    "ax = sns.heatmap(cm, annot=True, fmt='d')"
   ]
  },
  {
   "cell_type": "markdown",
   "metadata": {},
   "source": [
    "And now the stacked model."
   ]
  },
  {
   "cell_type": "code",
   "execution_count": 41,
   "metadata": {
    "ExecuteTime": {
     "end_time": "2017-05-10T01:18:06.520265Z",
     "start_time": "2017-05-10T01:16:57.388412Z"
    }
   },
   "outputs": [],
   "source": [
    "from sklearn.ensemble import VotingClassifier\n",
    "\n",
    "# The combined model--logistic regression and gradient boosted trees\n",
    "estimators = [('LR_L2', LR_L2), ('GBC', GV_GBC)]\n",
    "\n",
    "# Though it wasn't done here, it is often desirable to train \n",
    "# this model using an additional hold-out data set and/or with cross validation\n",
    "VC = VotingClassifier(estimators, voting='soft')\n",
    "VC = VC.fit(X_train, y_train)"
   ]
  },
  {
   "cell_type": "markdown",
   "metadata": {},
   "source": [
    "Finally the error on the voting classifier. We do a little better here than with either logistic regression or gradient boosted trees alone. However, the fact that logistic regression does almost as well as gradient boosted trees is an important reminder that it's good practice to try the simplest model first. In some cases, its performance will be good enough."
   ]
  },
  {
   "cell_type": "code",
   "execution_count": 42,
   "metadata": {
    "ExecuteTime": {
     "end_time": "2017-05-10T01:19:50.917331Z",
     "start_time": "2017-05-10T01:19:50.524569Z"
    }
   },
   "outputs": [
    {
     "name": "stdout",
     "output_type": "stream",
     "text": [
      "              precision    recall  f1-score   support\n",
      "\n",
      "           0       1.00      1.00      1.00       139\n",
      "           1       0.94      0.98      0.96       135\n",
      "           2       0.98      0.94      0.96       145\n",
      "           3       1.00      0.99      1.00       130\n",
      "           4       1.00      0.98      0.99       107\n",
      "           5       0.97      1.00      0.99       117\n",
      "\n",
      "   micro avg       0.98      0.98      0.98       773\n",
      "   macro avg       0.98      0.98      0.98       773\n",
      "weighted avg       0.98      0.98      0.98       773\n",
      "\n"
     ]
    }
   ],
   "source": [
    "y_pred = VC.predict(X_test)\n",
    "print(classification_report(y_test, y_pred))"
   ]
  },
  {
   "cell_type": "code",
   "execution_count": 43,
   "metadata": {
    "ExecuteTime": {
     "end_time": "2017-05-10T01:19:54.468316Z",
     "start_time": "2017-05-10T01:19:54.089180Z"
    }
   },
   "outputs": [
    {
     "data": {
      "image/png": "[encoded data removed]",
      "text/plain": [
       "<Figure size 432x288 with 2 Axes>"
      ]
     },
     "metadata": {},
     "output_type": "display_data"
    }
   ],
   "source": [
    "sns.set_context('talk')\n",
    "cm = confusion_matrix(y_test, y_pred)\n",
    "ax = sns.heatmap(cm, annot=True, fmt='d')"
   ]
  },
  {
   "cell_type": "markdown",
   "metadata": {},
   "source": [
    "## Question 7\n",
    "* Import the iris data and examine the features.\n",
    "* We will be using all of them to predict species, but the species feature will need to be integer encoded.\n",
    "* Download iris.csv from https://www.kaggle.com/uciml/iris/data/  and rename it as Iris_Data.csv"
   ]
  },
  {
   "cell_type": "code",
   "execution_count": 3,
   "metadata": {},
   "outputs": [],
   "source": [
    "data_iris = pd.read_csv(os.path.join('data', 'Iris_Data.csv'))"
   ]
  },
  {
   "cell_type": "code",
   "execution_count": 4,
   "metadata": {},
   "outputs": [
    {
     "data": {
      "text/html": [
       "<div>\n",
       "<style scoped>\n",
       "    .dataframe tbody tr th:only-of-type {\n",
       "        vertical-align: middle;\n",
       "    }\n",
       "\n",
       "    .dataframe tbody tr th {\n",
       "        vertical-align: top;\n",
       "    }\n",
       "\n",
       "    .dataframe thead th {\n",
       "        text-align: right;\n",
       "    }\n",
       "</style>\n",
       "<table border=\"1\" class=\"dataframe\">\n",
       "  <thead>\n",
       "    <tr style=\"text-align: right;\">\n",
       "      <th></th>\n",
       "      <th>sepal_length</th>\n",
       "      <th>sepal_width</th>\n",
       "      <th>petal_length</th>\n",
       "      <th>petal_width</th>\n",
       "      <th>species</th>\n",
       "    </tr>\n",
       "  </thead>\n",
       "  <tbody>\n",
       "    <tr>\n",
       "      <th>0</th>\n",
       "      <td>5.1</td>\n",
       "      <td>3.5</td>\n",
       "      <td>1.4</td>\n",
       "      <td>0.2</td>\n",
       "      <td>Iris-setosa</td>\n",
       "    </tr>\n",
       "    <tr>\n",
       "      <th>1</th>\n",
       "      <td>4.9</td>\n",
       "      <td>3.0</td>\n",
       "      <td>1.4</td>\n",
       "      <td>0.2</td>\n",
       "      <td>Iris-setosa</td>\n",
       "    </tr>\n",
       "    <tr>\n",
       "      <th>2</th>\n",
       "      <td>4.7</td>\n",
       "      <td>3.2</td>\n",
       "      <td>1.3</td>\n",
       "      <td>0.2</td>\n",
       "      <td>Iris-setosa</td>\n",
       "    </tr>\n",
       "    <tr>\n",
       "      <th>3</th>\n",
       "      <td>4.6</td>\n",
       "      <td>3.1</td>\n",
       "      <td>1.5</td>\n",
       "      <td>0.2</td>\n",
       "      <td>Iris-setosa</td>\n",
       "    </tr>\n",
       "  </tbody>\n",
       "</table>\n",
       "</div>"
      ],
      "text/plain": [
       "   sepal_length  sepal_width  petal_length  petal_width      species\n",
       "0           5.1          3.5           1.4          0.2  Iris-setosa\n",
       "1           4.9          3.0           1.4          0.2  Iris-setosa\n",
       "2           4.7          3.2           1.3          0.2  Iris-setosa\n",
       "3           4.6          3.1           1.5          0.2  Iris-setosa"
      ]
     },
     "execution_count": 4,
     "metadata": {},
     "output_type": "execute_result"
    }
   ],
   "source": [
    "data_iris[:4]"
   ]
  },
  {
   "cell_type": "markdown",
   "metadata": {},
   "source": [
    "Convert the species feature to an integer. This is a quick way to do it using Pandas."
   ]
  },
  {
   "cell_type": "code",
   "execution_count": 5,
   "metadata": {},
   "outputs": [
    {
     "data": {
      "text/plain": [
       "{'Iris-setosa': 0, 'Iris-versicolor': 1, 'Iris-virginica': 2}"
      ]
     },
     "execution_count": 5,
     "metadata": {},
     "output_type": "execute_result"
    }
   ],
   "source": [
    "species_encoding = {column: int_ for (int_, column) in enumerate(data_iris.species.unique())}\n",
    "species_decoding = {int_:column for (int_, column) in enumerate(data_iris.species.unique())}\n",
    "species_encoding"
   ]
  },
  {
   "cell_type": "code",
   "execution_count": 6,
   "metadata": {},
   "outputs": [],
   "source": [
    "data_iris.replace({'species': species_encoding}, inplace=True)"
   ]
  },
  {
   "cell_type": "code",
   "execution_count": 7,
   "metadata": {},
   "outputs": [
    {
     "data": {
      "text/plain": [
       "array([0, 1, 2])"
      ]
     },
     "execution_count": 7,
     "metadata": {},
     "output_type": "execute_result"
    }
   ],
   "source": [
    "data_iris.species.unique()"
   ]
  },
  {
   "cell_type": "markdown",
   "metadata": {},
   "source": [
    "## Question 8\n",
    "\n",
    "* Use `StratifiedShuffleSplit` to split data into train and test sets that are stratified by species. If possible, preserve the indices of the split for question 11 below.\n",
    "* Check the percent composition of each species level for both the train and test data sets."
   ]
  },
  {
   "cell_type": "code",
   "execution_count": 8,
   "metadata": {},
   "outputs": [],
   "source": [
    "# All data columns except for species\n",
    "feature_cols = data_iris.columns.drop('species')\n",
    "\n",
    "from sklearn.model_selection import StratifiedShuffleSplit\n",
    "\n",
    "# Split the data into two parts with 1000 points in the test data\n",
    "# This creates a generator\n",
    "strat_shuff_split = StratifiedShuffleSplit(n_splits=1, test_size=0.8, random_state=42)\n",
    "\n",
    "# Get the index values from the generator\n",
    "train_idx, test_idx = next(strat_shuff_split.split(data_iris[feature_cols], data_iris.species))\n",
    "\n",
    "# Create the data sets\n",
    "X_train = data_iris.loc[train_idx, feature_cols]\n",
    "y_train = data_iris.loc[train_idx, 'species']\n",
    "\n",
    "X_test = data_iris.loc[test_idx, feature_cols]\n",
    "y_test = data_iris.loc[test_idx, 'species']"
   ]
  },
  {
   "cell_type": "markdown",
   "metadata": {},
   "source": [
    "Now check the percent composition of target class in the train and test iris_data sets."
   ]
  },
  {
   "cell_type": "code",
   "execution_count": 9,
   "metadata": {},
   "outputs": [
    {
     "data": {
      "text/plain": [
       "array([0.33333333, 0.33333333, 0.33333333])"
      ]
     },
     "execution_count": 9,
     "metadata": {},
     "output_type": "execute_result"
    }
   ],
   "source": [
    "train_counts = np.unique(y_train, return_counts=True)[1]\n",
    "train_counts / np.sum(train_counts)"
   ]
  },
  {
   "cell_type": "code",
   "execution_count": 10,
   "metadata": {},
   "outputs": [
    {
     "data": {
      "text/plain": [
       "array([0.33333333, 0.33333333, 0.33333333])"
      ]
     },
     "execution_count": 10,
     "metadata": {},
     "output_type": "execute_result"
    }
   ],
   "source": [
    "test_counts = np.unique(y_test, return_counts=True)[1]\n",
    "test_counts / np.sum(test_counts)"
   ]
  },
  {
   "cell_type": "markdown",
   "metadata": {
    "run_control": {
     "marked": true
    }
   },
   "source": [
    "## Question 9\n",
    "\n",
    "* Fit gradient boosted tree models with all parameters set to their defaults the following tree numbers (`n_estimators = [25, 50, 100, 200, 400]`) and evaluate the accuracy on the test data for each of these models. \n",
    "* Plot the accuracy as a function of estimator number.\n",
    "\n",
    "**Note:** This question may take some time to execute, depending on how many different values are fit for estimators. Setting `max_features=4` in the gradient boosting classifier will increase the convergence rate.\n",
    "\n",
    "Also, this is similar to question 9 from week 9, except that there is no such thing as out-of-bag error for boosted models. And the `warm_flag=True` setting has a bug in the gradient boosted model, so don't use it. Simply create the model inside the `for` loop and set the number of estimators at this time. This will make the fitting take a little longer. Additionally, boosting models tend to take longer to fit than bagged ones because the decision stumps must be fit successively."
   ]
  },
  {
   "cell_type": "code",
   "execution_count": 25,
   "metadata": {
    "ExecuteTime": {
     "end_time": "2017-05-10T01:12:11.212764Z",
     "start_time": "2017-05-10T01:11:51.188370Z"
    },
    "run_control": {
     "marked": true
    }
   },
   "outputs": [
    {
     "data": {
      "text/html": [
       "<div>\n",
       "<style scoped>\n",
       "    .dataframe tbody tr th:only-of-type {\n",
       "        vertical-align: middle;\n",
       "    }\n",
       "\n",
       "    .dataframe tbody tr th {\n",
       "        vertical-align: top;\n",
       "    }\n",
       "\n",
       "    .dataframe thead th {\n",
       "        text-align: right;\n",
       "    }\n",
       "</style>\n",
       "<table border=\"1\" class=\"dataframe\">\n",
       "  <thead>\n",
       "    <tr style=\"text-align: right;\">\n",
       "      <th></th>\n",
       "      <th>error</th>\n",
       "    </tr>\n",
       "    <tr>\n",
       "      <th>n_trees</th>\n",
       "      <th></th>\n",
       "    </tr>\n",
       "  </thead>\n",
       "  <tbody>\n",
       "    <tr>\n",
       "      <th>25.0</th>\n",
       "      <td>0.058333</td>\n",
       "    </tr>\n",
       "    <tr>\n",
       "      <th>50.0</th>\n",
       "      <td>0.058333</td>\n",
       "    </tr>\n",
       "    <tr>\n",
       "      <th>100.0</th>\n",
       "      <td>0.050000</td>\n",
       "    </tr>\n",
       "    <tr>\n",
       "      <th>200.0</th>\n",
       "      <td>0.050000</td>\n",
       "    </tr>\n",
       "    <tr>\n",
       "      <th>400.0</th>\n",
       "      <td>0.050000</td>\n",
       "    </tr>\n",
       "  </tbody>\n",
       "</table>\n",
       "</div>"
      ],
      "text/plain": [
       "            error\n",
       "n_trees          \n",
       "25.0     0.058333\n",
       "50.0     0.058333\n",
       "100.0    0.050000\n",
       "200.0    0.050000\n",
       "400.0    0.050000"
      ]
     },
     "execution_count": 25,
     "metadata": {},
     "output_type": "execute_result"
    }
   ],
   "source": [
    "from sklearn.ensemble import GradientBoostingClassifier\n",
    "from sklearn.metrics import accuracy_score\n",
    "\n",
    "error_list = list()\n",
    "\n",
    "# Iterate through all of the possibilities for number of estimators\n",
    "tree_list = [25, 50, 100, 200, 400]\n",
    "for n_trees in tree_list:\n",
    "    \n",
    "    # Initialize the gradient boost classifier\n",
    "    GBC = GradientBoostingClassifier(n_estimators=n_trees, \n",
    "                                     subsample=0.5,\n",
    "                                     max_features=3,\n",
    "                                     random_state=42)\n",
    "\n",
    "    # Fit the model\n",
    "    GBC.fit(X_train.values, y_train.values)\n",
    "    y_pred = GBC.predict(X_test)\n",
    "\n",
    "    # Get the error\n",
    "    error = 1. - accuracy_score(y_test, y_pred)\n",
    "    \n",
    "    # Store it\n",
    "    error_list.append(pd.Series({'n_trees': n_trees, 'error': error}))\n",
    "\n",
    "error_df = pd.concat(error_list, axis=1).T.set_index('n_trees')\n",
    "\n",
    "error_df"
   ]
  },
  {
   "cell_type": "markdown",
   "metadata": {},
   "source": [
    "Now plot the result."
   ]
  },
  {
   "cell_type": "code",
   "execution_count": 26,
   "metadata": {
    "ExecuteTime": {
     "end_time": "2017-05-10T01:12:41.798817Z",
     "start_time": "2017-05-10T01:12:41.526579Z"
    }
   },
   "outputs": [],
   "source": [
    "import matplotlib.pyplot as plt\n",
    "import seaborn as sns\n",
    "\n",
    "%matplotlib inline"
   ]
  },
  {
   "cell_type": "code",
   "execution_count": 27,
   "metadata": {
    "ExecuteTime": {
     "end_time": "2017-05-10T01:12:59.958013Z",
     "start_time": "2017-05-10T01:12:59.668178Z"
    },
    "run_control": {
     "marked": true
    }
   },
   "outputs": [
    {
     "data": {
      "image/png": "[encoded data removed]",
      "text/plain": [
       "<Figure size 432x288 with 1 Axes>"
      ]
     },
     "metadata": {},
     "output_type": "display_data"
    }
   ],
   "source": [
    "sns.set_context('talk')\n",
    "sns.set_style('white')\n",
    "sns.set_palette('dark')\n",
    "\n",
    "# Create the plot\n",
    "ax = error_df.plot(marker='o')\n",
    "\n",
    "# Set parameters\n",
    "ax.set(xlabel='n_trees', ylabel='error')\n",
    "ax.set_xlim(0, max(error_df.index)*1.1);"
   ]
  },
  {
   "cell_type": "markdown",
   "metadata": {
    "run_control": {
     "marked": true
    }
   },
   "source": [
    "## Question 10\n",
    "\n",
    "* Using a grid search with cross-validation, fit a new gradient boosted classifier with the a list of estimators, similar to question 9. Also consider  varying the learning rates (0.1, 0.01, 0.001, etc.), the subsampling value (1.0 or 0.5), and the number of maximum features (1, 2, etc.).\n",
    "* Examine the parameters of the best fit model.\n",
    "* Calculate relevant error metrics on this model and examine the confusion matrix.\n",
    "\n",
    "**Note:** this question may take some time to execute, depending on how many features are associated with the grid search. It is recommended to start with only a few to ensure everything is working correctly and then add more features. Setting `max_features=4` in the gradient boosting classifier will increase the convergence rate."
   ]
  },
  {
   "cell_type": "code",
   "execution_count": 28,
   "metadata": {
    "ExecuteTime": {
     "end_time": "2017-05-10T01:13:50.069924Z",
     "start_time": "2017-05-10T01:13:04.015520Z"
    },
    "run_control": {
     "marked": true
    }
   },
   "outputs": [],
   "source": [
    "from sklearn.model_selection import GridSearchCV\n",
    "\n",
    "# The parameters to be fit--only n_estimators and learning rate\n",
    "# have been varied here for simplicity\n",
    "param_grid = {'n_estimators': [100, 400],\n",
    "              'learning_rate': [1, 0.1, 0.01],\n",
    "              'subsample': [0.1, 1],\n",
    "              'max_features': [2, 3, 4]\n",
    "             }\n",
    "\n",
    "# The grid search object\n",
    "GV_GBC = GridSearchCV(GradientBoostingClassifier(random_state=42), \n",
    "                      param_grid=param_grid, \n",
    "                      scoring='accuracy',\n",
    "                      n_jobs=-1,\n",
    "                      cv=5,\n",
    "                      iid=False,\n",
    "                     return_train_score=True)\n",
    "\n",
    "# Do the grid search\n",
    "GV_GBC = GV_GBC.fit(X_train, y_train)"
   ]
  },
  {
   "cell_type": "code",
   "execution_count": 29,
   "metadata": {},
   "outputs": [
    {
     "data": {
      "text/html": [
       "<div>\n",
       "<style scoped>\n",
       "    .dataframe tbody tr th:only-of-type {\n",
       "        vertical-align: middle;\n",
       "    }\n",
       "\n",
       "    .dataframe tbody tr th {\n",
       "        vertical-align: top;\n",
       "    }\n",
       "\n",
       "    .dataframe thead th {\n",
       "        text-align: right;\n",
       "    }\n",
       "</style>\n",
       "<table border=\"1\" class=\"dataframe\">\n",
       "  <thead>\n",
       "    <tr style=\"text-align: right;\">\n",
       "      <th></th>\n",
       "      <th>param_learning_rate</th>\n",
       "      <th>param_max_features</th>\n",
       "      <th>param_n_estimators</th>\n",
       "      <th>param_subsample</th>\n",
       "      <th>mean_train_score</th>\n",
       "    </tr>\n",
       "  </thead>\n",
       "  <tbody>\n",
       "    <tr>\n",
       "      <th>35</th>\n",
       "      <td>0.01</td>\n",
       "      <td>4</td>\n",
       "      <td>400</td>\n",
       "      <td>1</td>\n",
       "      <td>1.000000</td>\n",
       "    </tr>\n",
       "    <tr>\n",
       "      <th>19</th>\n",
       "      <td>0.1</td>\n",
       "      <td>3</td>\n",
       "      <td>400</td>\n",
       "      <td>1</td>\n",
       "      <td>1.000000</td>\n",
       "    </tr>\n",
       "    <tr>\n",
       "      <th>17</th>\n",
       "      <td>0.1</td>\n",
       "      <td>3</td>\n",
       "      <td>100</td>\n",
       "      <td>1</td>\n",
       "      <td>1.000000</td>\n",
       "    </tr>\n",
       "    <tr>\n",
       "      <th>21</th>\n",
       "      <td>0.1</td>\n",
       "      <td>4</td>\n",
       "      <td>100</td>\n",
       "      <td>1</td>\n",
       "      <td>1.000000</td>\n",
       "    </tr>\n",
       "    <tr>\n",
       "      <th>15</th>\n",
       "      <td>0.1</td>\n",
       "      <td>2</td>\n",
       "      <td>400</td>\n",
       "      <td>1</td>\n",
       "      <td>1.000000</td>\n",
       "    </tr>\n",
       "    <tr>\n",
       "      <th>13</th>\n",
       "      <td>0.1</td>\n",
       "      <td>2</td>\n",
       "      <td>100</td>\n",
       "      <td>1</td>\n",
       "      <td>1.000000</td>\n",
       "    </tr>\n",
       "    <tr>\n",
       "      <th>23</th>\n",
       "      <td>0.1</td>\n",
       "      <td>4</td>\n",
       "      <td>400</td>\n",
       "      <td>1</td>\n",
       "      <td>1.000000</td>\n",
       "    </tr>\n",
       "    <tr>\n",
       "      <th>11</th>\n",
       "      <td>1</td>\n",
       "      <td>4</td>\n",
       "      <td>400</td>\n",
       "      <td>1</td>\n",
       "      <td>1.000000</td>\n",
       "    </tr>\n",
       "    <tr>\n",
       "      <th>25</th>\n",
       "      <td>0.01</td>\n",
       "      <td>2</td>\n",
       "      <td>100</td>\n",
       "      <td>1</td>\n",
       "      <td>1.000000</td>\n",
       "    </tr>\n",
       "    <tr>\n",
       "      <th>9</th>\n",
       "      <td>1</td>\n",
       "      <td>4</td>\n",
       "      <td>100</td>\n",
       "      <td>1</td>\n",
       "      <td>1.000000</td>\n",
       "    </tr>\n",
       "    <tr>\n",
       "      <th>27</th>\n",
       "      <td>0.01</td>\n",
       "      <td>2</td>\n",
       "      <td>400</td>\n",
       "      <td>1</td>\n",
       "      <td>1.000000</td>\n",
       "    </tr>\n",
       "    <tr>\n",
       "      <th>7</th>\n",
       "      <td>1</td>\n",
       "      <td>3</td>\n",
       "      <td>400</td>\n",
       "      <td>1</td>\n",
       "      <td>1.000000</td>\n",
       "    </tr>\n",
       "    <tr>\n",
       "      <th>29</th>\n",
       "      <td>0.01</td>\n",
       "      <td>3</td>\n",
       "      <td>100</td>\n",
       "      <td>1</td>\n",
       "      <td>1.000000</td>\n",
       "    </tr>\n",
       "    <tr>\n",
       "      <th>5</th>\n",
       "      <td>1</td>\n",
       "      <td>3</td>\n",
       "      <td>100</td>\n",
       "      <td>1</td>\n",
       "      <td>1.000000</td>\n",
       "    </tr>\n",
       "    <tr>\n",
       "      <th>31</th>\n",
       "      <td>0.01</td>\n",
       "      <td>3</td>\n",
       "      <td>400</td>\n",
       "      <td>1</td>\n",
       "      <td>1.000000</td>\n",
       "    </tr>\n",
       "    <tr>\n",
       "      <th>3</th>\n",
       "      <td>1</td>\n",
       "      <td>2</td>\n",
       "      <td>400</td>\n",
       "      <td>1</td>\n",
       "      <td>1.000000</td>\n",
       "    </tr>\n",
       "    <tr>\n",
       "      <th>33</th>\n",
       "      <td>0.01</td>\n",
       "      <td>4</td>\n",
       "      <td>100</td>\n",
       "      <td>1</td>\n",
       "      <td>1.000000</td>\n",
       "    </tr>\n",
       "    <tr>\n",
       "      <th>1</th>\n",
       "      <td>1</td>\n",
       "      <td>2</td>\n",
       "      <td>100</td>\n",
       "      <td>1</td>\n",
       "      <td>1.000000</td>\n",
       "    </tr>\n",
       "    <tr>\n",
       "      <th>22</th>\n",
       "      <td>0.1</td>\n",
       "      <td>4</td>\n",
       "      <td>400</td>\n",
       "      <td>0.1</td>\n",
       "      <td>0.991667</td>\n",
       "    </tr>\n",
       "    <tr>\n",
       "      <th>18</th>\n",
       "      <td>0.1</td>\n",
       "      <td>3</td>\n",
       "      <td>400</td>\n",
       "      <td>0.1</td>\n",
       "      <td>0.991667</td>\n",
       "    </tr>\n",
       "    <tr>\n",
       "      <th>14</th>\n",
       "      <td>0.1</td>\n",
       "      <td>2</td>\n",
       "      <td>400</td>\n",
       "      <td>0.1</td>\n",
       "      <td>0.991667</td>\n",
       "    </tr>\n",
       "    <tr>\n",
       "      <th>26</th>\n",
       "      <td>0.01</td>\n",
       "      <td>2</td>\n",
       "      <td>400</td>\n",
       "      <td>0.1</td>\n",
       "      <td>0.983333</td>\n",
       "    </tr>\n",
       "    <tr>\n",
       "      <th>30</th>\n",
       "      <td>0.01</td>\n",
       "      <td>3</td>\n",
       "      <td>400</td>\n",
       "      <td>0.1</td>\n",
       "      <td>0.983333</td>\n",
       "    </tr>\n",
       "    <tr>\n",
       "      <th>34</th>\n",
       "      <td>0.01</td>\n",
       "      <td>4</td>\n",
       "      <td>400</td>\n",
       "      <td>0.1</td>\n",
       "      <td>0.983333</td>\n",
       "    </tr>\n",
       "    <tr>\n",
       "      <th>24</th>\n",
       "      <td>0.01</td>\n",
       "      <td>2</td>\n",
       "      <td>100</td>\n",
       "      <td>0.1</td>\n",
       "      <td>0.933333</td>\n",
       "    </tr>\n",
       "    <tr>\n",
       "      <th>28</th>\n",
       "      <td>0.01</td>\n",
       "      <td>3</td>\n",
       "      <td>100</td>\n",
       "      <td>0.1</td>\n",
       "      <td>0.933333</td>\n",
       "    </tr>\n",
       "    <tr>\n",
       "      <th>32</th>\n",
       "      <td>0.01</td>\n",
       "      <td>4</td>\n",
       "      <td>100</td>\n",
       "      <td>0.1</td>\n",
       "      <td>0.933333</td>\n",
       "    </tr>\n",
       "    <tr>\n",
       "      <th>20</th>\n",
       "      <td>0.1</td>\n",
       "      <td>4</td>\n",
       "      <td>100</td>\n",
       "      <td>0.1</td>\n",
       "      <td>0.916667</td>\n",
       "    </tr>\n",
       "    <tr>\n",
       "      <th>16</th>\n",
       "      <td>0.1</td>\n",
       "      <td>3</td>\n",
       "      <td>100</td>\n",
       "      <td>0.1</td>\n",
       "      <td>0.916667</td>\n",
       "    </tr>\n",
       "    <tr>\n",
       "      <th>12</th>\n",
       "      <td>0.1</td>\n",
       "      <td>2</td>\n",
       "      <td>100</td>\n",
       "      <td>0.1</td>\n",
       "      <td>0.916667</td>\n",
       "    </tr>\n",
       "    <tr>\n",
       "      <th>2</th>\n",
       "      <td>1</td>\n",
       "      <td>2</td>\n",
       "      <td>400</td>\n",
       "      <td>0.1</td>\n",
       "      <td>0.575000</td>\n",
       "    </tr>\n",
       "    <tr>\n",
       "      <th>0</th>\n",
       "      <td>1</td>\n",
       "      <td>2</td>\n",
       "      <td>100</td>\n",
       "      <td>0.1</td>\n",
       "      <td>0.550000</td>\n",
       "    </tr>\n",
       "    <tr>\n",
       "      <th>10</th>\n",
       "      <td>1</td>\n",
       "      <td>4</td>\n",
       "      <td>400</td>\n",
       "      <td>0.1</td>\n",
       "      <td>0.525000</td>\n",
       "    </tr>\n",
       "    <tr>\n",
       "      <th>8</th>\n",
       "      <td>1</td>\n",
       "      <td>4</td>\n",
       "      <td>100</td>\n",
       "      <td>0.1</td>\n",
       "      <td>0.525000</td>\n",
       "    </tr>\n",
       "    <tr>\n",
       "      <th>6</th>\n",
       "      <td>1</td>\n",
       "      <td>3</td>\n",
       "      <td>400</td>\n",
       "      <td>0.1</td>\n",
       "      <td>0.525000</td>\n",
       "    </tr>\n",
       "    <tr>\n",
       "      <th>4</th>\n",
       "      <td>1</td>\n",
       "      <td>3</td>\n",
       "      <td>100</td>\n",
       "      <td>0.1</td>\n",
       "      <td>0.525000</td>\n",
       "    </tr>\n",
       "  </tbody>\n",
       "</table>\n",
       "</div>"
      ],
      "text/plain": [
       "   param_learning_rate param_max_features param_n_estimators param_subsample  \\\n",
       "35                0.01                  4                400               1   \n",
       "19                 0.1                  3                400               1   \n",
       "17                 0.1                  3                100               1   \n",
       "21                 0.1                  4                100               1   \n",
       "15                 0.1                  2                400               1   \n",
       "13                 0.1                  2                100               1   \n",
       "23                 0.1                  4                400               1   \n",
       "11                   1                  4                400               1   \n",
       "25                0.01                  2                100               1   \n",
       "9                    1                  4                100               1   \n",
       "27                0.01                  2                400               1   \n",
       "7                    1                  3                400               1   \n",
       "29                0.01                  3                100               1   \n",
       "5                    1                  3                100               1   \n",
       "31                0.01                  3                400               1   \n",
       "3                    1                  2                400               1   \n",
       "33                0.01                  4                100               1   \n",
       "1                    1                  2                100               1   \n",
       "22                 0.1                  4                400             0.1   \n",
       "18                 0.1                  3                400             0.1   \n",
       "14                 0.1                  2                400             0.1   \n",
       "26                0.01                  2                400             0.1   \n",
       "30                0.01                  3                400             0.1   \n",
       "34                0.01                  4                400             0.1   \n",
       "24                0.01                  2                100             0.1   \n",
       "28                0.01                  3                100             0.1   \n",
       "32                0.01                  4                100             0.1   \n",
       "20                 0.1                  4                100             0.1   \n",
       "16                 0.1                  3                100             0.1   \n",
       "12                 0.1                  2                100             0.1   \n",
       "2                    1                  2                400             0.1   \n",
       "0                    1                  2                100             0.1   \n",
       "10                   1                  4                400             0.1   \n",
       "8                    1                  4                100             0.1   \n",
       "6                    1                  3                400             0.1   \n",
       "4                    1                  3                100             0.1   \n",
       "\n",
       "    mean_train_score  \n",
       "35          1.000000  \n",
       "19          1.000000  \n",
       "17          1.000000  \n",
       "21          1.000000  \n",
       "15          1.000000  \n",
       "13          1.000000  \n",
       "23          1.000000  \n",
       "11          1.000000  \n",
       "25          1.000000  \n",
       "9           1.000000  \n",
       "27          1.000000  \n",
       "7           1.000000  \n",
       "29          1.000000  \n",
       "5           1.000000  \n",
       "31          1.000000  \n",
       "3           1.000000  \n",
       "33          1.000000  \n",
       "1           1.000000  \n",
       "22          0.991667  \n",
       "18          0.991667  \n",
       "14          0.991667  \n",
       "26          0.983333  \n",
       "30          0.983333  \n",
       "34          0.983333  \n",
       "24          0.933333  \n",
       "28          0.933333  \n",
       "32          0.933333  \n",
       "20          0.916667  \n",
       "16          0.916667  \n",
       "12          0.916667  \n",
       "2           0.575000  \n",
       "0           0.550000  \n",
       "10          0.525000  \n",
       "8           0.525000  \n",
       "6           0.525000  \n",
       "4           0.525000  "
      ]
     },
     "execution_count": 29,
     "metadata": {},
     "output_type": "execute_result"
    }
   ],
   "source": [
    "cols = [column for column in pd.DataFrame(GV_GBC.cv_results_).columns if column.startswith('param_')] + ['mean_train_score']\n",
    "pd.DataFrame(GV_GBC.cv_results_)[cols].sort_values(by='mean_train_score', ascending=False)"
   ]
  },
  {
   "cell_type": "code",
   "execution_count": 30,
   "metadata": {},
   "outputs": [
    {
     "data": {
      "text/plain": [
       "GradientBoostingClassifier(criterion='friedman_mse', init=None,\n",
       "              learning_rate=1, loss='deviance', max_depth=3,\n",
       "              max_features=3, max_leaf_nodes=None,\n",
       "              min_impurity_decrease=0.0, min_impurity_split=None,\n",
       "              min_samples_leaf=1, min_samples_split=2,\n",
       "              min_weight_fraction_leaf=0.0, n_estimators=100,\n",
       "              n_iter_no_change=None, presort='auto', random_state=42,\n",
       "              subsample=1, tol=0.0001, validation_fraction=0.1, verbose=0,\n",
       "              warm_start=False)"
      ]
     },
     "execution_count": 30,
     "metadata": {},
     "output_type": "execute_result"
    }
   ],
   "source": [
    "GV_GBC.best_estimator_"
   ]
  },
  {
   "cell_type": "code",
   "execution_count": 31,
   "metadata": {
    "ExecuteTime": {
     "end_time": "2017-05-10T01:13:58.145246Z",
     "start_time": "2017-05-10T01:13:58.137933Z"
    }
   },
   "outputs": [
    {
     "data": {
      "text/plain": [
       "{'learning_rate': 1, 'max_features': 3, 'n_estimators': 100, 'subsample': 1}"
      ]
     },
     "execution_count": 31,
     "metadata": {},
     "output_type": "execute_result"
    }
   ],
   "source": [
    "# The best model\n",
    "GV_GBC.best_params_"
   ]
  },
  {
   "cell_type": "markdown",
   "metadata": {},
   "source": [
    "The error metrics. Classification report is particularly convenient for multi-class cases."
   ]
  },
  {
   "cell_type": "code",
   "execution_count": 32,
   "metadata": {
    "ExecuteTime": {
     "end_time": "2017-05-10T01:14:00.156367Z",
     "start_time": "2017-05-10T01:13:59.716319Z"
    }
   },
   "outputs": [
    {
     "name": "stdout",
     "output_type": "stream",
     "text": [
      "              precision    recall  f1-score   support\n",
      "\n",
      "           0       1.00      1.00      1.00        40\n",
      "           1       0.97      0.81      0.89        48\n",
      "           2       0.78      0.97      0.86        32\n",
      "\n",
      "   micro avg       0.92      0.92      0.92       120\n",
      "   macro avg       0.92      0.93      0.92       120\n",
      "weighted avg       0.93      0.92      0.92       120\n",
      "\n"
     ]
    }
   ],
   "source": [
    "from sklearn.metrics import classification_report\n",
    "\n",
    "y_pred = GV_GBC.predict(X_test)\n",
    "print(classification_report(y_pred, y_test))"
   ]
  },
  {
   "cell_type": "markdown",
   "metadata": {},
   "source": [
    "The confusion matrix. Note that the gradient boosted model has a little trouble distinguishing between species  class 0,1 and 2."
   ]
  },
  {
   "cell_type": "code",
   "execution_count": 33,
   "metadata": {
    "ExecuteTime": {
     "end_time": "2017-05-10T01:14:02.200468Z",
     "start_time": "2017-05-10T01:14:01.835016Z"
    }
   },
   "outputs": [
    {
     "data": {
      "image/png": "[encoded data removed]",
      "text/plain": [
       "<Figure size 432x288 with 2 Axes>"
      ]
     },
     "metadata": {},
     "output_type": "display_data"
    }
   ],
   "source": [
    "from sklearn.metrics import confusion_matrix\n",
    "\n",
    "sns.set_context('talk')\n",
    "cm = confusion_matrix(y_test, y_pred)\n",
    "ax = sns.heatmap(cm, annot=True, fmt='d')"
   ]
  },
  {
   "cell_type": "markdown",
   "metadata": {},
   "source": [
    "## Question 11\n",
    "\n",
    "* Create an AdaBoost model and fit it using grid search, much like question 10. Try a range of estimators between 100 and 200.\n",
    "* Compare the errors from AdaBoost to those from the GradientBoostedClassifier.\n",
    "\n",
    "**NOTE:** Setting `max_features=4` in the decision tree classifier used as the base classifier for AdaBoost will increase the convergence rate."
   ]
  },
  {
   "cell_type": "code",
   "execution_count": 43,
   "metadata": {
    "ExecuteTime": {
     "end_time": "2017-05-10T01:14:04.907337Z",
     "start_time": "2017-05-10T01:14:03.445697Z"
    }
   },
   "outputs": [],
   "source": [
    "from sklearn.ensemble import AdaBoostClassifier\n",
    "from sklearn.tree import DecisionTreeClassifier\n",
    "\n",
    "ABC = AdaBoostClassifier(DecisionTreeClassifier(max_features=4))\n",
    "\n",
    "param_grid = {'n_estimators': [50, 100, 150, 200],\n",
    "              'learning_rate': [0.01, 0.001, 0.0001]}\n",
    "\n",
    "GV_ABC = GridSearchCV(ABC,\n",
    "                      param_grid=param_grid, \n",
    "                      scoring='accuracy',\n",
    "                      cv=5,\n",
    "                      return_train_score=True,\n",
    "                      iid=False,\n",
    "                      n_jobs=-1)\n",
    "\n",
    "GV_ABC = GV_ABC.fit(X_train, y_train)"
   ]
  },
  {
   "cell_type": "markdown",
   "metadata": {},
   "source": [
    "The best model."
   ]
  },
  {
   "cell_type": "code",
   "execution_count": 44,
   "metadata": {},
   "outputs": [
    {
     "data": {
      "text/plain": [
       "{'learning_rate': 0.001, 'n_estimators': 100}"
      ]
     },
     "execution_count": 44,
     "metadata": {},
     "output_type": "execute_result"
    }
   ],
   "source": [
    "GV_ABC.best_params_"
   ]
  },
  {
   "cell_type": "code",
   "execution_count": 45,
   "metadata": {
    "ExecuteTime": {
     "end_time": "2017-05-10T01:14:27.449489Z",
     "start_time": "2017-05-10T01:14:27.441823Z"
    }
   },
   "outputs": [
    {
     "data": {
      "text/plain": [
       "AdaBoostClassifier(algorithm='SAMME.R',\n",
       "          base_estimator=DecisionTreeClassifier(class_weight=None, criterion='gini', max_depth=None,\n",
       "            max_features=4, max_leaf_nodes=None, min_impurity_decrease=0.0,\n",
       "            min_impurity_split=None, min_samples_leaf=1,\n",
       "            min_samples_split=2, min_weight_fraction_leaf=0.0,\n",
       "            presort=False, random_state=None, splitter='best'),\n",
       "          learning_rate=0.001, n_estimators=100, random_state=None)"
      ]
     },
     "execution_count": 45,
     "metadata": {},
     "output_type": "execute_result"
    }
   ],
   "source": [
    "# The best model\n",
    "GV_ABC.best_estimator_"
   ]
  },
  {
   "cell_type": "markdown",
   "metadata": {},
   "source": [
    "The error metrics. Note that the issues with class 0,1 and 2 appear to have become more problematic and now include class 0. AdaBoost is very sensitive to outliers, so that could be the problem here."
   ]
  },
  {
   "cell_type": "code",
   "execution_count": 54,
   "metadata": {
    "ExecuteTime": {
     "end_time": "2017-05-10T01:14:28.970078Z",
     "start_time": "2017-05-10T01:14:28.950952Z"
    }
   },
   "outputs": [
    {
     "name": "stdout",
     "output_type": "stream",
     "text": [
      "              precision    recall  f1-score   support\n",
      "\n",
      "           0       1.00      1.00      1.00        40\n",
      "           1       0.81      0.97      0.89        40\n",
      "           2       0.97      0.78      0.86        40\n",
      "\n",
      "   micro avg       0.92      0.92      0.92       120\n",
      "   macro avg       0.93      0.92      0.92       120\n",
      "weighted avg       0.93      0.92      0.92       120\n",
      "\n"
     ]
    }
   ],
   "source": [
    "from sklearn.metrics import classification_report\n",
    "\n",
    "y_pred_abc = GV_ABC.predict(X_test)\n",
    "print(classification_report(y_test, y_pred_abc))"
   ]
  },
  {
   "cell_type": "code",
   "execution_count": 55,
   "metadata": {
    "ExecuteTime": {
     "end_time": "2017-05-10T01:14:30.262072Z",
     "start_time": "2017-05-10T01:14:29.908366Z"
    }
   },
   "outputs": [
    {
     "data": {
      "image/png": "[encoded data removed]",
      "text/plain": [
       "<Figure size 432x288 with 2 Axes>"
      ]
     },
     "metadata": {},
     "output_type": "display_data"
    }
   ],
   "source": [
    "from sklearn.metrics import confusion_matrix\n",
    "\n",
    "sns.set_context('talk')\n",
    "cm = confusion_matrix(y_test, y_pred_abc)\n",
    "ax = sns.heatmap(cm, annot=True, fmt='d')"
   ]
  },
  {
   "cell_type": "markdown",
   "metadata": {},
   "source": [
    "## Question 12\n",
    "\n",
    "* Fit a logistic regression model with regularization. This can be a replica of a model that worked well in the exercises from week 4.\n",
    "* Using `VotingClassifier`, fit the logistic regression model along with either the GratientBoostedClassifier or the AdaBoost model (or both) from questions 10 and 11.\n",
    "* Determine the error as before and compare the results to the appropriate gradient boosted model(s).\n",
    "* Plot the confusion matrix for the best model created in this set of exercises."
   ]
  },
  {
   "cell_type": "code",
   "execution_count": 56,
   "metadata": {
    "ExecuteTime": {
     "end_time": "2017-05-10T01:15:02.371973Z",
     "start_time": "2017-05-10T01:14:37.658154Z"
    }
   },
   "outputs": [],
   "source": [
    "from sklearn.linear_model import LogisticRegressionCV\n",
    "\n",
    "# L2 regularized logistic regression\n",
    "LR_L2 = LogisticRegressionCV(Cs=4, cv=5, penalty='l2', multi_class='ovr', max_iter=1e4, class_weight='balanced').fit(X_train, y_train)"
   ]
  },
  {
   "cell_type": "markdown",
   "metadata": {},
   "source": [
    "Check the errors and confusion matrix for the logistic regression model."
   ]
  },
  {
   "cell_type": "code",
   "execution_count": 57,
   "metadata": {
    "ExecuteTime": {
     "end_time": "2017-05-10T01:16:54.633111Z",
     "start_time": "2017-05-10T01:16:54.616577Z"
    },
    "scrolled": true
   },
   "outputs": [
    {
     "name": "stdout",
     "output_type": "stream",
     "text": [
      "              precision    recall  f1-score   support\n",
      "\n",
      "           0       0.89      0.97      0.93        40\n",
      "           1       0.89      0.78      0.83        40\n",
      "           2       0.90      0.93      0.91        40\n",
      "\n",
      "   micro avg       0.89      0.89      0.89       120\n",
      "   macro avg       0.89      0.89      0.89       120\n",
      "weighted avg       0.89      0.89      0.89       120\n",
      "\n"
     ]
    }
   ],
   "source": [
    "y_pred_LR = LR_L2.predict(X_test)\n",
    "print(classification_report(y_test, y_pred_LR))"
   ]
  },
  {
   "cell_type": "code",
   "execution_count": 58,
   "metadata": {
    "ExecuteTime": {
     "end_time": "2017-05-10T01:16:55.955121Z",
     "start_time": "2017-05-10T01:16:55.620672Z"
    }
   },
   "outputs": [
    {
     "data": {
      "image/png": "[encoded data removed]",
      "text/plain": [
       "<Figure size 432x288 with 2 Axes>"
      ]
     },
     "metadata": {},
     "output_type": "display_data"
    }
   ],
   "source": [
    "sns.set_context('talk')\n",
    "cm = confusion_matrix(y_test, y_pred_LR)\n",
    "ax = sns.heatmap(cm, annot=True, fmt='d')"
   ]
  },
  {
   "cell_type": "markdown",
   "metadata": {},
   "source": [
    "And now the stacked model."
   ]
  },
  {
   "cell_type": "code",
   "execution_count": 59,
   "metadata": {
    "ExecuteTime": {
     "end_time": "2017-05-10T01:18:06.520265Z",
     "start_time": "2017-05-10T01:16:57.388412Z"
    }
   },
   "outputs": [],
   "source": [
    "from sklearn.ensemble import VotingClassifier\n",
    "\n",
    "# The combined model--logistic regression and gradient boosted trees\n",
    "estimators = [('ABC', GV_ABC), ('GBC', GV_GBC)]\n",
    "\n",
    "# Though it wasn't done here, it is often desirable to train \n",
    "# this model using an additional hold-out data set and/or with cross validation\n",
    "VC = VotingClassifier(estimators, voting='soft')\n",
    "VC = VC.fit(X_train, y_train)"
   ]
  },
  {
   "cell_type": "markdown",
   "metadata": {},
   "source": [
    "Finally the error on the voting classifier. We do a little better here than with either ada-boosted trees or gradient boosted trees alone. However, the fact that logistic regression does almost as well as gradient boosted trees is an important reminder that it's good practice to try the simplest model first. In some cases, its performance will be good enough."
   ]
  },
  {
   "cell_type": "code",
   "execution_count": 60,
   "metadata": {
    "ExecuteTime": {
     "end_time": "2017-05-10T01:19:50.917331Z",
     "start_time": "2017-05-10T01:19:50.524569Z"
    }
   },
   "outputs": [
    {
     "name": "stdout",
     "output_type": "stream",
     "text": [
      "              precision    recall  f1-score   support\n",
      "\n",
      "           0       1.00      1.00      1.00        40\n",
      "           1       0.92      0.88      0.90        40\n",
      "           2       0.88      0.93      0.90        40\n",
      "\n",
      "   micro avg       0.93      0.93      0.93       120\n",
      "   macro avg       0.93      0.93      0.93       120\n",
      "weighted avg       0.93      0.93      0.93       120\n",
      "\n"
     ]
    }
   ],
   "source": [
    "y_pred_VC = VC.predict(X_test)\n",
    "print(classification_report(y_test, y_pred_VC))"
   ]
  },
  {
   "cell_type": "code",
   "execution_count": 61,
   "metadata": {},
   "outputs": [
    {
     "data": {
      "image/png": "[encoded data removed]",
      "text/plain": [
       "<Figure size 432x288 with 2 Axes>"
      ]
     },
     "metadata": {},
     "output_type": "display_data"
    }
   ],
   "source": [
    "sns.set_context('talk')\n",
    "cm = confusion_matrix(y_test, y_pred_VC)\n",
    "ax = sns.heatmap(cm, annot=True, fmt='d')"
   ]
  },
  {
   "cell_type": "code",
   "execution_count": null,
   "metadata": {},
   "outputs": [],
   "source": []
  }
 ],
 "metadata": {
  "kernelspec": {
   "display_name": "Python 3",
   "language": "python",
   "name": "python3"
  },
  "language_info": {
   "codemirror_mode": {
    "name": "ipython",
    "version": 3
   },
   "file_extension": ".py",
   "mimetype": "text/x-python",
   "name": "python",
   "nbconvert_exporter": "python",
   "pygments_lexer": "ipython3",
   "version": "3.6.8"
  }
 },
 "nbformat": 4,
 "nbformat_minor": 2
}
