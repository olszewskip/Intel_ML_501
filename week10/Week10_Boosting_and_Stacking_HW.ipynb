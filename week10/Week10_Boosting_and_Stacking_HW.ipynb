{
 "cells": [
  {
   "cell_type": "markdown",
   "metadata": {
    "run_control": {
     "marked": true
    }
   },
   "source": [
    "# Boosting and Stacking Exercises"
   ]
  },
  {
   "cell_type": "markdown",
   "metadata": {
    "run_control": {
     "marked": true
    }
   },
   "source": [
    "## Introduction\n",
    "\n",
    "We will be using the [Human Activity Recognition with Smartphones](https://archive.ics.uci.edu/ml/datasets/Human+Activity+Recognition+Using+Smartphones) database, which was built from the recordings of study participants performing activities of daily living (ADL) while carrying a smartphone with an embedded inertial sensors. The objective is to classify activities into one of the six activities (walking, walking upstairs, walking downstairs, sitting, standing, and laying) performed.\n",
    "\n",
    "For each record in the dataset it is provided: \n",
    "\n",
    "- Triaxial acceleration from the accelerometer (total acceleration) and the estimated body acceleration. \n",
    "- Triaxial angular velocity from the gyroscope. \n",
    "- A 561-feature vector with time and frequency domain variables. \n",
    "- Its activity label. \n",
    "\n",
    "More information about the features is available on the website above."
   ]
  },
  {
   "cell_type": "code",
   "execution_count": 1,
   "metadata": {
    "ExecuteTime": {
     "end_time": "2017-05-10T01:11:37.499763Z",
     "start_time": "2017-05-10T01:11:37.494556Z"
    },
    "run_control": {
     "marked": true
    }
   },
   "outputs": [],
   "source": [
    "from __future__ import print_function\n",
    "import os\n",
    "data_path = ['data']"
   ]
  },
  {
   "cell_type": "markdown",
   "metadata": {
    "run_control": {
     "marked": true
    }
   },
   "source": [
    "## Question 1\n",
    "\n",
    "* Import the data from the file `Human_Activity_Recognition_Using_Smartphones_Data.csv` and examine the shape and data types. For the data types, there will be too many to list each column separately. Rather, aggregate the types by count.\n",
    "* Determine if the float columns need to be scaled."
   ]
  },
  {
   "cell_type": "code",
   "execution_count": 3,
   "metadata": {
    "ExecuteTime": {
     "end_time": "2017-05-10T01:11:40.978852Z",
     "start_time": "2017-05-10T01:11:38.803273Z"
    },
    "run_control": {
     "marked": true
    }
   },
   "outputs": [],
   "source": [
    "import pandas as pd\n",
    "import numpy as np\n",
    "\n",
    "filepath = os.sep.join(data_path + ['Human_Activity_Recognition_Using_Smartphones_Data.csv'])\n",
    "data = pd.read_csv(filepath, sep=',')"
   ]
  },
  {
   "cell_type": "markdown",
   "metadata": {
    "run_control": {
     "marked": true
    }
   },
   "source": [
    "The data has quite a few predictor columns."
   ]
  },
  {
   "cell_type": "code",
   "execution_count": 4,
   "metadata": {
    "ExecuteTime": {
     "end_time": "2017-05-10T01:11:40.990654Z",
     "start_time": "2017-05-10T01:11:40.980224Z"
    },
    "run_control": {
     "marked": true
    }
   },
   "outputs": [
    {
     "data": {
      "text/plain": [
       "(10299, 562)"
      ]
     },
     "execution_count": 4,
     "metadata": {},
     "output_type": "execute_result"
    }
   ],
   "source": [
    "data.shape"
   ]
  },
  {
   "cell_type": "markdown",
   "metadata": {
    "run_control": {
     "marked": true
    }
   },
   "source": [
    "And they're all float values. The only non-float is the categories column, which is what's being predicted."
   ]
  },
  {
   "cell_type": "code",
   "execution_count": 5,
   "metadata": {
    "ExecuteTime": {
     "end_time": "2017-05-10T01:11:43.154139Z",
     "start_time": "2017-05-10T01:11:43.146147Z"
    },
    "run_control": {
     "marked": true
    }
   },
   "outputs": [
    {
     "data": {
      "text/plain": [
       "float64    561\n",
       "object       1\n",
       "dtype: int64"
      ]
     },
     "execution_count": 5,
     "metadata": {},
     "output_type": "execute_result"
    }
   ],
   "source": [
    "data.dtypes.value_counts()"
   ]
  },
  {
   "cell_type": "markdown",
   "metadata": {
    "run_control": {
     "marked": true
    }
   },
   "source": [
    "The minimum and maximum value for the float columns is -1.0 and 1.0, respectively. However, scaling is never required for tree-based methods."
   ]
  },
  {
   "cell_type": "code",
   "execution_count": 6,
   "metadata": {
    "ExecuteTime": {
     "end_time": "2017-05-10T01:11:44.300555Z",
     "start_time": "2017-05-10T01:11:44.102410Z"
    },
    "run_control": {
     "marked": true
    }
   },
   "outputs": [
    {
     "name": "stdout",
     "output_type": "stream",
     "text": [
      "True\n",
      "True\n"
     ]
    }
   ],
   "source": [
    "# Mask to select float columns\n",
    "float_columns = (data.dtypes == np.float)\n",
    "\n",
    "# Verify that the maximum of all float columns is 1.0\n",
    "print( (data.loc[:,float_columns].max()==1.0).all() )\n",
    "\n",
    "# Verify that the minimum of all float columns is -1.0\n",
    "print( (data.loc[:,float_columns].min()==-1.0).all() )"
   ]
  },
  {
   "cell_type": "markdown",
   "metadata": {
    "run_control": {
     "marked": true
    }
   },
   "source": [
    "## Question 2\n",
    "\n",
    "* Integer encode the activities.\n",
    "* Split the data into train and test data sets. Decide if the data will be stratified or not during the train/test split."
   ]
  },
  {
   "cell_type": "code",
   "execution_count": 7,
   "metadata": {
    "ExecuteTime": {
     "end_time": "2017-05-10T01:11:45.754512Z",
     "start_time": "2017-05-10T01:11:45.334989Z"
    },
    "run_control": {
     "marked": true
    }
   },
   "outputs": [
    {
     "data": {
      "text/plain": [
       "array(['LAYING', 'SITTING', 'STANDING', 'WALKING', 'WALKING_DOWNSTAIRS',\n",
       "       'WALKING_UPSTAIRS'], dtype=object)"
      ]
     },
     "execution_count": 7,
     "metadata": {},
     "output_type": "execute_result"
    }
   ],
   "source": [
    "from sklearn.preprocessing import LabelEncoder\n",
    "\n",
    "le = LabelEncoder()\n",
    "\n",
    "data['Activity'] = le.fit_transform(data['Activity'])\n",
    "\n",
    "le.classes_"
   ]
  },
  {
   "cell_type": "code",
   "execution_count": 9,
   "metadata": {},
   "outputs": [
    {
     "data": {
      "text/plain": [
       "array([0, 1, 2, 3, 4, 5])"
      ]
     },
     "execution_count": 9,
     "metadata": {},
     "output_type": "execute_result"
    }
   ],
   "source": [
    "le.transform(le.classes_)"
   ]
  },
  {
   "cell_type": "code",
   "execution_count": 8,
   "metadata": {
    "ExecuteTime": {
     "end_time": "2017-05-10T01:11:46.020353Z",
     "start_time": "2017-05-10T01:11:46.015161Z"
    },
    "run_control": {
     "marked": true
    }
   },
   "outputs": [
    {
     "data": {
      "text/plain": [
       "array([2, 1, 0, 3, 4, 5])"
      ]
     },
     "execution_count": 8,
     "metadata": {},
     "output_type": "execute_result"
    }
   ],
   "source": [
    "data.Activity.unique()"
   ]
  },
  {
   "cell_type": "markdown",
   "metadata": {
    "run_control": {
     "marked": true
    }
   },
   "source": [
    "**NOTE**: We are about to create training and test sets from `data`. On those datasets, we are going to run grid searches over many choices of parameters. This can take some time. In order to shorten the grid search time, feel free to downsample `data` and create `X_train, X_test, y_train, y_test` from the downsampled dataset.\n",
    "\n",
    "Now split the data into train and test data sets. A stratified split was not used here. If there are issues with any of the error metrics on the test set, it can be a good idea to start model fitting over using a stratified split. Boosting is a pretty powerful model, though, so it may not be necessary in this case."
   ]
  },
  {
   "cell_type": "code",
   "execution_count": 11,
   "metadata": {
    "ExecuteTime": {
     "end_time": "2017-05-10T01:11:47.606561Z",
     "start_time": "2017-05-10T01:11:47.494263Z"
    },
    "run_control": {
     "marked": true
    }
   },
   "outputs": [],
   "source": [
    "from sklearn.model_selection import train_test_split\n",
    "\n",
    "# Alternatively, we could stratify the categories in the split, as was done previously\n",
    "feature_columns = [x for x in data.columns if x != 'Activity']\n",
    "\n",
    "X_train, X_test, y_train, y_test = train_test_split(data[feature_columns], data['Activity'],\n",
    "                 test_size=0.3, random_state=42, stratify = data['Activity'])\n"
   ]
  },
  {
   "cell_type": "code",
   "execution_count": 12,
   "metadata": {
    "ExecuteTime": {
     "end_time": "2017-05-10T01:11:49.286980Z",
     "start_time": "2017-05-10T01:11:49.274354Z"
    },
    "run_control": {
     "marked": true
    }
   },
   "outputs": [
    {
     "data": {
      "text/plain": [
       "((7209, 561), (7209,), (3090, 561), (3090,))"
      ]
     },
     "execution_count": 12,
     "metadata": {},
     "output_type": "execute_result"
    }
   ],
   "source": [
    "X_train.shape, y_train.shape, X_test.shape, y_test.shape"
   ]
  },
  {
   "cell_type": "markdown",
   "metadata": {
    "run_control": {
     "marked": true
    }
   },
   "source": [
    "## Question 3\n",
    "\n",
    "* Fit gradient boosted tree models with all parameters set to their defaults the following tree numbers (`n_estimators = [25, 50, 100, 200, 400]`) and evaluate the accuracy on the test data for each of these models. \n",
    "* Plot the accuracy as a function of estimator number.\n",
    "\n",
    "**Note:** This question may take some time to execute, depending on how many different values are fit for estimators. Setting `max_features=4` in the gradient boosting classifier will increase the convergence rate.\n",
    "\n",
    "Also, this is similar to question 3 from week 9, except that there is no such thing as out-of-bag error for boosted models. And the `warm_flag=True` setting has a bug in the gradient boosted model, so don't use it. Simply create the model inside the `for` loop and set the number of estimators at this time. This will make the fitting take a little longer. Additionally, boosting models tend to take longer to fit than bagged ones because the decision stumps must be fit successively."
   ]
  },
  {
   "cell_type": "code",
   "execution_count": 17,
   "metadata": {
    "ExecuteTime": {
     "end_time": "2017-05-10T01:12:11.212764Z",
     "start_time": "2017-05-10T01:11:51.188370Z"
    },
    "run_control": {
     "marked": true
    }
   },
   "outputs": [
    {
     "data": {
      "text/html": [
       "<div>\n",
       "<style scoped>\n",
       "    .dataframe tbody tr th:only-of-type {\n",
       "        vertical-align: middle;\n",
       "    }\n",
       "\n",
       "    .dataframe tbody tr th {\n",
       "        vertical-align: top;\n",
       "    }\n",
       "\n",
       "    .dataframe thead th {\n",
       "        text-align: right;\n",
       "    }\n",
       "</style>\n",
       "<table border=\"1\" class=\"dataframe\">\n",
       "  <thead>\n",
       "    <tr style=\"text-align: right;\">\n",
       "      <th></th>\n",
       "      <th>error</th>\n",
       "    </tr>\n",
       "    <tr>\n",
       "      <th>n_trees</th>\n",
       "      <th></th>\n",
       "    </tr>\n",
       "  </thead>\n",
       "  <tbody>\n",
       "    <tr>\n",
       "      <th>15.0</th>\n",
       "      <td>0.115534</td>\n",
       "    </tr>\n",
       "    <tr>\n",
       "      <th>50.0</th>\n",
       "      <td>0.043366</td>\n",
       "    </tr>\n",
       "    <tr>\n",
       "      <th>100.0</th>\n",
       "      <td>0.023948</td>\n",
       "    </tr>\n",
       "    <tr>\n",
       "      <th>200.0</th>\n",
       "      <td>0.016181</td>\n",
       "    </tr>\n",
       "    <tr>\n",
       "      <th>400.0</th>\n",
       "      <td>0.011650</td>\n",
       "    </tr>\n",
       "    <tr>\n",
       "      <th>800.0</th>\n",
       "      <td>0.008738</td>\n",
       "    </tr>\n",
       "  </tbody>\n",
       "</table>\n",
       "</div>"
      ],
      "text/plain": [
       "            error\n",
       "n_trees          \n",
       "15.0     0.115534\n",
       "50.0     0.043366\n",
       "100.0    0.023948\n",
       "200.0    0.016181\n",
       "400.0    0.011650\n",
       "800.0    0.008738"
      ]
     },
     "execution_count": 17,
     "metadata": {},
     "output_type": "execute_result"
    }
   ],
   "source": [
    "from sklearn.ensemble import GradientBoostingClassifier\n",
    "from sklearn.metrics import accuracy_score\n",
    "\n",
    "error_list = list()\n",
    "\n",
    "# Iterate through all of the possibilities for number of estimators\n",
    "tree_list = [15, 50, 100, 200, 400, 800]\n",
    "for n_trees in tree_list:\n",
    "    \n",
    "    # Initialize the gradient boost classifier\n",
    "    GBC = GradientBoostingClassifier(n_estimators=n_trees, \n",
    "                                     subsample=0.5,\n",
    "                                     max_features=4,\n",
    "                                     random_state=42)\n",
    "\n",
    "    # Fit the model\n",
    "    GBC.fit(X_train.values, y_train.values)\n",
    "    y_pred = GBC.predict(X_test)\n",
    "\n",
    "    # Get the error\n",
    "    error = 1. - accuracy_score(y_test, y_pred)\n",
    "    \n",
    "    # Store it\n",
    "    error_list.append(pd.Series({'n_trees': n_trees, 'error': error}))\n",
    "\n",
    "error_df = pd.concat(error_list, axis=1).T.set_index('n_trees')\n",
    "\n",
    "error_df"
   ]
  },
  {
   "cell_type": "markdown",
   "metadata": {},
   "source": [
    "Now plot the result."
   ]
  },
  {
   "cell_type": "code",
   "execution_count": 15,
   "metadata": {
    "ExecuteTime": {
     "end_time": "2017-05-10T01:12:41.798817Z",
     "start_time": "2017-05-10T01:12:41.526579Z"
    }
   },
   "outputs": [],
   "source": [
    "import matplotlib.pyplot as plt\n",
    "import seaborn as sns\n",
    "\n",
    "%matplotlib inline"
   ]
  },
  {
   "cell_type": "code",
   "execution_count": null,
   "metadata": {
    "collapsed": true
   },
   "outputs": [],
   "source": [
    "#!pip install seaborn"
   ]
  },
  {
   "cell_type": "code",
   "execution_count": 18,
   "metadata": {
    "ExecuteTime": {
     "end_time": "2017-05-10T01:12:59.958013Z",
     "start_time": "2017-05-10T01:12:59.668178Z"
    },
    "run_control": {
     "marked": true
    }
   },
   "outputs": [
    {
     "data": {
      "image/png": "[encoded data removed]",
      "text/plain": [
       "<Figure size 432x288 with 1 Axes>"
      ]
     },
     "metadata": {},
     "output_type": "display_data"
    }
   ],
   "source": [
    "sns.set_context('talk')\n",
    "sns.set_style('white')\n",
    "sns.set_palette('dark')\n",
    "\n",
    "# Create the plot\n",
    "ax = error_df.plot(marker='o')\n",
    "\n",
    "# Set parameters\n",
    "ax.set(xlabel='n_trees', ylabel='error')\n",
    "ax.set_xlim(0, max(error_df.index)*1.1);"
   ]
  },
  {
   "cell_type": "markdown",
   "metadata": {
    "run_control": {
     "marked": true
    }
   },
   "source": [
    "## Question 4\n",
    "\n",
    "* Using a grid search with cross-validation, fit a new gradient boosted classifier with the a list of estimators, similar to question 3. Also consider  varying the learning rates (0.1, 0.01, 0.001, etc.), the subsampling value (1.0 or 0.5), and the number of maximum features (1, 2, etc.).\n",
    "* Examine the parameters of the best fit model.\n",
    "* Calculate relevant error metrics on this model and examine the confusion matrix.\n",
    "\n",
    "**Note:** this question may take some time to execute, depending on how many features are associated with the grid search. It is recommended to start with only a few to ensure everything is working correctly and then add more features. Setting `max_features=4` in the gradient boosting classifier will increase the convergence rate."
   ]
  },
  {
   "cell_type": "code",
   "execution_count": 23,
   "metadata": {
    "ExecuteTime": {
     "end_time": "2017-05-10T01:13:50.069924Z",
     "start_time": "2017-05-10T01:13:04.015520Z"
    },
    "run_control": {
     "marked": true
    }
   },
   "outputs": [],
   "source": [
    "from sklearn.model_selection import GridSearchCV\n",
    "\n",
    "# The parameters to be fit--only n_estimators and learning rate\n",
    "# have been varied here for simplicity\n",
    "param_grid = {'n_estimators': [200, 400, 800],\n",
    "              'learning_rate': [1, 0.1, 0.01],\n",
    "              'subsample': [0.1, 0.5, 1]\n",
    "             }\n",
    "\n",
    "# The grid search object\n",
    "GV_GBC = GridSearchCV(GradientBoostingClassifier(max_features=4,\n",
    "                                                 random_state=42), \n",
    "                      param_grid=param_grid, \n",
    "                      scoring='accuracy',\n",
    "                      n_jobs=-1,\n",
    "                      cv=5,\n",
    "                     return_train_score=True)\n",
    "\n",
    "# Do the grid search\n",
    "GV_GBC = GV_GBC.fit(X_train, y_train)"
   ]
  },
  {
   "cell_type": "code",
   "execution_count": 24,
   "metadata": {},
   "outputs": [
    {
     "data": {
      "text/html": [
       "<div>\n",
       "<style scoped>\n",
       "    .dataframe tbody tr th:only-of-type {\n",
       "        vertical-align: middle;\n",
       "    }\n",
       "\n",
       "    .dataframe tbody tr th {\n",
       "        vertical-align: top;\n",
       "    }\n",
       "\n",
       "    .dataframe thead th {\n",
       "        text-align: right;\n",
       "    }\n",
       "</style>\n",
       "<table border=\"1\" class=\"dataframe\">\n",
       "  <thead>\n",
       "    <tr style=\"text-align: right;\">\n",
       "      <th></th>\n",
       "      <th>mean_fit_time</th>\n",
       "      <th>std_fit_time</th>\n",
       "      <th>mean_score_time</th>\n",
       "      <th>std_score_time</th>\n",
       "      <th>param_learning_rate</th>\n",
       "      <th>param_n_estimators</th>\n",
       "      <th>param_subsample</th>\n",
       "      <th>params</th>\n",
       "      <th>split0_test_score</th>\n",
       "      <th>split1_test_score</th>\n",
       "      <th>...</th>\n",
       "      <th>mean_test_score</th>\n",
       "      <th>std_test_score</th>\n",
       "      <th>rank_test_score</th>\n",
       "      <th>split0_train_score</th>\n",
       "      <th>split1_train_score</th>\n",
       "      <th>split2_train_score</th>\n",
       "      <th>split3_train_score</th>\n",
       "      <th>split4_train_score</th>\n",
       "      <th>mean_train_score</th>\n",
       "      <th>std_train_score</th>\n",
       "    </tr>\n",
       "  </thead>\n",
       "  <tbody>\n",
       "    <tr>\n",
       "      <th>0</th>\n",
       "      <td>6.680025</td>\n",
       "      <td>0.127109</td>\n",
       "      <td>0.148908</td>\n",
       "      <td>0.026413</td>\n",
       "      <td>1</td>\n",
       "      <td>200</td>\n",
       "      <td>0.1</td>\n",
       "      <td>{'learning_rate': 1, 'n_estimators': 200, 'sub...</td>\n",
       "      <td>0.220222</td>\n",
       "      <td>0.138003</td>\n",
       "      <td>...</td>\n",
       "      <td>0.238175</td>\n",
       "      <td>0.090272</td>\n",
       "      <td>25</td>\n",
       "      <td>0.220989</td>\n",
       "      <td>0.137853</td>\n",
       "      <td>0.283336</td>\n",
       "      <td>0.155193</td>\n",
       "      <td>0.392721</td>\n",
       "      <td>0.238019</td>\n",
       "      <td>0.092919</td>\n",
       "    </tr>\n",
       "    <tr>\n",
       "      <th>1</th>\n",
       "      <td>8.784406</td>\n",
       "      <td>0.312568</td>\n",
       "      <td>0.132490</td>\n",
       "      <td>0.005545</td>\n",
       "      <td>1</td>\n",
       "      <td>200</td>\n",
       "      <td>0.5</td>\n",
       "      <td>{'learning_rate': 1, 'n_estimators': 200, 'sub...</td>\n",
       "      <td>0.268006</td>\n",
       "      <td>0.042302</td>\n",
       "      <td>...</td>\n",
       "      <td>0.251769</td>\n",
       "      <td>0.108515</td>\n",
       "      <td>22</td>\n",
       "      <td>0.261578</td>\n",
       "      <td>0.033119</td>\n",
       "      <td>0.275533</td>\n",
       "      <td>0.301196</td>\n",
       "      <td>0.376256</td>\n",
       "      <td>0.249537</td>\n",
       "      <td>0.115225</td>\n",
       "    </tr>\n",
       "    <tr>\n",
       "      <th>2</th>\n",
       "      <td>7.126194</td>\n",
       "      <td>0.813941</td>\n",
       "      <td>0.047791</td>\n",
       "      <td>0.004831</td>\n",
       "      <td>1</td>\n",
       "      <td>200</td>\n",
       "      <td>1</td>\n",
       "      <td>{'learning_rate': 1, 'n_estimators': 200, 'sub...</td>\n",
       "      <td>0.973684</td>\n",
       "      <td>0.972954</td>\n",
       "      <td>...</td>\n",
       "      <td>0.969621</td>\n",
       "      <td>0.003715</td>\n",
       "      <td>12</td>\n",
       "      <td>1.000000</td>\n",
       "      <td>1.000000</td>\n",
       "      <td>1.000000</td>\n",
       "      <td>1.000000</td>\n",
       "      <td>1.000000</td>\n",
       "      <td>1.000000</td>\n",
       "      <td>0.000000</td>\n",
       "    </tr>\n",
       "    <tr>\n",
       "      <th>3</th>\n",
       "      <td>17.488237</td>\n",
       "      <td>0.900984</td>\n",
       "      <td>0.320653</td>\n",
       "      <td>0.039907</td>\n",
       "      <td>1</td>\n",
       "      <td>400</td>\n",
       "      <td>0.1</td>\n",
       "      <td>{'learning_rate': 1, 'n_estimators': 400, 'sub...</td>\n",
       "      <td>0.220222</td>\n",
       "      <td>0.138003</td>\n",
       "      <td>...</td>\n",
       "      <td>0.238175</td>\n",
       "      <td>0.090272</td>\n",
       "      <td>25</td>\n",
       "      <td>0.220989</td>\n",
       "      <td>0.137853</td>\n",
       "      <td>0.283336</td>\n",
       "      <td>0.155193</td>\n",
       "      <td>0.392721</td>\n",
       "      <td>0.238019</td>\n",
       "      <td>0.092919</td>\n",
       "    </tr>\n",
       "    <tr>\n",
       "      <th>4</th>\n",
       "      <td>23.079675</td>\n",
       "      <td>2.653552</td>\n",
       "      <td>0.333500</td>\n",
       "      <td>0.063561</td>\n",
       "      <td>1</td>\n",
       "      <td>400</td>\n",
       "      <td>0.5</td>\n",
       "      <td>{'learning_rate': 1, 'n_estimators': 400, 'sub...</td>\n",
       "      <td>0.268006</td>\n",
       "      <td>0.042302</td>\n",
       "      <td>...</td>\n",
       "      <td>0.251769</td>\n",
       "      <td>0.108515</td>\n",
       "      <td>22</td>\n",
       "      <td>0.261578</td>\n",
       "      <td>0.033119</td>\n",
       "      <td>0.275533</td>\n",
       "      <td>0.301196</td>\n",
       "      <td>0.376256</td>\n",
       "      <td>0.249537</td>\n",
       "      <td>0.115225</td>\n",
       "    </tr>\n",
       "    <tr>\n",
       "      <th>5</th>\n",
       "      <td>22.571741</td>\n",
       "      <td>3.775073</td>\n",
       "      <td>0.079692</td>\n",
       "      <td>0.024212</td>\n",
       "      <td>1</td>\n",
       "      <td>400</td>\n",
       "      <td>1</td>\n",
       "      <td>{'learning_rate': 1, 'n_estimators': 400, 'sub...</td>\n",
       "      <td>0.973684</td>\n",
       "      <td>0.972954</td>\n",
       "      <td>...</td>\n",
       "      <td>0.969621</td>\n",
       "      <td>0.003715</td>\n",
       "      <td>12</td>\n",
       "      <td>1.000000</td>\n",
       "      <td>1.000000</td>\n",
       "      <td>1.000000</td>\n",
       "      <td>1.000000</td>\n",
       "      <td>1.000000</td>\n",
       "      <td>1.000000</td>\n",
       "      <td>0.000000</td>\n",
       "    </tr>\n",
       "    <tr>\n",
       "      <th>6</th>\n",
       "      <td>58.632815</td>\n",
       "      <td>10.507915</td>\n",
       "      <td>0.975384</td>\n",
       "      <td>0.298245</td>\n",
       "      <td>1</td>\n",
       "      <td>800</td>\n",
       "      <td>0.1</td>\n",
       "      <td>{'learning_rate': 1, 'n_estimators': 800, 'sub...</td>\n",
       "      <td>0.220222</td>\n",
       "      <td>0.138003</td>\n",
       "      <td>...</td>\n",
       "      <td>0.238175</td>\n",
       "      <td>0.090272</td>\n",
       "      <td>25</td>\n",
       "      <td>0.220989</td>\n",
       "      <td>0.137853</td>\n",
       "      <td>0.283336</td>\n",
       "      <td>0.155193</td>\n",
       "      <td>0.392721</td>\n",
       "      <td>0.238019</td>\n",
       "      <td>0.092919</td>\n",
       "    </tr>\n",
       "    <tr>\n",
       "      <th>7</th>\n",
       "      <td>52.755048</td>\n",
       "      <td>10.310031</td>\n",
       "      <td>0.829626</td>\n",
       "      <td>0.217326</td>\n",
       "      <td>1</td>\n",
       "      <td>800</td>\n",
       "      <td>0.5</td>\n",
       "      <td>{'learning_rate': 1, 'n_estimators': 800, 'sub...</td>\n",
       "      <td>0.268006</td>\n",
       "      <td>0.042302</td>\n",
       "      <td>...</td>\n",
       "      <td>0.251769</td>\n",
       "      <td>0.108515</td>\n",
       "      <td>22</td>\n",
       "      <td>0.261578</td>\n",
       "      <td>0.033119</td>\n",
       "      <td>0.275533</td>\n",
       "      <td>0.301196</td>\n",
       "      <td>0.376256</td>\n",
       "      <td>0.249537</td>\n",
       "      <td>0.115225</td>\n",
       "    </tr>\n",
       "    <tr>\n",
       "      <th>8</th>\n",
       "      <td>41.499863</td>\n",
       "      <td>1.783638</td>\n",
       "      <td>0.121180</td>\n",
       "      <td>0.030282</td>\n",
       "      <td>1</td>\n",
       "      <td>800</td>\n",
       "      <td>1</td>\n",
       "      <td>{'learning_rate': 1, 'n_estimators': 800, 'sub...</td>\n",
       "      <td>0.973684</td>\n",
       "      <td>0.972954</td>\n",
       "      <td>...</td>\n",
       "      <td>0.969621</td>\n",
       "      <td>0.003715</td>\n",
       "      <td>12</td>\n",
       "      <td>1.000000</td>\n",
       "      <td>1.000000</td>\n",
       "      <td>1.000000</td>\n",
       "      <td>1.000000</td>\n",
       "      <td>1.000000</td>\n",
       "      <td>1.000000</td>\n",
       "      <td>0.000000</td>\n",
       "    </tr>\n",
       "    <tr>\n",
       "      <th>9</th>\n",
       "      <td>14.069415</td>\n",
       "      <td>1.075234</td>\n",
       "      <td>0.209432</td>\n",
       "      <td>0.022982</td>\n",
       "      <td>0.1</td>\n",
       "      <td>200</td>\n",
       "      <td>0.1</td>\n",
       "      <td>{'learning_rate': 0.1, 'n_estimators': 200, 's...</td>\n",
       "      <td>0.980609</td>\n",
       "      <td>0.966713</td>\n",
       "      <td>...</td>\n",
       "      <td>0.971841</td>\n",
       "      <td>0.005157</td>\n",
       "      <td>10</td>\n",
       "      <td>0.998092</td>\n",
       "      <td>0.997226</td>\n",
       "      <td>0.996532</td>\n",
       "      <td>0.997919</td>\n",
       "      <td>0.997054</td>\n",
       "      <td>0.997364</td>\n",
       "      <td>0.000574</td>\n",
       "    </tr>\n",
       "    <tr>\n",
       "      <th>10</th>\n",
       "      <td>18.909915</td>\n",
       "      <td>1.127612</td>\n",
       "      <td>0.236808</td>\n",
       "      <td>0.040781</td>\n",
       "      <td>0.1</td>\n",
       "      <td>200</td>\n",
       "      <td>0.5</td>\n",
       "      <td>{'learning_rate': 0.1, 'n_estimators': 200, 's...</td>\n",
       "      <td>0.981302</td>\n",
       "      <td>0.980583</td>\n",
       "      <td>...</td>\n",
       "      <td>0.981967</td>\n",
       "      <td>0.002187</td>\n",
       "      <td>5</td>\n",
       "      <td>1.000000</td>\n",
       "      <td>0.999827</td>\n",
       "      <td>0.999653</td>\n",
       "      <td>0.999653</td>\n",
       "      <td>0.999827</td>\n",
       "      <td>0.999792</td>\n",
       "      <td>0.000130</td>\n",
       "    </tr>\n",
       "    <tr>\n",
       "      <th>11</th>\n",
       "      <td>20.553737</td>\n",
       "      <td>0.712247</td>\n",
       "      <td>0.238343</td>\n",
       "      <td>0.022713</td>\n",
       "      <td>0.1</td>\n",
       "      <td>200</td>\n",
       "      <td>1</td>\n",
       "      <td>{'learning_rate': 0.1, 'n_estimators': 200, 's...</td>\n",
       "      <td>0.987535</td>\n",
       "      <td>0.978502</td>\n",
       "      <td>...</td>\n",
       "      <td>0.981967</td>\n",
       "      <td>0.003076</td>\n",
       "      <td>5</td>\n",
       "      <td>1.000000</td>\n",
       "      <td>1.000000</td>\n",
       "      <td>1.000000</td>\n",
       "      <td>0.999827</td>\n",
       "      <td>1.000000</td>\n",
       "      <td>0.999965</td>\n",
       "      <td>0.000069</td>\n",
       "    </tr>\n",
       "    <tr>\n",
       "      <th>12</th>\n",
       "      <td>26.806193</td>\n",
       "      <td>0.943789</td>\n",
       "      <td>0.436272</td>\n",
       "      <td>0.029914</td>\n",
       "      <td>0.1</td>\n",
       "      <td>400</td>\n",
       "      <td>0.1</td>\n",
       "      <td>{'learning_rate': 0.1, 'n_estimators': 400, 's...</td>\n",
       "      <td>0.979224</td>\n",
       "      <td>0.972261</td>\n",
       "      <td>...</td>\n",
       "      <td>0.974754</td>\n",
       "      <td>0.003740</td>\n",
       "      <td>8</td>\n",
       "      <td>1.000000</td>\n",
       "      <td>1.000000</td>\n",
       "      <td>1.000000</td>\n",
       "      <td>1.000000</td>\n",
       "      <td>1.000000</td>\n",
       "      <td>1.000000</td>\n",
       "      <td>0.000000</td>\n",
       "    </tr>\n",
       "    <tr>\n",
       "      <th>13</th>\n",
       "      <td>31.598181</td>\n",
       "      <td>3.393013</td>\n",
       "      <td>0.259889</td>\n",
       "      <td>0.055024</td>\n",
       "      <td>0.1</td>\n",
       "      <td>400</td>\n",
       "      <td>0.5</td>\n",
       "      <td>{'learning_rate': 0.1, 'n_estimators': 400, 's...</td>\n",
       "      <td>0.985457</td>\n",
       "      <td>0.985437</td>\n",
       "      <td>...</td>\n",
       "      <td>0.985019</td>\n",
       "      <td>0.001789</td>\n",
       "      <td>4</td>\n",
       "      <td>1.000000</td>\n",
       "      <td>1.000000</td>\n",
       "      <td>1.000000</td>\n",
       "      <td>1.000000</td>\n",
       "      <td>1.000000</td>\n",
       "      <td>1.000000</td>\n",
       "      <td>0.000000</td>\n",
       "    </tr>\n",
       "    <tr>\n",
       "      <th>14</th>\n",
       "      <td>25.713192</td>\n",
       "      <td>2.445882</td>\n",
       "      <td>0.324153</td>\n",
       "      <td>0.116708</td>\n",
       "      <td>0.1</td>\n",
       "      <td>400</td>\n",
       "      <td>1</td>\n",
       "      <td>{'learning_rate': 0.1, 'n_estimators': 400, 's...</td>\n",
       "      <td>0.989612</td>\n",
       "      <td>0.983356</td>\n",
       "      <td>...</td>\n",
       "      <td>0.985435</td>\n",
       "      <td>0.002445</td>\n",
       "      <td>3</td>\n",
       "      <td>1.000000</td>\n",
       "      <td>1.000000</td>\n",
       "      <td>1.000000</td>\n",
       "      <td>1.000000</td>\n",
       "      <td>1.000000</td>\n",
       "      <td>1.000000</td>\n",
       "      <td>0.000000</td>\n",
       "    </tr>\n",
       "    <tr>\n",
       "      <th>15</th>\n",
       "      <td>40.204183</td>\n",
       "      <td>3.139023</td>\n",
       "      <td>0.500359</td>\n",
       "      <td>0.111488</td>\n",
       "      <td>0.1</td>\n",
       "      <td>800</td>\n",
       "      <td>0.1</td>\n",
       "      <td>{'learning_rate': 0.1, 'n_estimators': 800, 's...</td>\n",
       "      <td>0.981994</td>\n",
       "      <td>0.979889</td>\n",
       "      <td>...</td>\n",
       "      <td>0.981273</td>\n",
       "      <td>0.001307</td>\n",
       "      <td>7</td>\n",
       "      <td>1.000000</td>\n",
       "      <td>1.000000</td>\n",
       "      <td>1.000000</td>\n",
       "      <td>1.000000</td>\n",
       "      <td>1.000000</td>\n",
       "      <td>1.000000</td>\n",
       "      <td>0.000000</td>\n",
       "    </tr>\n",
       "    <tr>\n",
       "      <th>16</th>\n",
       "      <td>39.542729</td>\n",
       "      <td>0.898375</td>\n",
       "      <td>0.335169</td>\n",
       "      <td>0.044962</td>\n",
       "      <td>0.1</td>\n",
       "      <td>800</td>\n",
       "      <td>0.5</td>\n",
       "      <td>{'learning_rate': 0.1, 'n_estimators': 800, 's...</td>\n",
       "      <td>0.988920</td>\n",
       "      <td>0.988904</td>\n",
       "      <td>...</td>\n",
       "      <td>0.988209</td>\n",
       "      <td>0.001752</td>\n",
       "      <td>1</td>\n",
       "      <td>1.000000</td>\n",
       "      <td>1.000000</td>\n",
       "      <td>1.000000</td>\n",
       "      <td>1.000000</td>\n",
       "      <td>1.000000</td>\n",
       "      <td>1.000000</td>\n",
       "      <td>0.000000</td>\n",
       "    </tr>\n",
       "    <tr>\n",
       "      <th>17</th>\n",
       "      <td>40.145730</td>\n",
       "      <td>0.748201</td>\n",
       "      <td>0.360495</td>\n",
       "      <td>0.082247</td>\n",
       "      <td>0.1</td>\n",
       "      <td>800</td>\n",
       "      <td>1</td>\n",
       "      <td>{'learning_rate': 0.1, 'n_estimators': 800, 's...</td>\n",
       "      <td>0.990997</td>\n",
       "      <td>0.987517</td>\n",
       "      <td>...</td>\n",
       "      <td>0.987099</td>\n",
       "      <td>0.002182</td>\n",
       "      <td>2</td>\n",
       "      <td>1.000000</td>\n",
       "      <td>1.000000</td>\n",
       "      <td>1.000000</td>\n",
       "      <td>1.000000</td>\n",
       "      <td>1.000000</td>\n",
       "      <td>1.000000</td>\n",
       "      <td>0.000000</td>\n",
       "    </tr>\n",
       "    <tr>\n",
       "      <th>18</th>\n",
       "      <td>9.734227</td>\n",
       "      <td>0.551153</td>\n",
       "      <td>0.164877</td>\n",
       "      <td>0.035943</td>\n",
       "      <td>0.01</td>\n",
       "      <td>200</td>\n",
       "      <td>0.1</td>\n",
       "      <td>{'learning_rate': 0.01, 'n_estimators': 200, '...</td>\n",
       "      <td>0.927285</td>\n",
       "      <td>0.932039</td>\n",
       "      <td>...</td>\n",
       "      <td>0.920239</td>\n",
       "      <td>0.008050</td>\n",
       "      <td>20</td>\n",
       "      <td>0.930269</td>\n",
       "      <td>0.937923</td>\n",
       "      <td>0.940524</td>\n",
       "      <td>0.931854</td>\n",
       "      <td>0.931716</td>\n",
       "      <td>0.934457</td>\n",
       "      <td>0.004016</td>\n",
       "    </tr>\n",
       "    <tr>\n",
       "      <th>19</th>\n",
       "      <td>13.908559</td>\n",
       "      <td>1.329907</td>\n",
       "      <td>0.198511</td>\n",
       "      <td>0.067736</td>\n",
       "      <td>0.01</td>\n",
       "      <td>200</td>\n",
       "      <td>0.5</td>\n",
       "      <td>{'learning_rate': 0.01, 'n_estimators': 200, '...</td>\n",
       "      <td>0.928670</td>\n",
       "      <td>0.929265</td>\n",
       "      <td>...</td>\n",
       "      <td>0.919961</td>\n",
       "      <td>0.007900</td>\n",
       "      <td>21</td>\n",
       "      <td>0.939983</td>\n",
       "      <td>0.942604</td>\n",
       "      <td>0.940524</td>\n",
       "      <td>0.934455</td>\n",
       "      <td>0.936395</td>\n",
       "      <td>0.938792</td>\n",
       "      <td>0.002950</td>\n",
       "    </tr>\n",
       "    <tr>\n",
       "      <th>20</th>\n",
       "      <td>17.475973</td>\n",
       "      <td>1.048834</td>\n",
       "      <td>0.152547</td>\n",
       "      <td>0.011379</td>\n",
       "      <td>0.01</td>\n",
       "      <td>200</td>\n",
       "      <td>1</td>\n",
       "      <td>{'learning_rate': 0.01, 'n_estimators': 200, '...</td>\n",
       "      <td>0.932133</td>\n",
       "      <td>0.934119</td>\n",
       "      <td>...</td>\n",
       "      <td>0.923429</td>\n",
       "      <td>0.008025</td>\n",
       "      <td>19</td>\n",
       "      <td>0.942931</td>\n",
       "      <td>0.946593</td>\n",
       "      <td>0.943992</td>\n",
       "      <td>0.941564</td>\n",
       "      <td>0.944541</td>\n",
       "      <td>0.943924</td>\n",
       "      <td>0.001677</td>\n",
       "    </tr>\n",
       "    <tr>\n",
       "      <th>21</th>\n",
       "      <td>23.344826</td>\n",
       "      <td>2.442004</td>\n",
       "      <td>0.488592</td>\n",
       "      <td>0.121939</td>\n",
       "      <td>0.01</td>\n",
       "      <td>400</td>\n",
       "      <td>0.1</td>\n",
       "      <td>{'learning_rate': 0.01, 'n_estimators': 400, '...</td>\n",
       "      <td>0.957064</td>\n",
       "      <td>0.945908</td>\n",
       "      <td>...</td>\n",
       "      <td>0.946040</td>\n",
       "      <td>0.006672</td>\n",
       "      <td>18</td>\n",
       "      <td>0.962012</td>\n",
       "      <td>0.963413</td>\n",
       "      <td>0.963413</td>\n",
       "      <td>0.962372</td>\n",
       "      <td>0.961179</td>\n",
       "      <td>0.962478</td>\n",
       "      <td>0.000856</td>\n",
       "    </tr>\n",
       "    <tr>\n",
       "      <th>22</th>\n",
       "      <td>39.348968</td>\n",
       "      <td>1.986171</td>\n",
       "      <td>0.560709</td>\n",
       "      <td>0.119282</td>\n",
       "      <td>0.01</td>\n",
       "      <td>400</td>\n",
       "      <td>0.5</td>\n",
       "      <td>{'learning_rate': 0.01, 'n_estimators': 400, '...</td>\n",
       "      <td>0.957064</td>\n",
       "      <td>0.948682</td>\n",
       "      <td>...</td>\n",
       "      <td>0.950201</td>\n",
       "      <td>0.004436</td>\n",
       "      <td>17</td>\n",
       "      <td>0.973287</td>\n",
       "      <td>0.972603</td>\n",
       "      <td>0.971736</td>\n",
       "      <td>0.972603</td>\n",
       "      <td>0.971404</td>\n",
       "      <td>0.972326</td>\n",
       "      <td>0.000675</td>\n",
       "    </tr>\n",
       "    <tr>\n",
       "      <th>23</th>\n",
       "      <td>40.207036</td>\n",
       "      <td>2.189714</td>\n",
       "      <td>0.464574</td>\n",
       "      <td>0.071162</td>\n",
       "      <td>0.01</td>\n",
       "      <td>400</td>\n",
       "      <td>1</td>\n",
       "      <td>{'learning_rate': 0.01, 'n_estimators': 400, '...</td>\n",
       "      <td>0.957064</td>\n",
       "      <td>0.952843</td>\n",
       "      <td>...</td>\n",
       "      <td>0.951311</td>\n",
       "      <td>0.003275</td>\n",
       "      <td>16</td>\n",
       "      <td>0.975369</td>\n",
       "      <td>0.977978</td>\n",
       "      <td>0.975724</td>\n",
       "      <td>0.977111</td>\n",
       "      <td>0.974350</td>\n",
       "      <td>0.976106</td>\n",
       "      <td>0.001287</td>\n",
       "    </tr>\n",
       "    <tr>\n",
       "      <th>24</th>\n",
       "      <td>55.494746</td>\n",
       "      <td>1.824460</td>\n",
       "      <td>1.077740</td>\n",
       "      <td>0.248047</td>\n",
       "      <td>0.01</td>\n",
       "      <td>800</td>\n",
       "      <td>0.1</td>\n",
       "      <td>{'learning_rate': 0.01, 'n_estimators': 800, '...</td>\n",
       "      <td>0.971607</td>\n",
       "      <td>0.963245</td>\n",
       "      <td>...</td>\n",
       "      <td>0.965460</td>\n",
       "      <td>0.003566</td>\n",
       "      <td>15</td>\n",
       "      <td>0.987164</td>\n",
       "      <td>0.986822</td>\n",
       "      <td>0.985781</td>\n",
       "      <td>0.985261</td>\n",
       "      <td>0.985962</td>\n",
       "      <td>0.986198</td>\n",
       "      <td>0.000697</td>\n",
       "    </tr>\n",
       "    <tr>\n",
       "      <th>25</th>\n",
       "      <td>70.941075</td>\n",
       "      <td>3.885892</td>\n",
       "      <td>0.884020</td>\n",
       "      <td>0.094204</td>\n",
       "      <td>0.01</td>\n",
       "      <td>800</td>\n",
       "      <td>0.5</td>\n",
       "      <td>{'learning_rate': 0.01, 'n_estimators': 800, '...</td>\n",
       "      <td>0.975762</td>\n",
       "      <td>0.968793</td>\n",
       "      <td>...</td>\n",
       "      <td>0.971425</td>\n",
       "      <td>0.002350</td>\n",
       "      <td>11</td>\n",
       "      <td>0.993929</td>\n",
       "      <td>0.993064</td>\n",
       "      <td>0.992197</td>\n",
       "      <td>0.992024</td>\n",
       "      <td>0.993588</td>\n",
       "      <td>0.992960</td>\n",
       "      <td>0.000749</td>\n",
       "    </tr>\n",
       "    <tr>\n",
       "      <th>26</th>\n",
       "      <td>65.287981</td>\n",
       "      <td>11.946278</td>\n",
       "      <td>0.551491</td>\n",
       "      <td>0.209881</td>\n",
       "      <td>0.01</td>\n",
       "      <td>800</td>\n",
       "      <td>1</td>\n",
       "      <td>{'learning_rate': 0.01, 'n_estimators': 800, '...</td>\n",
       "      <td>0.976454</td>\n",
       "      <td>0.971567</td>\n",
       "      <td>...</td>\n",
       "      <td>0.972534</td>\n",
       "      <td>0.002010</td>\n",
       "      <td>9</td>\n",
       "      <td>0.994970</td>\n",
       "      <td>0.994451</td>\n",
       "      <td>0.993758</td>\n",
       "      <td>0.994971</td>\n",
       "      <td>0.994801</td>\n",
       "      <td>0.994590</td>\n",
       "      <td>0.000457</td>\n",
       "    </tr>\n",
       "  </tbody>\n",
       "</table>\n",
       "<p>27 rows × 23 columns</p>\n",
       "</div>"
      ],
      "text/plain": [
       "    mean_fit_time  std_fit_time  mean_score_time  std_score_time  \\\n",
       "0        6.680025      0.127109         0.148908        0.026413   \n",
       "1        8.784406      0.312568         0.132490        0.005545   \n",
       "2        7.126194      0.813941         0.047791        0.004831   \n",
       "3       17.488237      0.900984         0.320653        0.039907   \n",
       "4       23.079675      2.653552         0.333500        0.063561   \n",
       "5       22.571741      3.775073         0.079692        0.024212   \n",
       "6       58.632815     10.507915         0.975384        0.298245   \n",
       "7       52.755048     10.310031         0.829626        0.217326   \n",
       "8       41.499863      1.783638         0.121180        0.030282   \n",
       "9       14.069415      1.075234         0.209432        0.022982   \n",
       "10      18.909915      1.127612         0.236808        0.040781   \n",
       "11      20.553737      0.712247         0.238343        0.022713   \n",
       "12      26.806193      0.943789         0.436272        0.029914   \n",
       "13      31.598181      3.393013         0.259889        0.055024   \n",
       "14      25.713192      2.445882         0.324153        0.116708   \n",
       "15      40.204183      3.139023         0.500359        0.111488   \n",
       "16      39.542729      0.898375         0.335169        0.044962   \n",
       "17      40.145730      0.748201         0.360495        0.082247   \n",
       "18       9.734227      0.551153         0.164877        0.035943   \n",
       "19      13.908559      1.329907         0.198511        0.067736   \n",
       "20      17.475973      1.048834         0.152547        0.011379   \n",
       "21      23.344826      2.442004         0.488592        0.121939   \n",
       "22      39.348968      1.986171         0.560709        0.119282   \n",
       "23      40.207036      2.189714         0.464574        0.071162   \n",
       "24      55.494746      1.824460         1.077740        0.248047   \n",
       "25      70.941075      3.885892         0.884020        0.094204   \n",
       "26      65.287981     11.946278         0.551491        0.209881   \n",
       "\n",
       "   param_learning_rate param_n_estimators param_subsample  \\\n",
       "0                    1                200             0.1   \n",
       "1                    1                200             0.5   \n",
       "2                    1                200               1   \n",
       "3                    1                400             0.1   \n",
       "4                    1                400             0.5   \n",
       "5                    1                400               1   \n",
       "6                    1                800             0.1   \n",
       "7                    1                800             0.5   \n",
       "8                    1                800               1   \n",
       "9                  0.1                200             0.1   \n",
       "10                 0.1                200             0.5   \n",
       "11                 0.1                200               1   \n",
       "12                 0.1                400             0.1   \n",
       "13                 0.1                400             0.5   \n",
       "14                 0.1                400               1   \n",
       "15                 0.1                800             0.1   \n",
       "16                 0.1                800             0.5   \n",
       "17                 0.1                800               1   \n",
       "18                0.01                200             0.1   \n",
       "19                0.01                200             0.5   \n",
       "20                0.01                200               1   \n",
       "21                0.01                400             0.1   \n",
       "22                0.01                400             0.5   \n",
       "23                0.01                400               1   \n",
       "24                0.01                800             0.1   \n",
       "25                0.01                800             0.5   \n",
       "26                0.01                800               1   \n",
       "\n",
       "                                               params  split0_test_score  \\\n",
       "0   {'learning_rate': 1, 'n_estimators': 200, 'sub...           0.220222   \n",
       "1   {'learning_rate': 1, 'n_estimators': 200, 'sub...           0.268006   \n",
       "2   {'learning_rate': 1, 'n_estimators': 200, 'sub...           0.973684   \n",
       "3   {'learning_rate': 1, 'n_estimators': 400, 'sub...           0.220222   \n",
       "4   {'learning_rate': 1, 'n_estimators': 400, 'sub...           0.268006   \n",
       "5   {'learning_rate': 1, 'n_estimators': 400, 'sub...           0.973684   \n",
       "6   {'learning_rate': 1, 'n_estimators': 800, 'sub...           0.220222   \n",
       "7   {'learning_rate': 1, 'n_estimators': 800, 'sub...           0.268006   \n",
       "8   {'learning_rate': 1, 'n_estimators': 800, 'sub...           0.973684   \n",
       "9   {'learning_rate': 0.1, 'n_estimators': 200, 's...           0.980609   \n",
       "10  {'learning_rate': 0.1, 'n_estimators': 200, 's...           0.981302   \n",
       "11  {'learning_rate': 0.1, 'n_estimators': 200, 's...           0.987535   \n",
       "12  {'learning_rate': 0.1, 'n_estimators': 400, 's...           0.979224   \n",
       "13  {'learning_rate': 0.1, 'n_estimators': 400, 's...           0.985457   \n",
       "14  {'learning_rate': 0.1, 'n_estimators': 400, 's...           0.989612   \n",
       "15  {'learning_rate': 0.1, 'n_estimators': 800, 's...           0.981994   \n",
       "16  {'learning_rate': 0.1, 'n_estimators': 800, 's...           0.988920   \n",
       "17  {'learning_rate': 0.1, 'n_estimators': 800, 's...           0.990997   \n",
       "18  {'learning_rate': 0.01, 'n_estimators': 200, '...           0.927285   \n",
       "19  {'learning_rate': 0.01, 'n_estimators': 200, '...           0.928670   \n",
       "20  {'learning_rate': 0.01, 'n_estimators': 200, '...           0.932133   \n",
       "21  {'learning_rate': 0.01, 'n_estimators': 400, '...           0.957064   \n",
       "22  {'learning_rate': 0.01, 'n_estimators': 400, '...           0.957064   \n",
       "23  {'learning_rate': 0.01, 'n_estimators': 400, '...           0.957064   \n",
       "24  {'learning_rate': 0.01, 'n_estimators': 800, '...           0.971607   \n",
       "25  {'learning_rate': 0.01, 'n_estimators': 800, '...           0.975762   \n",
       "26  {'learning_rate': 0.01, 'n_estimators': 800, '...           0.976454   \n",
       "\n",
       "    split1_test_score       ...         mean_test_score  std_test_score  \\\n",
       "0            0.138003       ...                0.238175        0.090272   \n",
       "1            0.042302       ...                0.251769        0.108515   \n",
       "2            0.972954       ...                0.969621        0.003715   \n",
       "3            0.138003       ...                0.238175        0.090272   \n",
       "4            0.042302       ...                0.251769        0.108515   \n",
       "5            0.972954       ...                0.969621        0.003715   \n",
       "6            0.138003       ...                0.238175        0.090272   \n",
       "7            0.042302       ...                0.251769        0.108515   \n",
       "8            0.972954       ...                0.969621        0.003715   \n",
       "9            0.966713       ...                0.971841        0.005157   \n",
       "10           0.980583       ...                0.981967        0.002187   \n",
       "11           0.978502       ...                0.981967        0.003076   \n",
       "12           0.972261       ...                0.974754        0.003740   \n",
       "13           0.985437       ...                0.985019        0.001789   \n",
       "14           0.983356       ...                0.985435        0.002445   \n",
       "15           0.979889       ...                0.981273        0.001307   \n",
       "16           0.988904       ...                0.988209        0.001752   \n",
       "17           0.987517       ...                0.987099        0.002182   \n",
       "18           0.932039       ...                0.920239        0.008050   \n",
       "19           0.929265       ...                0.919961        0.007900   \n",
       "20           0.934119       ...                0.923429        0.008025   \n",
       "21           0.945908       ...                0.946040        0.006672   \n",
       "22           0.948682       ...                0.950201        0.004436   \n",
       "23           0.952843       ...                0.951311        0.003275   \n",
       "24           0.963245       ...                0.965460        0.003566   \n",
       "25           0.968793       ...                0.971425        0.002350   \n",
       "26           0.971567       ...                0.972534        0.002010   \n",
       "\n",
       "    rank_test_score  split0_train_score  split1_train_score  \\\n",
       "0                25            0.220989            0.137853   \n",
       "1                22            0.261578            0.033119   \n",
       "2                12            1.000000            1.000000   \n",
       "3                25            0.220989            0.137853   \n",
       "4                22            0.261578            0.033119   \n",
       "5                12            1.000000            1.000000   \n",
       "6                25            0.220989            0.137853   \n",
       "7                22            0.261578            0.033119   \n",
       "8                12            1.000000            1.000000   \n",
       "9                10            0.998092            0.997226   \n",
       "10                5            1.000000            0.999827   \n",
       "11                5            1.000000            1.000000   \n",
       "12                8            1.000000            1.000000   \n",
       "13                4            1.000000            1.000000   \n",
       "14                3            1.000000            1.000000   \n",
       "15                7            1.000000            1.000000   \n",
       "16                1            1.000000            1.000000   \n",
       "17                2            1.000000            1.000000   \n",
       "18               20            0.930269            0.937923   \n",
       "19               21            0.939983            0.942604   \n",
       "20               19            0.942931            0.946593   \n",
       "21               18            0.962012            0.963413   \n",
       "22               17            0.973287            0.972603   \n",
       "23               16            0.975369            0.977978   \n",
       "24               15            0.987164            0.986822   \n",
       "25               11            0.993929            0.993064   \n",
       "26                9            0.994970            0.994451   \n",
       "\n",
       "    split2_train_score  split3_train_score  split4_train_score  \\\n",
       "0             0.283336            0.155193            0.392721   \n",
       "1             0.275533            0.301196            0.376256   \n",
       "2             1.000000            1.000000            1.000000   \n",
       "3             0.283336            0.155193            0.392721   \n",
       "4             0.275533            0.301196            0.376256   \n",
       "5             1.000000            1.000000            1.000000   \n",
       "6             0.283336            0.155193            0.392721   \n",
       "7             0.275533            0.301196            0.376256   \n",
       "8             1.000000            1.000000            1.000000   \n",
       "9             0.996532            0.997919            0.997054   \n",
       "10            0.999653            0.999653            0.999827   \n",
       "11            1.000000            0.999827            1.000000   \n",
       "12            1.000000            1.000000            1.000000   \n",
       "13            1.000000            1.000000            1.000000   \n",
       "14            1.000000            1.000000            1.000000   \n",
       "15            1.000000            1.000000            1.000000   \n",
       "16            1.000000            1.000000            1.000000   \n",
       "17            1.000000            1.000000            1.000000   \n",
       "18            0.940524            0.931854            0.931716   \n",
       "19            0.940524            0.934455            0.936395   \n",
       "20            0.943992            0.941564            0.944541   \n",
       "21            0.963413            0.962372            0.961179   \n",
       "22            0.971736            0.972603            0.971404   \n",
       "23            0.975724            0.977111            0.974350   \n",
       "24            0.985781            0.985261            0.985962   \n",
       "25            0.992197            0.992024            0.993588   \n",
       "26            0.993758            0.994971            0.994801   \n",
       "\n",
       "    mean_train_score  std_train_score  \n",
       "0           0.238019         0.092919  \n",
       "1           0.249537         0.115225  \n",
       "2           1.000000         0.000000  \n",
       "3           0.238019         0.092919  \n",
       "4           0.249537         0.115225  \n",
       "5           1.000000         0.000000  \n",
       "6           0.238019         0.092919  \n",
       "7           0.249537         0.115225  \n",
       "8           1.000000         0.000000  \n",
       "9           0.997364         0.000574  \n",
       "10          0.999792         0.000130  \n",
       "11          0.999965         0.000069  \n",
       "12          1.000000         0.000000  \n",
       "13          1.000000         0.000000  \n",
       "14          1.000000         0.000000  \n",
       "15          1.000000         0.000000  \n",
       "16          1.000000         0.000000  \n",
       "17          1.000000         0.000000  \n",
       "18          0.934457         0.004016  \n",
       "19          0.938792         0.002950  \n",
       "20          0.943924         0.001677  \n",
       "21          0.962478         0.000856  \n",
       "22          0.972326         0.000675  \n",
       "23          0.976106         0.001287  \n",
       "24          0.986198         0.000697  \n",
       "25          0.992960         0.000749  \n",
       "26          0.994590         0.000457  \n",
       "\n",
       "[27 rows x 23 columns]"
      ]
     },
     "execution_count": 24,
     "metadata": {},
     "output_type": "execute_result"
    }
   ],
   "source": [
    "pd.DataFrame(GV_GBC.cv_results_)"
   ]
  },
  {
   "cell_type": "code",
   "execution_count": 21,
   "metadata": {
    "ExecuteTime": {
     "end_time": "2017-05-10T01:13:58.145246Z",
     "start_time": "2017-05-10T01:13:58.137933Z"
    }
   },
   "outputs": [
    {
     "data": {
      "text/plain": [
       "GradientBoostingClassifier(criterion='friedman_mse', init=None,\n",
       "              learning_rate=0.1, loss='deviance', max_depth=3,\n",
       "              max_features=4, max_leaf_nodes=None,\n",
       "              min_impurity_decrease=0.0, min_impurity_split=None,\n",
       "              min_samples_leaf=1, min_samples_split=2,\n",
       "              min_weight_fraction_leaf=0.0, n_estimators=400,\n",
       "              n_iter_no_change=None, presort='auto', random_state=42,\n",
       "              subsample=0.5, tol=0.0001, validation_fraction=0.1,\n",
       "              verbose=0, warm_start=False)"
      ]
     },
     "execution_count": 21,
     "metadata": {},
     "output_type": "execute_result"
    }
   ],
   "source": [
    "# The best model\n",
    "GV_GBC.best_estimator_"
   ]
  },
  {
   "cell_type": "markdown",
   "metadata": {},
   "source": [
    "The error metrics. Classification report is particularly convenient for multi-class cases."
   ]
  },
  {
   "cell_type": "code",
   "execution_count": null,
   "metadata": {
    "ExecuteTime": {
     "end_time": "2017-05-10T01:14:00.156367Z",
     "start_time": "2017-05-10T01:13:59.716319Z"
    }
   },
   "outputs": [],
   "source": [
    "from sklearn.metrics import classification_report\n",
    "\n",
    "y_pred = GV_GBC.predict(X_test)\n",
    "print(classification_report(y_pred, y_test))"
   ]
  },
  {
   "cell_type": "markdown",
   "metadata": {},
   "source": [
    "The confusion matrix. Note that the gradient boosted model has a little trouble distinguishing between activity class 1 and 2."
   ]
  },
  {
   "cell_type": "code",
   "execution_count": null,
   "metadata": {
    "ExecuteTime": {
     "end_time": "2017-05-10T01:14:02.200468Z",
     "start_time": "2017-05-10T01:14:01.835016Z"
    }
   },
   "outputs": [],
   "source": [
    "from sklearn.metrics import confusion_matrix\n",
    "\n",
    "sns.set_context('talk')\n",
    "cm = confusion_matrix(y_test, y_pred)\n",
    "ax = sns.heatmap(cm, annot=True, fmt='d')"
   ]
  },
  {
   "cell_type": "markdown",
   "metadata": {},
   "source": [
    "## Question 5\n",
    "\n",
    "* Create an AdaBoost model and fit it using grid search, much like question 4. Try a range of estimators between 100 and 200.\n",
    "* Compare the errors from AdaBoost to those from the GradientBoostedClassifier.\n",
    "\n",
    "**NOTE:** Setting `max_features=4` in the decision tree classifier used as the base classifier for AdaBoost will increase the convergence rate."
   ]
  },
  {
   "cell_type": "code",
   "execution_count": null,
   "metadata": {
    "ExecuteTime": {
     "end_time": "2017-05-10T01:14:04.907337Z",
     "start_time": "2017-05-10T01:14:03.445697Z"
    },
    "collapsed": true
   },
   "outputs": [],
   "source": [
    "from sklearn.ensemble import AdaBoostClassifier\n",
    "from sklearn.tree import DecisionTreeClassifier\n",
    "\n",
    "ABC = AdaBoostClassifier(DecisionTreeClassifier(max_features=4))\n",
    "\n",
    "param_grid = {'n_estimators': [100, 150, 200],\n",
    "              'learning_rate': [0.01, 0.001]}\n",
    "\n",
    "GV_ABC = GridSearchCV(ABC,\n",
    "                      param_grid=param_grid, \n",
    "                      scoring='accuracy',\n",
    "                      n_jobs=-1)\n",
    "\n",
    "GV_ABC = GV_ABC.fit(X_train, y_train)"
   ]
  },
  {
   "cell_type": "markdown",
   "metadata": {},
   "source": [
    "The best model."
   ]
  },
  {
   "cell_type": "code",
   "execution_count": null,
   "metadata": {
    "ExecuteTime": {
     "end_time": "2017-05-10T01:14:27.449489Z",
     "start_time": "2017-05-10T01:14:27.441823Z"
    }
   },
   "outputs": [],
   "source": [
    "# The best model\n",
    "GV_ABC.best_estimator_"
   ]
  },
  {
   "cell_type": "markdown",
   "metadata": {},
   "source": [
    "The error metrics. Note that the issues with class 1 and 2 appear to have become more problematic and now include class 0. Also note other issues for classes 3 - 5. AdaBoost is very sensitive to outliers, so that could be the problem here."
   ]
  },
  {
   "cell_type": "code",
   "execution_count": null,
   "metadata": {
    "ExecuteTime": {
     "end_time": "2017-05-10T01:14:28.970078Z",
     "start_time": "2017-05-10T01:14:28.950952Z"
    }
   },
   "outputs": [],
   "source": [
    "y_pred = GV_ABC.predict(X_test)\n",
    "print(classification_report(y_pred, y_test))"
   ]
  },
  {
   "cell_type": "code",
   "execution_count": null,
   "metadata": {
    "ExecuteTime": {
     "end_time": "2017-05-10T01:14:30.262072Z",
     "start_time": "2017-05-10T01:14:29.908366Z"
    }
   },
   "outputs": [],
   "source": [
    "sns.set_context('talk')\n",
    "cm = confusion_matrix(y_test, y_pred)\n",
    "ax = sns.heatmap(cm, annot=True, fmt='d')"
   ]
  },
  {
   "cell_type": "markdown",
   "metadata": {},
   "source": [
    "## Question 6\n",
    "\n",
    "* Fit a logistic regression model with regularization. This can be a replica of a model that worked well in the exercises from week 4.\n",
    "* Using `VotingClassifier`, fit the logistic regression model along with either the GratientBoostedClassifier or the AdaBoost model (or both) from questions 4 and 5.\n",
    "* Determine the error as before and compare the results to the appropriate gradient boosted model(s).\n",
    "* Plot the confusion matrix for the best model created in this set of exercises."
   ]
  },
  {
   "cell_type": "code",
   "execution_count": null,
   "metadata": {
    "ExecuteTime": {
     "end_time": "2017-05-10T01:15:02.371973Z",
     "start_time": "2017-05-10T01:14:37.658154Z"
    },
    "collapsed": true
   },
   "outputs": [],
   "source": [
    "from sklearn.linear_model import LogisticRegressionCV\n",
    "\n",
    "# L2 regularized logistic regression\n",
    "LR_L2 = LogisticRegressionCV(Cs=5, cv=4, penalty='l2').fit(X_train, y_train)"
   ]
  },
  {
   "cell_type": "markdown",
   "metadata": {},
   "source": [
    "Check the errors and confusion matrix for the logistic regression model."
   ]
  },
  {
   "cell_type": "code",
   "execution_count": null,
   "metadata": {
    "ExecuteTime": {
     "end_time": "2017-05-10T01:16:54.633111Z",
     "start_time": "2017-05-10T01:16:54.616577Z"
    },
    "scrolled": true
   },
   "outputs": [],
   "source": [
    "y_pred = LR_L2.predict(X_test)\n",
    "print(classification_report(y_pred, y_test))"
   ]
  },
  {
   "cell_type": "code",
   "execution_count": null,
   "metadata": {
    "ExecuteTime": {
     "end_time": "2017-05-10T01:16:55.955121Z",
     "start_time": "2017-05-10T01:16:55.620672Z"
    }
   },
   "outputs": [],
   "source": [
    "sns.set_context('talk')\n",
    "cm = confusion_matrix(y_test, y_pred)\n",
    "ax = sns.heatmap(cm, annot=True, fmt='d')"
   ]
  },
  {
   "cell_type": "markdown",
   "metadata": {},
   "source": [
    "And now the stacked model."
   ]
  },
  {
   "cell_type": "code",
   "execution_count": null,
   "metadata": {
    "ExecuteTime": {
     "end_time": "2017-05-10T01:18:06.520265Z",
     "start_time": "2017-05-10T01:16:57.388412Z"
    },
    "collapsed": true
   },
   "outputs": [],
   "source": [
    "from sklearn.ensemble import VotingClassifier\n",
    "\n",
    "# The combined model--logistic regression and gradient boosted trees\n",
    "estimators = [('LR_L2', LR_L2), ('GBC', GV_GBC)]\n",
    "\n",
    "# Though it wasn't done here, it is often desirable to train \n",
    "# this model using an additional hold-out data set and/or with cross validation\n",
    "VC = VotingClassifier(estimators, voting='soft')\n",
    "VC = VC.fit(X_train, y_train)"
   ]
  },
  {
   "cell_type": "markdown",
   "metadata": {},
   "source": [
    "Finally the error on the voting classifier. We do a little better here than with either logistic regression or gradient boosted trees alone. However, the fact that logistic regression does almost as well as gradient boosted trees is an important reminder that it's good practice to try the simplest model first. In some cases, its performance will be good enough."
   ]
  },
  {
   "cell_type": "code",
   "execution_count": null,
   "metadata": {
    "ExecuteTime": {
     "end_time": "2017-05-10T01:19:50.917331Z",
     "start_time": "2017-05-10T01:19:50.524569Z"
    }
   },
   "outputs": [],
   "source": [
    "y_pred = VC.predict(X_test)\n",
    "print(classification_report(y_test, y_pred))"
   ]
  },
  {
   "cell_type": "code",
   "execution_count": null,
   "metadata": {
    "ExecuteTime": {
     "end_time": "2017-05-10T01:19:54.468316Z",
     "start_time": "2017-05-10T01:19:54.089180Z"
    }
   },
   "outputs": [],
   "source": [
    "sns.set_context('talk')\n",
    "cm = confusion_matrix(y_test, y_pred)\n",
    "ax = sns.heatmap(cm, annot=True, fmt='d')"
   ]
  },
  {
   "cell_type": "markdown",
   "metadata": {},
   "source": [
    "## Question 7\n",
    "* Import the iris data and examine the features.\n",
    "* We will be using all of them to predict species, but the species feature will need to be integer encoded.\n",
    "* Download iris.csv from https://www.kaggle.com/uciml/iris/data/  and rename it as Iris_Data.csv"
   ]
  },
  {
   "cell_type": "code",
   "execution_count": null,
   "metadata": {
    "collapsed": true
   },
   "outputs": [],
   "source": []
  },
  {
   "cell_type": "markdown",
   "metadata": {},
   "source": [
    "Convert the species feature to an integer. This is a quick way to do it using Pandas."
   ]
  },
  {
   "cell_type": "code",
   "execution_count": null,
   "metadata": {
    "collapsed": true
   },
   "outputs": [],
   "source": []
  },
  {
   "cell_type": "markdown",
   "metadata": {},
   "source": [
    "## Question 8\n",
    "\n",
    "* Use `StratifiedShuffleSplit` to split data into train and test sets that are stratified by species. If possible, preserve the indices of the split for question 11 below.\n",
    "* Check the percent composition of each species level for both the train and test data sets."
   ]
  },
  {
   "cell_type": "code",
   "execution_count": null,
   "metadata": {
    "collapsed": true
   },
   "outputs": [],
   "source": [
    "# All data columns except for species\n"
   ]
  },
  {
   "cell_type": "code",
   "execution_count": null,
   "metadata": {
    "collapsed": true
   },
   "outputs": [],
   "source": []
  },
  {
   "cell_type": "markdown",
   "metadata": {},
   "source": [
    "Now check the percent composition of target class in the train and test iris_data sets."
   ]
  },
  {
   "cell_type": "code",
   "execution_count": null,
   "metadata": {
    "collapsed": true
   },
   "outputs": [],
   "source": []
  },
  {
   "cell_type": "code",
   "execution_count": null,
   "metadata": {
    "collapsed": true
   },
   "outputs": [],
   "source": []
  },
  {
   "cell_type": "markdown",
   "metadata": {
    "run_control": {
     "marked": true
    }
   },
   "source": [
    "## Question 9\n",
    "\n",
    "* Fit gradient boosted tree models with all parameters set to their defaults the following tree numbers (`n_estimators = [25, 50, 100, 200, 400]`) and evaluate the accuracy on the test data for each of these models. \n",
    "* Plot the accuracy as a function of estimator number.\n",
    "\n",
    "**Note:** This question may take some time to execute, depending on how many different values are fit for estimators. Setting `max_features=4` in the gradient boosting classifier will increase the convergence rate.\n",
    "\n",
    "Also, this is similar to question 9 from week 9, except that there is no such thing as out-of-bag error for boosted models. And the `warm_flag=True` setting has a bug in the gradient boosted model, so don't use it. Simply create the model inside the `for` loop and set the number of estimators at this time. This will make the fitting take a little longer. Additionally, boosting models tend to take longer to fit than bagged ones because the decision stumps must be fit successively."
   ]
  },
  {
   "cell_type": "code",
   "execution_count": null,
   "metadata": {
    "ExecuteTime": {
     "end_time": "2017-05-10T01:12:11.212764Z",
     "start_time": "2017-05-10T01:11:51.188370Z"
    },
    "collapsed": true,
    "run_control": {
     "marked": true
    }
   },
   "outputs": [],
   "source": [
    "from sklearn.ensemble import GradientBoostingClassifier\n",
    "from sklearn.metrics import accuracy_score\n",
    "\n"
   ]
  },
  {
   "cell_type": "markdown",
   "metadata": {},
   "source": [
    "Now plot the result."
   ]
  },
  {
   "cell_type": "code",
   "execution_count": null,
   "metadata": {
    "ExecuteTime": {
     "end_time": "2017-05-10T01:12:41.798817Z",
     "start_time": "2017-05-10T01:12:41.526579Z"
    },
    "collapsed": true
   },
   "outputs": [],
   "source": [
    "import matplotlib.pyplot as plt\n",
    "import seaborn as sns\n",
    "\n",
    "% matplotlib inline"
   ]
  },
  {
   "cell_type": "code",
   "execution_count": null,
   "metadata": {
    "ExecuteTime": {
     "end_time": "2017-05-10T01:12:59.958013Z",
     "start_time": "2017-05-10T01:12:59.668178Z"
    },
    "collapsed": true,
    "run_control": {
     "marked": true
    }
   },
   "outputs": [],
   "source": []
  },
  {
   "cell_type": "markdown",
   "metadata": {
    "run_control": {
     "marked": true
    }
   },
   "source": [
    "## Question 10\n",
    "\n",
    "* Using a grid search with cross-validation, fit a new gradient boosted classifier with the a list of estimators, similar to question 9. Also consider  varying the learning rates (0.1, 0.01, 0.001, etc.), the subsampling value (1.0 or 0.5), and the number of maximum features (1, 2, etc.).\n",
    "* Examine the parameters of the best fit model.\n",
    "* Calculate relevant error metrics on this model and examine the confusion matrix.\n",
    "\n",
    "**Note:** this question may take some time to execute, depending on how many features are associated with the grid search. It is recommended to start with only a few to ensure everything is working correctly and then add more features. Setting `max_features=4` in the gradient boosting classifier will increase the convergence rate."
   ]
  },
  {
   "cell_type": "code",
   "execution_count": null,
   "metadata": {
    "ExecuteTime": {
     "end_time": "2017-05-10T01:13:50.069924Z",
     "start_time": "2017-05-10T01:13:04.015520Z"
    },
    "collapsed": true,
    "run_control": {
     "marked": true
    }
   },
   "outputs": [],
   "source": [
    "from sklearn.model_selection import GridSearchCV\n",
    "\n"
   ]
  },
  {
   "cell_type": "code",
   "execution_count": null,
   "metadata": {
    "ExecuteTime": {
     "end_time": "2017-05-10T01:13:58.145246Z",
     "start_time": "2017-05-10T01:13:58.137933Z"
    },
    "collapsed": true
   },
   "outputs": [],
   "source": [
    "# The best model\n"
   ]
  },
  {
   "cell_type": "markdown",
   "metadata": {},
   "source": [
    "The error metrics. Classification report is particularly convenient for multi-class cases."
   ]
  },
  {
   "cell_type": "code",
   "execution_count": null,
   "metadata": {
    "ExecuteTime": {
     "end_time": "2017-05-10T01:14:00.156367Z",
     "start_time": "2017-05-10T01:13:59.716319Z"
    },
    "collapsed": true
   },
   "outputs": [],
   "source": [
    "from sklearn.metrics import classification_report\n",
    "\n"
   ]
  },
  {
   "cell_type": "markdown",
   "metadata": {},
   "source": [
    "The confusion matrix. Note that the gradient boosted model has a little trouble distinguishing between species  class 0,1 and 2."
   ]
  },
  {
   "cell_type": "code",
   "execution_count": null,
   "metadata": {
    "ExecuteTime": {
     "end_time": "2017-05-10T01:14:02.200468Z",
     "start_time": "2017-05-10T01:14:01.835016Z"
    },
    "collapsed": true
   },
   "outputs": [],
   "source": [
    "from sklearn.metrics import confusion_matrix\n"
   ]
  },
  {
   "cell_type": "markdown",
   "metadata": {},
   "source": [
    "## Question 11\n",
    "\n",
    "* Create an AdaBoost model and fit it using grid search, much like question 10. Try a range of estimators between 100 and 200.\n",
    "* Compare the errors from AdaBoost to those from the GradientBoostedClassifier.\n",
    "\n",
    "**NOTE:** Setting `max_features=4` in the decision tree classifier used as the base classifier for AdaBoost will increase the convergence rate."
   ]
  },
  {
   "cell_type": "code",
   "execution_count": null,
   "metadata": {
    "ExecuteTime": {
     "end_time": "2017-05-10T01:14:04.907337Z",
     "start_time": "2017-05-10T01:14:03.445697Z"
    },
    "collapsed": true
   },
   "outputs": [],
   "source": [
    "from sklearn.ensemble import AdaBoostClassifier\n",
    "from sklearn.tree import DecisionTreeClassifier\n",
    "\n"
   ]
  },
  {
   "cell_type": "markdown",
   "metadata": {},
   "source": [
    "The best model."
   ]
  },
  {
   "cell_type": "code",
   "execution_count": null,
   "metadata": {
    "ExecuteTime": {
     "end_time": "2017-05-10T01:14:27.449489Z",
     "start_time": "2017-05-10T01:14:27.441823Z"
    },
    "collapsed": true
   },
   "outputs": [],
   "source": [
    "# The best model\n"
   ]
  },
  {
   "cell_type": "markdown",
   "metadata": {},
   "source": [
    "The error metrics. Note that the issues with class 0,1 and 2 appear to have become more problematic and now include class 0. AdaBoost is very sensitive to outliers, so that could be the problem here."
   ]
  },
  {
   "cell_type": "code",
   "execution_count": null,
   "metadata": {
    "ExecuteTime": {
     "end_time": "2017-05-10T01:14:28.970078Z",
     "start_time": "2017-05-10T01:14:28.950952Z"
    },
    "collapsed": true
   },
   "outputs": [],
   "source": []
  },
  {
   "cell_type": "code",
   "execution_count": null,
   "metadata": {
    "ExecuteTime": {
     "end_time": "2017-05-10T01:14:30.262072Z",
     "start_time": "2017-05-10T01:14:29.908366Z"
    },
    "collapsed": true
   },
   "outputs": [],
   "source": []
  },
  {
   "cell_type": "markdown",
   "metadata": {},
   "source": [
    "## Question 12\n",
    "\n",
    "* Fit a logistic regression model with regularization. This can be a replica of a model that worked well in the exercises from week 4.\n",
    "* Using `VotingClassifier`, fit the logistic regression model along with either the GratientBoostedClassifier or the AdaBoost model (or both) from questions 10 and 11.\n",
    "* Determine the error as before and compare the results to the appropriate gradient boosted model(s).\n",
    "* Plot the confusion matrix for the best model created in this set of exercises."
   ]
  },
  {
   "cell_type": "code",
   "execution_count": null,
   "metadata": {
    "ExecuteTime": {
     "end_time": "2017-05-10T01:15:02.371973Z",
     "start_time": "2017-05-10T01:14:37.658154Z"
    },
    "collapsed": true
   },
   "outputs": [],
   "source": [
    "from sklearn.linear_model import LogisticRegressionCV\n",
    "\n",
    "# L2 regularized logistic regression\n"
   ]
  },
  {
   "cell_type": "markdown",
   "metadata": {},
   "source": [
    "Check the errors and confusion matrix for the logistic regression model."
   ]
  },
  {
   "cell_type": "code",
   "execution_count": null,
   "metadata": {
    "ExecuteTime": {
     "end_time": "2017-05-10T01:16:54.633111Z",
     "start_time": "2017-05-10T01:16:54.616577Z"
    },
    "collapsed": true,
    "scrolled": true
   },
   "outputs": [],
   "source": []
  },
  {
   "cell_type": "code",
   "execution_count": null,
   "metadata": {
    "ExecuteTime": {
     "end_time": "2017-05-10T01:16:55.955121Z",
     "start_time": "2017-05-10T01:16:55.620672Z"
    },
    "collapsed": true
   },
   "outputs": [],
   "source": []
  },
  {
   "cell_type": "markdown",
   "metadata": {},
   "source": [
    "And now the stacked model."
   ]
  },
  {
   "cell_type": "code",
   "execution_count": null,
   "metadata": {
    "ExecuteTime": {
     "end_time": "2017-05-10T01:18:06.520265Z",
     "start_time": "2017-05-10T01:16:57.388412Z"
    },
    "collapsed": true
   },
   "outputs": [],
   "source": [
    "from sklearn.ensemble import VotingClassifier\n",
    "\n"
   ]
  },
  {
   "cell_type": "markdown",
   "metadata": {},
   "source": [
    "Finally the error on the voting classifier. We do a little better here than with either logistic regression or gradient boosted trees alone. However, the fact that logistic regression does almost as well as gradient boosted trees is an important reminder that it's good practice to try the simplest model first. In some cases, its performance will be good enough."
   ]
  },
  {
   "cell_type": "code",
   "execution_count": null,
   "metadata": {
    "ExecuteTime": {
     "end_time": "2017-05-10T01:19:50.917331Z",
     "start_time": "2017-05-10T01:19:50.524569Z"
    },
    "collapsed": true
   },
   "outputs": [],
   "source": []
  }
 ],
 "metadata": {
  "kernelspec": {
   "display_name": "Python 3",
   "language": "python",
   "name": "python3"
  },
  "language_info": {
   "codemirror_mode": {
    "name": "ipython",
    "version": 3
   },
   "file_extension": ".py",
   "mimetype": "text/x-python",
   "name": "python",
   "nbconvert_exporter": "python",
   "pygments_lexer": "ipython3",
   "version": "3.6.6"
  }
 },
 "nbformat": 4,
 "nbformat_minor": 2
}
